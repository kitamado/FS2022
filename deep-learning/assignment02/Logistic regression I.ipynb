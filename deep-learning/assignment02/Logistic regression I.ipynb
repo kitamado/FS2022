{
 "cells": [
  {
   "cell_type": "markdown",
   "id": "bff8bb53",
   "metadata": {},
   "source": [
    "# Logistic regression I: MNIST\n",
    "\n",
    "In this notebook, you will implement a logistic regression and train it to distinguish between two types of digits of the MNIST dataset.\n",
    "\n",
    "First, the standard imports:"
   ]
  },
  {
   "cell_type": "code",
   "execution_count": 1,
   "id": "fc34433e",
   "metadata": {},
   "outputs": [],
   "source": [
    "%matplotlib inline\n",
    "\n",
    "import matplotlib.pyplot as plt\n",
    "\n",
    "import torch as th\n",
    "from torchvision.datasets import MNIST\n",
    "from torchvision.utils import make_grid\n",
    "\n",
    "from sklearn import metrics\n",
    "\n",
    "plt.rcParams[\"figure.figsize\"] = (9, 6)"
   ]
  },
  {
   "cell_type": "markdown",
   "id": "0efbee92",
   "metadata": {},
   "source": [
    "## Dataset loading\n",
    "\n",
    "We will use the MNIST dataset available in `torchvision`:"
   ]
  },
  {
   "cell_type": "code",
   "execution_count": 2,
   "id": "54fcc137",
   "metadata": {},
   "outputs": [
    {
     "name": "stdout",
     "output_type": "stream",
     "text": [
      "Downloading http://yann.lecun.com/exdb/mnist/train-images-idx3-ubyte.gz to ./datasets/MNIST/raw/train-images-idx3-ubyte.gz\n"
     ]
    },
    {
     "data": {
      "application/vnd.jupyter.widget-view+json": {
       "model_id": "4121ad66aa544422ba3fba298d36a7b4",
       "version_major": 2,
       "version_minor": 0
      },
      "text/plain": [
       "0it [00:00, ?it/s]"
      ]
     },
     "metadata": {},
     "output_type": "display_data"
    },
    {
     "name": "stdout",
     "output_type": "stream",
     "text": [
      "Extracting ./datasets/MNIST/raw/train-images-idx3-ubyte.gz to ./datasets/MNIST/raw\n",
      "Downloading http://yann.lecun.com/exdb/mnist/train-labels-idx1-ubyte.gz to ./datasets/MNIST/raw/train-labels-idx1-ubyte.gz\n"
     ]
    },
    {
     "data": {
      "application/vnd.jupyter.widget-view+json": {
       "model_id": "26435344975343e6932e352498ffba0e",
       "version_major": 2,
       "version_minor": 0
      },
      "text/plain": [
       "0it [00:00, ?it/s]"
      ]
     },
     "metadata": {},
     "output_type": "display_data"
    },
    {
     "name": "stdout",
     "output_type": "stream",
     "text": [
      "Extracting ./datasets/MNIST/raw/train-labels-idx1-ubyte.gz to ./datasets/MNIST/raw\n",
      "Downloading http://yann.lecun.com/exdb/mnist/t10k-images-idx3-ubyte.gz to ./datasets/MNIST/raw/t10k-images-idx3-ubyte.gz\n"
     ]
    },
    {
     "data": {
      "application/vnd.jupyter.widget-view+json": {
       "model_id": "9dd0aced84124e61814aabc3298ed5af",
       "version_major": 2,
       "version_minor": 0
      },
      "text/plain": [
       "0it [00:00, ?it/s]"
      ]
     },
     "metadata": {},
     "output_type": "display_data"
    },
    {
     "name": "stdout",
     "output_type": "stream",
     "text": [
      "Extracting ./datasets/MNIST/raw/t10k-images-idx3-ubyte.gz to ./datasets/MNIST/raw\n",
      "Downloading http://yann.lecun.com/exdb/mnist/t10k-labels-idx1-ubyte.gz to ./datasets/MNIST/raw/t10k-labels-idx1-ubyte.gz\n"
     ]
    },
    {
     "data": {
      "application/vnd.jupyter.widget-view+json": {
       "model_id": "9e71841edf7d4de0bc2fe48ceaa80761",
       "version_major": 2,
       "version_minor": 0
      },
      "text/plain": [
       "0it [00:00, ?it/s]"
      ]
     },
     "metadata": {},
     "output_type": "display_data"
    },
    {
     "name": "stdout",
     "output_type": "stream",
     "text": [
      "Extracting ./datasets/MNIST/raw/t10k-labels-idx1-ubyte.gz to ./datasets/MNIST/raw\n",
      "Processing...\n",
      "Done!\n"
     ]
    },
    {
     "name": "stderr",
     "output_type": "stream",
     "text": [
      "/Users/a0/anaconda3/lib/python3.7/site-packages/torchvision/datasets/mnist.py:480: UserWarning: The given NumPy array is not writeable, and PyTorch does not support non-writeable tensors. This means you can write to the underlying (supposedly non-writeable) NumPy array using the tensor. You may want to copy the array to protect its data or make it writeable before converting it to a tensor. This type of warning will be suppressed for the rest of this program. (Triggered internally at  /Users/distiller/project/conda/conda-bld/pytorch_1607370126481/work/torch/csrc/utils/tensor_numpy.cpp:141.)\n",
      "  return torch.from_numpy(parsed.astype(m[2], copy=False)).view(*s)\n"
     ]
    }
   ],
   "source": [
    "mnist_train = MNIST(\"./datasets\", train=True, download=True)\n",
    "mnist_test = MNIST(\"./datasets\", train=False)"
   ]
  },
  {
   "cell_type": "markdown",
   "id": "6028afb3",
   "metadata": {},
   "source": [
    "The training dataset is made of 60k images of $28\\times{}28$ pixels. The test set contains 10k images."
   ]
  },
  {
   "cell_type": "code",
   "execution_count": 3,
   "id": "b47e874b",
   "metadata": {},
   "outputs": [
    {
     "data": {
      "text/plain": [
       "(torch.Size([60000, 28, 28]), torch.Size([10000, 28, 28]))"
      ]
     },
     "execution_count": 3,
     "metadata": {},
     "output_type": "execute_result"
    }
   ],
   "source": [
    "mnist_train.data.shape, mnist_test.data.shape"
   ]
  },
  {
   "cell_type": "markdown",
   "id": "00ac1b8a",
   "metadata": {},
   "source": [
    "As we did in the previous assignment, we vectorize all the images (concatenating their pixels in a sigle row) and consider that they are elements of the Euclidean space $\\mathbb{R}^{784}$. Also, we extract their target values."
   ]
  },
  {
   "cell_type": "code",
   "execution_count": 4,
   "id": "184d7256",
   "metadata": {},
   "outputs": [
    {
     "name": "stdout",
     "output_type": "stream",
     "text": [
      "torch.Size([60000, 784]) torch.Size([10000, 784])\n"
     ]
    }
   ],
   "source": [
    "data_train = th.reshape(mnist_train.data, (-1, 28**2))\n",
    "data_test = th.reshape(mnist_test.data, (-1, 28**2))\n",
    "\n",
    "target_train = mnist_train.targets\n",
    "target_test = mnist_test.targets\n",
    "\n",
    "print(data_train.shape, data_test.shape)"
   ]
  },
  {
   "cell_type": "markdown",
   "id": "9b6af30b",
   "metadata": {},
   "source": [
    "## Data preprocessing\n",
    "\n",
    "As we saw in the first week, in classical computer vision problems it was necessary to compute relevant features from the images before feeding them to a machine learning model. This had two main goals: first, to reduce the dimensionality of the input space to prevent the _curse of dimensionality_; second, to reduce the variance of the model by making it robust to fluctuations of the input data that are not related to the variable of interest (for example, noise). For the MNIST dataset we could extract features such as the width of the digit, the proportion of white pixels in the image, the distribution of vertical/horizontal/diagonal segments or the number of black connected components (i.e., the number of holes of the digit). As we saw, the downside of feature extraction is that it is problem-dependent and requires a considerable amount of human effort.\n",
    "\n",
    "Instead of designing a method for feature extraction, in this assignment we will follow the modern deep learning approach and feed the logistic classifier with raw pixel values (logistic regression is a simple neural network, after all). However, as we saw in class, this is not completely straighforward: the gradients of logistic regression are very small when the weights and the input values are not scaled properly, leading to extremely slow training progression. Therefore, you should ensure that the pixel values you will feed to the classifier have an appropriate range, avoiding very large values."
   ]
  },
  {
   "cell_type": "markdown",
   "id": "486ee84e",
   "metadata": {},
   "source": [
    "### <font color='orange'>Question 1</font>\n",
    "\n",
    "Check the range of the image data and rescale it to the range (0, 1) if it is necessary. Apply the same transformation to both the training and test data. Save the results in the variables `data_train` and `data_test`.\n",
    "\n",
    "There are several options to do this: you can divide by the largest value allowed by the data type of the datasets (the easiest approach), or you can divide by the largest value that is present in the training dataset.\n",
    "\n",
    "Note that if your transformation depends on a value computed over a dataset (for example, the maximum value of the dataset), you MUST compute that value using only the training dataset. Otherwise, you might be leaking information from the test set to the training procedure."
   ]
  },
  {
   "cell_type": "code",
   "execution_count": 5,
   "id": "ba000491",
   "metadata": {},
   "outputs": [],
   "source": [
    "# divide by the largest value allowed by the data type of the datasets\n",
    "# The images are loaded as uint8 in the range [0, 255]. Rescale them to [0.0, 1.0]\n",
    "data_train = data_train.data / 255.0\n",
    "data_test = data_test.data / 255.0"
   ]
  },
  {
   "cell_type": "markdown",
   "id": "b3f64dfa",
   "metadata": {},
   "source": [
    "___\n",
    "\n",
    "### <font color='orange'>Question 2</font>\n",
    "\n",
    "Logistic regression is a binary classifier, but MNIST has 10 classes. We will follow a one-vs-rest approach and build a model that distinguishes one digit vs. the rest. Pick one digit and set it to the variables `class1`. This digit will get the label 1, while the rest of digits will get the label 0.\n",
    "\n",
    "Build the target variables `target01_train` and `target01_test` with binary values 1 and 0 indicating whether the corresponding digit is `class1` or not. That is, `target01_train` should be 1 where `target_train` is `class1`, and `data_train[target01_train == 1]` should return all the samples of the `class1`.\n",
    "\n",
    "Visualize a few samples of each class (you can use `torchvision.utils.make_grid` for this, or plot the samples manually). Show at least 9 samples with `target01_train==0` and 9 samples with `target01_train==1`. Note that you will need `torch.reshape` and perhaps `torch.permute` to provide `plt.imshow` a proper shape it can work with."
   ]
  },
  {
   "cell_type": "code",
   "execution_count": 6,
   "id": "33b52053",
   "metadata": {},
   "outputs": [],
   "source": [
    "class1 = 6  # Change this to the digit you want to use as class 1. The rest of the digits will be class 0.\n",
    "\n",
    "# Create the target variables target01_train and target01_test according to the value of class1.\n",
    "target01_train = target_train == class1\n",
    "# class1_train = data_train[target01_train == 1]\n",
    "target01_test = target_test == class1"
   ]
  },
  {
   "cell_type": "code",
   "execution_count": 7,
   "id": "a68f8ea6",
   "metadata": {},
   "outputs": [
    {
     "data": {
      "image/png": "[encoded data removed]",
      "text/plain": [
       "<Figure size 648x432 with 1 Axes>"
      ]
     },
     "metadata": {
      "needs_background": "light"
     },
     "output_type": "display_data"
    }
   ],
   "source": [
    "# Plot some samples of class 0\n",
    "example_0 = data_train[target01_train == 0]\n",
    "example_0 = example_0.reshape(-1,28,28)\n",
    "plt.imshow(make_grid(example_0[:9,None]*255, nrow=3, pad_value=255)[0])\n",
    "plt.show()"
   ]
  },
  {
   "cell_type": "code",
   "execution_count": 8,
   "id": "c043fdc2",
   "metadata": {},
   "outputs": [
    {
     "data": {
      "image/png": "[encoded data removed]",
      "text/plain": [
       "<Figure size 648x432 with 1 Axes>"
      ]
     },
     "metadata": {
      "needs_background": "light"
     },
     "output_type": "display_data"
    }
   ],
   "source": [
    "# Plot some samples of class 1\n",
    "example_1 = data_train[target01_train == 1]\n",
    "example_1 = example_1.reshape(-1,28,28)\n",
    "plt.imshow(make_grid(example_1[:9,None]*255, nrow=3, pad_value=255)[0])\n",
    "plt.show()"
   ]
  },
  {
   "cell_type": "markdown",
   "id": "1b712b32",
   "metadata": {},
   "source": [
    "___\n",
    "\n",
    "## Logistic regression"
   ]
  },
  {
   "cell_type": "markdown",
   "id": "9c7d8226",
   "metadata": {},
   "source": [
    "Remember that logistic regression consists of a linear (actually, affine) transformation of the input vector `x` with the weights `w` and a bias `b`, followed by the logistic function that shrinks the output range to the range (0, 1),\n",
    "$$f(\\mathbf{x};\\mathbf{w}, b) = \\sigma(\\mathbf{x}^T\\cdot\\mathbf{w} + b).$$\n",
    "\n",
    "This equation is expressed for a single input sample $\\mathbf{x}$, but in practical implementatios with PyTorch it is necessary that our models are able to process multiple elements simultaneously using tensor operations. The goal of the next exercise is to implement the logistic regression model in such a way that it can deal simultaneously with many input samples, and not just with one.\n",
    "\n",
    "### <font color='orange'>Question 3</font>\n",
    "\n",
    "Implement a function `logistic_regression` that receives an input tensor `x` with shape `(num_samples, num_dims)`, a tensor `weights` with shape `(num_dims,)`, a scalar tensor `bias`, and returns the output of the logistic regression with shape `(num_samples,)` for all the elements of `x`.\n",
    "\n",
    "Hint: use the `@` operator to deal with `x` and `weights`.\n",
    "\n",
    "Hint: you can use `torch.sigmoid` to apply the logistic function or you can implement it manually.\n"
   ]
  },
  {
   "cell_type": "code",
   "execution_count": 9,
   "id": "8e7c6aee",
   "metadata": {},
   "outputs": [],
   "source": [
    "def logistic_regression(x: th.Tensor, weights: th.Tensor, bias: th.Tensor) -> th.Tensor:\n",
    "    return th.sigmoid(x @ weights + bias)\n"
   ]
  },
  {
   "cell_type": "markdown",
   "id": "c09e558d",
   "metadata": {},
   "source": [
    "___\n",
    "\n",
    "As we discussed in class, the output of the logistic regression is interpreted as the probability parameter $\\hat{p}=f(\\mathbf{x};\\mathbf{w}, b)$ of a Bernoulli distribution:\n",
    "$$p(y\\mid \\hat{p})=\\cases{1-\\hat{p} & if y=0\\\\ \\hat{p} & if y=1}.$$\n",
    "\n",
    "The cross-entropy loss is the $-\\log$ of the probability of the correct answer:\n",
    "$$ \\ell(y, \\hat{p}) = -\\log p(y\\mid \\hat{p}) = \\cases{-\\log 1-\\hat{p} & if y=0\\\\ -\\log \\hat{p} & if y=1}.$$\n",
    "\n",
    "As above, the implementation of the loss function needs to deal with multiple elements simultaneously for efficiency.\n",
    "\n",
    "### <font color='orange'>Question 4</font>\n",
    "\n",
    "Implement the function `binary_cross_entropy` that receives the tensor `p_hat` of shape `(num_samples,)` and type `float` containing the predictions from the logistic regression, and the tensor `y` of the same shape and type `int` containing the correct answer for each element, and computes the **mean** of the cross-entropy losses across all the elements.\n",
    "\n",
    "Hint: use `torch.where` to select between $-\\log \\hat{p}$ and $-\\log (1-\\hat{p})$ according to `y`."
   ]
  },
  {
   "cell_type": "code",
   "execution_count": 10,
   "id": "328acb2e",
   "metadata": {},
   "outputs": [],
   "source": [
    "def binary_cross_entropy(p_hat, y):\n",
    "    losses = th.where(y==1, -th.log(p_hat), -th.log(1-p_hat))\n",
    "    return losses.mean()"
   ]
  },
  {
   "cell_type": "markdown",
   "id": "ef63a4f2",
   "metadata": {},
   "source": [
    "___\n",
    "\n",
    "## Training with gradient descent\n",
    "\n",
    "### <font color='orange'>Question 5</font>\n",
    "\n",
    "Write code to minimize the loss\n",
    "$$\\min_{\\mathbf{w}, b} \\sum_i \\ell(y^{(i)}, f(\\mathbf{x}^{(i)}; \\mathbf{w}, b))$$\n",
    "using gradient descent. The training set should be `data_train` with the labels `target01_train` that you created in Question 2.\n",
    "\n",
    "This code should\n",
    "\n",
    "1. Create the tensors of weights and bias with the proper shapes. The initialization of parameters is not a simple topic and we will look at it in more depth in a future class. For now, initializate the weights with random Gaussian values (use `torch.randn`) divided by the number of dimensions (i.e., `th.randn(...) / 784`), and initialize the bias to 0.\n",
    "2. Enable the gradient computation for these two tensors calling `.requires_grad_()`.\n",
    "3. Set a learning rate $\\eta$.\n",
    "4. Initialize an empty list `losses` to store intermediate losses and plot them later.\n",
    "5. Repeat `num_iterations` times:\n",
    "    1. Compute the loss for the entire training data.\n",
    "    2. Compute the gradients calling `.backward()` in the loss tensor.\n",
    "    3. Update the weights and the bias with the computed gradients using the gradient descent update rule. Remember to do so in a `torch.no_grad()` context and set the gradients `.grad` to `None` after the update.\n",
    "    4. Store the loss into `losses`. Remember to call `.detach()` to store just the value of the tensor and not the computational graph.\n",
    "    5. You might want to set a stopping criterion that ends training when the changes to the training loss are below a threshold (e.g., `th.abs(losses[-1] - losses[-2]) < 1e-8`), but this is optional.\n",
    "6. Plot `losses` and check whether/how the training loss decreased during training.\n",
    "\n",
    "You might need to try a few values for the learning rate $\\eta$ and the number of iterations so that the evolution of the training loss looks smooth and converges to an almost constant value. Changes to the learning rate are significant in a logarithmic scale (e.g., $10^{-4}, 10^{-3}, 10^{-2}, 10^{-1}, 10^0, \\ldots$), not in a linear scale (e.g., $0.1, 0.2, 0.3, \\ldots$). When searching for a good learning rate use a logarithmic scale."
   ]
  },
  {
   "cell_type": "code",
   "execution_count": 11,
   "id": "e277b407-cebb-45da-8fb1-7d45ae9ce6cf",
   "metadata": {},
   "outputs": [
    {
     "name": "stdout",
     "output_type": "stream",
     "text": [
      "tensor(0.0531)\n"
     ]
    },
    {
     "data": {
      "image/png": "[encoded data removed]",
      "text/plain": [
       "<Figure size 648x432 with 1 Axes>"
      ]
     },
     "metadata": {
      "needs_background": "light"
     },
     "output_type": "display_data"
    }
   ],
   "source": [
    "weights = th.randn(784) / 784\n",
    "weights.requires_grad_()\n",
    "bias = th.tensor(0.0, requires_grad=True)\n",
    "eta = 0.1\n",
    "losses = []\n",
    "ws = [weights.detach().clone()]\n",
    "bs = [bias.detach().clone()]\n",
    "\n",
    "num_iterations = 1000\n",
    "\n",
    "for _ in range(num_iterations):\n",
    "    p_hat = logistic_regression(data_train, weights, bias)\n",
    "    loss = binary_cross_entropy(p_hat, target01_train)\n",
    "\n",
    "    loss.backward()\n",
    "    with th.no_grad():\n",
    "        weights[...] = weights - eta * weights.grad\n",
    "        bias[...] = bias - eta * bias.grad\n",
    "        weights.grad = None\n",
    "        bias.grad = None\n",
    "    \n",
    "    losses.append(loss.detach())\n",
    "    ws.append(weights.detach().clone())\n",
    "    bs.append(bias.detach().clone())\n",
    "    if (_ > 3) and (th.abs(losses[-1] - losses[-2]) < 1e-8):\n",
    "        break\n",
    "\n",
    "%matplotlib inline\n",
    "\n",
    "plt.figure(figsize=(9, 6))\n",
    "plt.plot(losses)\n",
    "print(losses[-1])"
   ]
  },
  {
   "cell_type": "markdown",
   "id": "8065bdb6",
   "metadata": {},
   "source": [
    "___\n",
    "\n",
    "### <font color='orange'>Question 6</font>\n",
    "\n",
    "Answer a few questions regarding the training.\n",
    "\n",
    "1. Every time training starts, the weights are sampled randomly from a Gaussian distribution and therefore the initial behaviour of the logistic regression is random. Run the training procedure a few times and check the initial value of the loss before any parameter update (use `print` or check `losses[0]` after training). Is this value consistent across initializations? What is this value approximately? Can you guess why?\n",
    "2. What is the minimum possible value for the cross-entropy loss in theory? What is the minimum value you got in practice? Do you think this is a good value for the training loss?\n",
    "3. What is the best combination of learning rate and number of iterations that you found?\n",
    "4. What happens to the training loss if you choose a very high learning rate (for example, 100)? Why?\n"
   ]
  },
  {
   "cell_type": "markdown",
   "id": "0f97affa",
   "metadata": {},
   "source": [
    "> Write your solution here. Use several markdown cells if necessary."
   ]
  },
  {
   "cell_type": "markdown",
   "id": "b827ab6c-4f8d-4c59-9260-7ce64d0413d4",
   "metadata": {},
   "source": [
    "1. I run the training 5 times and the printed `losses[0]` are: 0.6963, 0.6987, 0.6913, 0.6974, 0.6934 etc. From which we can conclude that the value is consistent across initializations. The value is approximately 0.7. Because weights are gaussian distributed with a mean 0, so after linear, logistic, and cross entropy function the first loss is similar.\n",
    "2. A model that predicts perfect probabilities has a cross entropy or log loss of 0.0. The minimum value I got in practice is 0.0531. I think it's pretty good value for the training loss.\n",
    "3. Learning rate: 0.1      \n",
    "    Iterations: 1000\n",
    "4. Training loss will be bigger since a learning rate that is too large can cause the model to converge too quickly to a suboptimal solution. (Or the loss curve will oscillate and not converge)"
   ]
  },
  {
   "cell_type": "markdown",
   "id": "c6c9c2c4",
   "metadata": {},
   "source": [
    "___\n",
    "\n",
    "### <font color='orange'>Question 7</font>\n",
    "\n",
    "Save the weight and the bias after training the best model you got. We will use that model in the next section for evaluation.\n",
    "\n",
    "**INCLUDE THIS FILE IN THE FINAL SUBMISSION FILE** so I can run the evaluation with your model."
   ]
  },
  {
   "cell_type": "code",
   "execution_count": 12,
   "id": "fc97a298",
   "metadata": {},
   "outputs": [],
   "source": [
    "# Just run this code\n",
    "th.save({\"weights\": weights.detach(), \"bias\": bias.detach()}, \"best_model.pt\")"
   ]
  },
  {
   "cell_type": "markdown",
   "id": "f14625e3",
   "metadata": {},
   "source": [
    "___\n",
    "\n",
    "## Model evaluation\n",
    "\n",
    "Evaluation of the model with the test dataset.\n",
    "\n",
    "First, load the parameters of the model:\n"
   ]
  },
  {
   "cell_type": "code",
   "execution_count": 13,
   "id": "75944aed",
   "metadata": {},
   "outputs": [],
   "source": [
    "model = th.load(\"best_model.pt\")\n",
    "weights = model[\"weights\"]\n",
    "bias = model[\"bias\"]"
   ]
  },
  {
   "cell_type": "markdown",
   "id": "59cfda0b",
   "metadata": {},
   "source": [
    "### <font color='orange'>Question 8</font>\n",
    "\n",
    "Apply the loaded logistic model to the test dataset `data_test` and measure its performance with the labels `target01_test` that you created in Question 2.\n",
    "\n",
    "1. Plot the ROC curve and the precision-recall curve (make some _nice_ and _decent_ plots with a grid, properly labelled axes...).\n",
    "2. Compute the area under the ROC curve and the average precision (i.e., the area under the precision-recall curve).\n",
    "3. Choose a good threshold for the model output and compute the accuracy, sensitivity, specificity, precision, and recall for that threshold.\n",
    "4. Analyze the results. According to these results, does the model perform well in this problem?\n",
    "\n",
    "You can use functions from `sklearn.metrics`. Check [the documentation](https://scikit-learn.org/stable/modules/model_evaluation.html#classification-metrics)."
   ]
  },
  {
   "cell_type": "code",
   "execution_count": 14,
   "id": "4eb9f7dc-9ab5-40bb-b424-a5c62a64a6cf",
   "metadata": {},
   "outputs": [],
   "source": [
    "test_pred = logistic_regression(data_test, weights, bias)\n",
    "test_pred_label = (test_pred>0.5).int()*1"
   ]
  },
  {
   "cell_type": "code",
   "execution_count": 15,
   "id": "7a228c7a-1142-49e1-86bd-bf9a06955343",
   "metadata": {},
   "outputs": [
    {
     "name": "stdout",
     "output_type": "stream",
     "text": [
      "0.9825\n"
     ]
    }
   ],
   "source": [
    "print(metrics.accuracy_score(target01_test, test_pred_label)) # Return the ratio of correctly classified samples"
   ]
  },
  {
   "cell_type": "code",
   "execution_count": 16,
   "id": "94f0d7df-db34-4201-b3b6-add9a268e017",
   "metadata": {},
   "outputs": [],
   "source": [
    "# roc curve\n",
    "fpr, tpr, threshold = metrics.roc_curve(target01_test, test_pred)\n",
    "roc_auc = metrics.auc(fpr, tpr)"
   ]
  },
  {
   "cell_type": "code",
   "execution_count": 17,
   "id": "869d7fc1-d7c1-4cd4-a7ff-bd67003fb214",
   "metadata": {},
   "outputs": [
    {
     "data": {
      "image/png": "[encoded data removed]",
      "text/plain": [
       "<Figure size 432x288 with 1 Axes>"
      ]
     },
     "metadata": {
      "needs_background": "light"
     },
     "output_type": "display_data"
    }
   ],
   "source": [
    "plt.title('Receiver Operating Characteristic')\n",
    "plt.plot(fpr, tpr, 'b', label = 'AUC = %0.2f' % roc_auc)\n",
    "plt.legend(loc = 'lower right')\n",
    "plt.plot([0, 1], [0, 1],'r--')\n",
    "plt.xlim([0, 1])\n",
    "plt.ylim([0, 1])\n",
    "plt.ylabel('True Positive Rate')\n",
    "plt.xlabel('False Positive Rate')\n",
    "plt.show()"
   ]
  },
  {
   "cell_type": "code",
   "execution_count": 18,
   "id": "612ea371-41b5-4b56-bf23-76b6c187672e",
   "metadata": {},
   "outputs": [
    {
     "name": "stdout",
     "output_type": "stream",
     "text": [
      "0.9931259088300065\n"
     ]
    }
   ],
   "source": [
    "# area under roc curve\n",
    "print(roc_auc)"
   ]
  },
  {
   "cell_type": "code",
   "execution_count": 19,
   "id": "23066f8b-e7cc-4387-948f-8e31460f1416",
   "metadata": {},
   "outputs": [
    {
     "data": {
      "image/png": "[encoded data removed]",
      "text/plain": [
       "<Figure size 432x288 with 1 Axes>"
      ]
     },
     "metadata": {
      "needs_background": "light"
     },
     "output_type": "display_data"
    }
   ],
   "source": [
    "#calculate precision and recall\n",
    "precision, recall, thresholds = metrics.precision_recall_curve(target01_test, test_pred_label)\n",
    "\n",
    "#create precision recall curve\n",
    "fig, ax = plt.subplots()\n",
    "ax.plot(recall, precision, color='purple')\n",
    "\n",
    "#add axis labels to plot\n",
    "ax.set_title('Precision-Recall Curve')\n",
    "ax.set_ylabel('Precision')\n",
    "ax.set_xlabel('Recall')\n",
    "\n",
    "#display plot\n",
    "plt.show()"
   ]
  },
  {
   "cell_type": "code",
   "execution_count": 20,
   "id": "06166d49-cb0d-4c9f-a5bd-351e92f67ab0",
   "metadata": {},
   "outputs": [
    {
     "name": "stdout",
     "output_type": "stream",
     "text": [
      "0.9571118427682475\n"
     ]
    }
   ],
   "source": [
    "# Calculate precision score\n",
    "print(metrics.precision_score(target01_test, test_pred_label, average='macro'))"
   ]
  },
  {
   "cell_type": "markdown",
   "id": "355219ca-ab8e-4e33-916a-ce65b73b1592",
   "metadata": {},
   "source": [
    "The model has a large AUC value of 0.99, which means the classifier has a very high correct rate. So it performs well in this problem."
   ]
  },
  {
   "cell_type": "markdown",
   "id": "a6a63bcf",
   "metadata": {},
   "source": [
    "___\n",
    "\n",
    "### <font color='orange'>Question 9</font>\n",
    "\n",
    "Explore and plot hard cases. Find the samples of the test set that were the most difficult for the model (i.e., high probability of class 1 for samples that are class 0 and vice versa). What are the probabilities that the model predicted for these difficult cases? Plot at least 9 difficult cases from class 0 and 9 difficult cases from class 1.\n",
    "\n",
    "Explain why you think those cases were hard.\n",
    "\n",
    "Hint: you can use `torchvision.utils.make_grid` to make plotting easier."
   ]
  },
  {
   "cell_type": "code",
   "execution_count": 21,
   "id": "3ba5f7a3-00da-4a71-bd87-beebe22364f7",
   "metadata": {},
   "outputs": [],
   "source": [
    "hard_caseFP_mask = (test_pred > 0.5) & (target01_test == False)\n",
    "hard_caseFN_mask = (test_pred < 0.5) & (target01_test == True)"
   ]
  },
  {
   "cell_type": "code",
   "execution_count": 22,
   "id": "4848736a-2298-4d62-8168-92db43162f76",
   "metadata": {},
   "outputs": [],
   "source": [
    "sorted_FP_prob, indices_FP = th.sort(test_pred[hard_caseFP_mask],descending=True)\n",
    "sorted_FN_prob, indices_FN = th.sort(test_pred[hard_caseFN_mask],descending=False)"
   ]
  },
  {
   "cell_type": "code",
   "execution_count": 23,
   "id": "a46e5438-8b6a-4294-a0f0-7fc4b439ae84",
   "metadata": {},
   "outputs": [],
   "source": [
    "FP_case_sorted = data_test[hard_caseFP_mask][indices_FP,:]\n",
    "FN_case_sorted = data_test[hard_caseFN_mask][indices_FN,:]"
   ]
  },
  {
   "cell_type": "code",
   "execution_count": 24,
   "id": "20b8de75-c4a8-42b8-8d3e-5c86f097077e",
   "metadata": {},
   "outputs": [
    {
     "data": {
      "text/plain": [
       "torch.Size([68, 784])"
      ]
     },
     "execution_count": 24,
     "metadata": {},
     "output_type": "execute_result"
    }
   ],
   "source": [
    "FP_case_sorted.shape"
   ]
  },
  {
   "cell_type": "code",
   "execution_count": 25,
   "id": "22579a0e-8cc0-4461-a981-79b85f69e73d",
   "metadata": {},
   "outputs": [
    {
     "name": "stdout",
     "output_type": "stream",
     "text": [
      "Highest 9 false positive case prob: tensor([0.9883, 0.9720, 0.9260, 0.9003, 0.8877, 0.8872, 0.8612, 0.8590, 0.8442])\n",
      "Highest 9 false negetive case prob: tensor([0.0003, 0.0005, 0.0007, 0.0038, 0.0039, 0.0117, 0.0144, 0.0149, 0.0160])\n"
     ]
    }
   ],
   "source": [
    "print('Highest 9 false positive case prob:', sorted_FP_prob[:9])\n",
    "print('Highest 9 false negetive case prob:', sorted_FN_prob[:9])"
   ]
  },
  {
   "cell_type": "code",
   "execution_count": 26,
   "id": "6b0e268d-bf08-4630-9d9d-a16f93c52551",
   "metadata": {},
   "outputs": [
    {
     "data": {
      "image/png": "[encoded data removed]",
      "text/plain": [
       "<Figure size 432x288 with 1 Axes>"
      ]
     },
     "metadata": {
      "needs_background": "light"
     },
     "output_type": "display_data"
    }
   ],
   "source": [
    "# Plot 9 samples of class 0 FP\n",
    "FP_case_sorted = FP_case_sorted.reshape(-1,28,28)\n",
    "plt.imshow(make_grid(FP_case_sorted[:9,None]*255, nrow=3, pad_value=255)[0])\n",
    "plt.show()"
   ]
  },
  {
   "cell_type": "markdown",
   "id": "97b6d4f5-081b-41ca-9cbe-f3492c912b61",
   "metadata": {},
   "source": [
    "This false positive cases has ambigious curves which might be explained as features of digit 6 by the model."
   ]
  },
  {
   "cell_type": "code",
   "execution_count": 27,
   "id": "fe2b1fe8-9f7e-4741-af0c-71f3a8aa265e",
   "metadata": {},
   "outputs": [
    {
     "data": {
      "image/png": "[encoded data removed]",
      "text/plain": [
       "<Figure size 432x288 with 1 Axes>"
      ]
     },
     "metadata": {
      "needs_background": "light"
     },
     "output_type": "display_data"
    }
   ],
   "source": [
    "# Plot 9 samples of class 1 FN\n",
    "FN_case_sorted = FN_case_sorted.reshape(-1,28,28)\n",
    "plt.imshow(make_grid(FN_case_sorted[:9,None]*255, nrow=3, pad_value=255)[0])\n",
    "plt.show()"
   ]
  },
  {
   "cell_type": "markdown",
   "id": "1b3a2199-7b79-42aa-95e3-1bcb652f9678",
   "metadata": {},
   "source": [
    "These misidentified 6s are either distorted/twisted or not written vertically, so it is not possible to correctly match the feature of the weights graph"
   ]
  },
  {
   "cell_type": "markdown",
   "id": "0ebdcb0f",
   "metadata": {},
   "source": [
    "___\n",
    "\n",
    "### Model analysis\n",
    "\n",
    "### <font color='orange'>Question 10</font>\n",
    "\n",
    "Plot the weights of the model as a $28\\times{}28$ image with `plt.imshow`. Add a colorbar with `plt.colorbar` to show the range of weights and which weights are positive or negative.\n",
    "\n",
    "Can you explain this result? Do these weights make sense for the `class1` that you chose?\n",
    "\n",
    "Hint: think of the effect that an active pixel has on the output of the logistic regression when the weight corresponding to that pixel is positive/negative. "
   ]
  },
  {
   "cell_type": "markdown",
   "id": "8bc68e8e",
   "metadata": {},
   "source": [
    "Write your answer here."
   ]
  },
  {
   "cell_type": "markdown",
   "id": "c7a7a239",
   "metadata": {},
   "source": [
    "___"
   ]
  },
  {
   "cell_type": "code",
   "execution_count": 28,
   "id": "f3cd816f-1b0f-4aee-8739-37736af95460",
   "metadata": {},
   "outputs": [
    {
     "data": {
      "image/png": "[encoded data removed]",
      "text/plain": [
       "<Figure size 432x288 with 2 Axes>"
      ]
     },
     "metadata": {
      "needs_background": "light"
     },
     "output_type": "display_data"
    }
   ],
   "source": [
    "# Plot weights graph\n",
    "plt.jet()\n",
    "weights = weights.reshape(-1,28,28)\n",
    "sm = plt.cm.ScalarMappable(cmap='jet', norm=plt.Normalize(vmin=0, vmax=1))\n",
    "plt.colorbar(sm)\n",
    "plt.imshow(make_grid(weights[:,None]*255, nrow=3, pad_value=255)[0])\n",
    "plt.show()\n"
   ]
  },
  {
   "cell_type": "markdown",
   "id": "b3561aed-2e8d-4d65-af94-638d0c9b1a89",
   "metadata": {},
   "source": [
    "It is obvious that the position of high weight(red part) in the above graph is the periphery of digit six. The blue low-weighted part is the position without six lines. Since there are many 6 figures so the weights are a generic case, we can't see a complete circle in the lower half. However, it can still be concluded that the 6's are characterized by the red part of the weights."
   ]
  }
 ],
 "metadata": {
  "kernelspec": {
   "display_name": "Python 3",
   "language": "python",
   "name": "python3"
  },
  "language_info": {
   "codemirror_mode": {
    "name": "ipython",
    "version": 3
   },
   "file_extension": ".py",
   "mimetype": "text/x-python",
   "name": "python",
   "nbconvert_exporter": "python",
   "pygments_lexer": "ipython3",
   "version": "3.7.10"
  }
 },
 "nbformat": 4,
 "nbformat_minor": 5
}
