{
 "cells": [
  {
   "cell_type": "markdown",
   "id": "043b0651-ac74-4c5a-8bc1-f4ce235dc1a6",
   "metadata": {},
   "source": [
    "# Lecture 3 exercises"
   ]
  },
  {
   "cell_type": "markdown",
   "id": "0a07d6ed-4329-46fe-aaed-64332f27290c",
   "metadata": {},
   "source": [
    "21-119-631 "
   ]
  },
  {
   "cell_type": "markdown",
   "id": "8177bb15-2910-45a7-8d06-207aac2ab4ae",
   "metadata": {},
   "source": [
    "### 1. Implementing convolution"
   ]
  },
  {
   "cell_type": "markdown",
   "id": "2bf905a9-fc6f-4990-8bf7-4d6dbb746b15",
   "metadata": {},
   "source": [
    "#### (a) Generating signal"
   ]
  },
  {
   "cell_type": "code",
   "execution_count": 1,
   "id": "08ca2227-5720-4f00-9f32-0215622d031c",
   "metadata": {},
   "outputs": [],
   "source": [
    "import numpy as np\n",
    "import matplotlib.pyplot as plt"
   ]
  },
  {
   "cell_type": "code",
   "execution_count": 2,
   "id": "bacc25ed-4000-4ce7-85aa-b03fd0912de1",
   "metadata": {},
   "outputs": [],
   "source": [
    "mySignal = np.zeros(100)\n",
    "mySignal[40:50] = np.ones(10)"
   ]
  },
  {
   "cell_type": "markdown",
   "id": "de55942f-5559-4da4-ab0a-1e986bcade50",
   "metadata": {},
   "source": [
    "#### (b) Generating kernel"
   ]
  },
  {
   "cell_type": "code",
   "execution_count": 3,
   "id": "bffec22c-a405-4a2a-bc17-493947951c75",
   "metadata": {},
   "outputs": [],
   "source": [
    "kern = np.linspace(start = 1, stop = 0.2, num=5)"
   ]
  },
  {
   "cell_type": "markdown",
   "id": "deefc5f4-04c3-431e-b32d-77457b79d1db",
   "metadata": {},
   "source": [
    "#### (c) Implementing convolution"
   ]
  },
  {
   "cell_type": "code",
   "execution_count": 4,
   "id": "e8909b96-cfa1-4900-a62e-9020b2c159af",
   "metadata": {},
   "outputs": [],
   "source": [
    "def convolution_1d(signal, kernel):\n",
    "    n_ker = kernel.size\n",
    "    signal = np.pad(signal, (n_ker-1,), constant_values=0) # zero padding\n",
    "    n_sig = signal.size\n",
    "    n_conv = n_sig - n_ker + 1\n",
    "    rev_kern = kernel[::-1].copy() # kernel flip\n",
    "    result = np.zeros(n_conv)\n",
    "    for i in range(n_conv):\n",
    "        result[i] = np.dot(signal[i:i+n_ker], rev_kern)\n",
    "    return result"
   ]
  },
  {
   "cell_type": "code",
   "execution_count": 5,
   "id": "5c6f3d69-e236-4db2-9d5c-bbe01e1bae6a",
   "metadata": {},
   "outputs": [],
   "source": [
    "convolved_sig = convolution_1d(mySignal, kern)"
   ]
  },
  {
   "cell_type": "markdown",
   "id": "9e8bb61c-a3f4-461a-a55f-574cd1f62b10",
   "metadata": {},
   "source": [
    "#### (d) Plotting signals"
   ]
  },
  {
   "cell_type": "code",
   "execution_count": 6,
   "id": "7a9f3d50-a175-4cf0-a72a-33b49a229924",
   "metadata": {},
   "outputs": [
    {
     "data": {
      "text/plain": [
       "[<matplotlib.lines.Line2D at 0x11b3f8390>]"
      ]
     },
     "execution_count": 6,
     "metadata": {},
     "output_type": "execute_result"
    },
    {
     "data": {
      "image/png": "[encoded data removed]",
      "text/plain": [
       "<Figure size 432x288 with 1 Axes>"
      ]
     },
     "metadata": {
      "needs_background": "light"
     },
     "output_type": "display_data"
    }
   ],
   "source": [
    "plt.plot(mySignal)\n",
    "plt.plot(kern)"
   ]
  },
  {
   "cell_type": "code",
   "execution_count": 7,
   "id": "150dd571-de4c-4643-acf9-1e5b50e78741",
   "metadata": {},
   "outputs": [
    {
     "data": {
      "text/plain": [
       "[<matplotlib.lines.Line2D at 0x11b513190>]"
      ]
     },
     "execution_count": 7,
     "metadata": {},
     "output_type": "execute_result"
    },
    {
     "data": {
      "image/png": "[encoded data removed]",
      "text/plain": [
       "<Figure size 432x288 with 1 Axes>"
      ]
     },
     "metadata": {
      "needs_background": "light"
     },
     "output_type": "display_data"
    }
   ],
   "source": [
    "plt.plot(convolved_sig)"
   ]
  },
  {
   "cell_type": "markdown",
   "id": "bbe6192e-68cc-4710-b9c2-bf26847dec99",
   "metadata": {},
   "source": [
    "#### (e) Describing the effects of convolution"
   ]
  },
  {
   "cell_type": "markdown",
   "id": "9f7860da-24e7-4c20-8333-dec8aefefc86",
   "metadata": {},
   "source": [
    "The result of convolution is combined by the characristics of the kernel and the signal. So what i created looks like a blend of the reversed kernel and mySignal. The squre edge is smoothed out."
   ]
  },
  {
   "cell_type": "markdown",
   "id": "b2f32fb7-a0fe-440d-87fc-59a0e3ba51cc",
   "metadata": {},
   "source": [
    "### 2. Filtering MEG data via fourier transformation"
   ]
  },
  {
   "cell_type": "markdown",
   "id": "2007eb68-26e5-404a-8d2c-f9b37893d5ec",
   "metadata": {},
   "source": [
    "#### (a) Importing raw data"
   ]
  },
  {
   "cell_type": "code",
   "execution_count": 8,
   "id": "2edc3773-6e63-478e-930d-736256c9faf1",
   "metadata": {},
   "outputs": [],
   "source": [
    "data = np.load('sample_audvis_raw.npy')\n",
    "fs = 600\n",
    "time = np.arange(data.shape[1]) / fs"
   ]
  },
  {
   "cell_type": "markdown",
   "id": "e748a8e8-bdb5-4b4d-b9aa-78873a9febd9",
   "metadata": {},
   "source": [
    "#### (b) Applying Fourier transformation"
   ]
  },
  {
   "cell_type": "code",
   "execution_count": 9,
   "id": "208024cd-edad-4231-9210-7a0e529a3046",
   "metadata": {},
   "outputs": [
    {
     "data": {
      "text/plain": [
       "(305, 166800)"
      ]
     },
     "execution_count": 9,
     "metadata": {},
     "output_type": "execute_result"
    }
   ],
   "source": [
    "data.shape"
   ]
  },
  {
   "cell_type": "code",
   "execution_count": 10,
   "id": "a23131bb-0153-4b22-840a-d28845e2a06f",
   "metadata": {},
   "outputs": [],
   "source": [
    "data1ch = data[0, :] # todo 1d fourier transform"
   ]
  },
  {
   "cell_type": "code",
   "execution_count": 11,
   "id": "ed6676b3-276b-470a-962b-3c41ffcc7600",
   "metadata": {},
   "outputs": [
    {
     "data": {
      "image/png": "[encoded data removed]",
      "text/plain": [
       "<Figure size 432x288 with 1 Axes>"
      ]
     },
     "metadata": {
      "needs_background": "light"
     },
     "output_type": "display_data"
    }
   ],
   "source": [
    "from scipy.fft import rfft, irfft, rfftfreq\n",
    "W = rfftfreq(data1ch.size, 1 / fs)\n",
    "f_signal = rfft(data1ch)\n",
    "\n",
    "plt.plot(W, np.abs(f_signal))\n",
    "plt.show()"
   ]
  },
  {
   "cell_type": "markdown",
   "id": "ec2324c1-eb4f-45c0-ada4-4eadcf1fdd7c",
   "metadata": {},
   "source": [
    "#### (c) Band-pass filtering via Fourier transform"
   ]
  },
  {
   "cell_type": "code",
   "execution_count": 12,
   "id": "4ad811c3-6ad8-437c-ad7c-a86cd168c3be",
   "metadata": {},
   "outputs": [],
   "source": [
    "cut_f_signal = f_signal.copy()\n",
    "cut_f_signal[(W<1) | (W>20)] = 0"
   ]
  },
  {
   "cell_type": "code",
   "execution_count": 13,
   "id": "81bd184d-c714-4f29-8210-d86f9179242b",
   "metadata": {},
   "outputs": [
    {
     "data": {
      "text/plain": [
       "[<matplotlib.lines.Line2D at 0x1346b8150>]"
      ]
     },
     "execution_count": 13,
     "metadata": {},
     "output_type": "execute_result"
    },
    {
     "data": {
      "image/png": "[encoded data removed]",
      "text/plain": [
       "<Figure size 432x288 with 1 Axes>"
      ]
     },
     "metadata": {
      "needs_background": "light"
     },
     "output_type": "display_data"
    }
   ],
   "source": [
    "plt.plot(W, np.abs(cut_f_signal))"
   ]
  },
  {
   "cell_type": "markdown",
   "id": "a69f7e31-f663-47a3-b12b-5443bd7cb0e8",
   "metadata": {},
   "source": [
    "#### (d) Transforming to the time domain from frequency domain"
   ]
  },
  {
   "cell_type": "code",
   "execution_count": 14,
   "id": "7e467861-710d-4ab2-9f5a-4456a0e36936",
   "metadata": {},
   "outputs": [],
   "source": [
    "cut_signal = irfft(cut_f_signal)"
   ]
  },
  {
   "cell_type": "code",
   "execution_count": 15,
   "id": "9302a486-3b31-4ff2-a85c-d0dc6189c3ca",
   "metadata": {},
   "outputs": [
    {
     "data": {
      "text/plain": [
       "166800"
      ]
     },
     "execution_count": 15,
     "metadata": {},
     "output_type": "execute_result"
    }
   ],
   "source": [
    "cut_signal.size"
   ]
  },
  {
   "cell_type": "code",
   "execution_count": 16,
   "id": "2b604b7e-03c1-475b-81b5-c733283b6b95",
   "metadata": {},
   "outputs": [
    {
     "name": "stderr",
     "output_type": "stream",
     "text": [
      "/Users/a0/anaconda3/lib/python3.7/site-packages/numpy/core/_asarray.py:102: ComplexWarning: Casting complex values to real discards the imaginary part\n",
      "  return array(a, dtype, copy=False, order=order)\n",
      "/Users/a0/anaconda3/lib/python3.7/site-packages/numpy/core/_asarray.py:102: ComplexWarning: Casting complex values to real discards the imaginary part\n",
      "  return array(a, dtype, copy=False, order=order)\n"
     ]
    },
    {
     "data": {
      "image/png": "[encoded data removed]",
      "text/plain": [
       "<Figure size 432x288 with 4 Axes>"
      ]
     },
     "metadata": {
      "needs_background": "light"
     },
     "output_type": "display_data"
    }
   ],
   "source": [
    "plt.subplot(221)\n",
    "plt.plot(data1ch)\n",
    "plt.subplot(222)\n",
    "plt.plot(data1ch[500:1000])\n",
    "\n",
    "plt.subplot(223)\n",
    "plt.plot(cut_f_signal)\n",
    "plt.subplot(224)\n",
    "plt.plot(cut_f_signal[500:1000])\n",
    "plt.show()"
   ]
  },
  {
   "cell_type": "markdown",
   "id": "d2a2e232-cd47-44af-babe-12855e412eba",
   "metadata": {},
   "source": [
    "#### (e) Describing the effects of filtering"
   ]
  },
  {
   "cell_type": "markdown",
   "id": "71d4f7e9-ba7f-4a78-86ca-dbb79e1625d7",
   "metadata": {},
   "source": [
    "The signal at the beginning and after some time points disappeard.? Seeing from the remaining part it shows that after filtering the signal becomes more stable, fluctruate around average."
   ]
  }
 ],
 "metadata": {
  "kernelspec": {
   "display_name": "Python 3",
   "language": "python",
   "name": "python3"
  },
  "language_info": {
   "codemirror_mode": {
    "name": "ipython",
    "version": 3
   },
   "file_extension": ".py",
   "mimetype": "text/x-python",
   "name": "python",
   "nbconvert_exporter": "python",
   "pygments_lexer": "ipython3",
   "version": "3.7.10"
  }
 },
 "nbformat": 4,
 "nbformat_minor": 5
}
