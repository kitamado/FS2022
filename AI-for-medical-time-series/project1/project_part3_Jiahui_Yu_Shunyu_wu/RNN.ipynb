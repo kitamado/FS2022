{
  "nbformat": 4,
  "nbformat_minor": 0,
  "metadata": {
    "colab": {
      "name": "AI_project.ipynb",
      "provenance": [],
      "collapsed_sections": [],
      "machine_shape": "hm"
    },
    "kernelspec": {
      "name": "python3",
      "display_name": "Python 3"
    },
    "language_info": {
      "name": "python"
    }
  },
  "cells": [
    {
      "cell_type": "code",
      "source": [
        "pip install mne"
      ],
      "metadata": {
        "colab": {
          "base_uri": "https://localhost:8080/"
        },
        "id": "2tnD3A5mmrqr",
        "outputId": "48387ee7-8c61-442d-9c0d-668975fc67e6"
      },
      "execution_count": null,
      "outputs": [
        {
          "output_type": "stream",
          "name": "stdout",
          "text": [
            "Looking in indexes: https://pypi.org/simple, https://us-python.pkg.dev/colab-wheels/public/simple/\n",
            "Requirement already satisfied: mne in /usr/local/lib/python3.7/dist-packages (1.0.3)\n",
            "Requirement already satisfied: numpy>=1.15.4 in /usr/local/lib/python3.7/dist-packages (from mne) (1.21.6)\n",
            "Requirement already satisfied: tqdm in /usr/local/lib/python3.7/dist-packages (from mne) (4.64.0)\n",
            "Requirement already satisfied: matplotlib in /usr/local/lib/python3.7/dist-packages (from mne) (3.2.2)\n",
            "Requirement already satisfied: scipy>=1.1.0 in /usr/local/lib/python3.7/dist-packages (from mne) (1.4.1)\n",
            "Requirement already satisfied: jinja2 in /usr/local/lib/python3.7/dist-packages (from mne) (2.11.3)\n",
            "Requirement already satisfied: packaging in /usr/local/lib/python3.7/dist-packages (from mne) (21.3)\n",
            "Requirement already satisfied: decorator in /usr/local/lib/python3.7/dist-packages (from mne) (4.4.2)\n",
            "Requirement already satisfied: pooch>=1.5 in /usr/local/lib/python3.7/dist-packages (from mne) (1.6.0)\n",
            "Requirement already satisfied: requests>=2.19.0 in /usr/local/lib/python3.7/dist-packages (from pooch>=1.5->mne) (2.23.0)\n",
            "Requirement already satisfied: appdirs>=1.3.0 in /usr/local/lib/python3.7/dist-packages (from pooch>=1.5->mne) (1.4.4)\n",
            "Requirement already satisfied: pyparsing!=3.0.5,>=2.0.2 in /usr/local/lib/python3.7/dist-packages (from packaging->mne) (3.0.9)\n",
            "Requirement already satisfied: idna<3,>=2.5 in /usr/local/lib/python3.7/dist-packages (from requests>=2.19.0->pooch>=1.5->mne) (2.10)\n",
            "Requirement already satisfied: urllib3!=1.25.0,!=1.25.1,<1.26,>=1.21.1 in /usr/local/lib/python3.7/dist-packages (from requests>=2.19.0->pooch>=1.5->mne) (1.24.3)\n",
            "Requirement already satisfied: chardet<4,>=3.0.2 in /usr/local/lib/python3.7/dist-packages (from requests>=2.19.0->pooch>=1.5->mne) (3.0.4)\n",
            "Requirement already satisfied: certifi>=2017.4.17 in /usr/local/lib/python3.7/dist-packages (from requests>=2.19.0->pooch>=1.5->mne) (2022.5.18.1)\n",
            "Requirement already satisfied: MarkupSafe>=0.23 in /usr/local/lib/python3.7/dist-packages (from jinja2->mne) (2.0.1)\n",
            "Requirement already satisfied: python-dateutil>=2.1 in /usr/local/lib/python3.7/dist-packages (from matplotlib->mne) (2.8.2)\n",
            "Requirement already satisfied: cycler>=0.10 in /usr/local/lib/python3.7/dist-packages (from matplotlib->mne) (0.11.0)\n",
            "Requirement already satisfied: kiwisolver>=1.0.1 in /usr/local/lib/python3.7/dist-packages (from matplotlib->mne) (1.4.2)\n",
            "Requirement already satisfied: typing-extensions in /usr/local/lib/python3.7/dist-packages (from kiwisolver>=1.0.1->matplotlib->mne) (4.2.0)\n",
            "Requirement already satisfied: six>=1.5 in /usr/local/lib/python3.7/dist-packages (from python-dateutil>=2.1->matplotlib->mne) (1.15.0)\n"
          ]
        }
      ]
    },
    {
      "cell_type": "code",
      "execution_count": null,
      "metadata": {
        "id": "xvdHzVBpspA2"
      },
      "outputs": [],
      "source": [
        "import numpy as np\n",
        "import mne\n",
        "from mne.decoding import UnsupervisedSpatialFilter\n",
        "from sklearn.decomposition import PCA\n",
        "import matplotlib.pyplot as plt"
      ]
    },
    {
      "cell_type": "code",
      "source": [
        "from google.colab import drive\n",
        "drive.mount('/content/drive/')"
      ],
      "metadata": {
        "colab": {
          "base_uri": "https://localhost:8080/"
        },
        "id": "H9VEeMtnN5Wi",
        "outputId": "4a8ad6f9-a769-45be-9828-db704ec4d9aa"
      },
      "execution_count": null,
      "outputs": [
        {
          "output_type": "stream",
          "name": "stdout",
          "text": [
            "Drive already mounted at /content/drive/; to attempt to forcibly remount, call drive.mount(\"/content/drive/\", force_remount=True).\n"
          ]
        }
      ]
    },
    {
      "cell_type": "code",
      "source": [
        "# subject_list = [1,2,3,4,5,8,9,10,11,12,13,14,15,16,18,20,21,22,23,24,26,27] #20,23 error, 6/7 replicate\n",
        "#subject_list_valid = [1,2,3,4,5,8,9,10,11,12,13,14,15,16,18,21,22,24,26]\n",
        "subject_list_valid = [1,2]\n",
        "eeg = {}\n",
        "epochs = {}\n",
        "for i in subject_list_valid:\n",
        "    # dataPath =  'Colab Notebooks' + 'Dataset-2-EEG_images/' \n",
        "    dataPath = '/content/drive/MyDrive/Dataset-2-EEG_images/'\n",
        "    datafilename =  dataPath + str(i)+'-P-cleaned.fif'\n",
        "    print(i)\n",
        "    eeg[i] = mne.read_epochs(datafilename)\n",
        "    epochs[i] = eeg[i].get_data()"
      ],
      "metadata": {
        "id": "aBT7O9-CM3nE",
        "colab": {
          "base_uri": "https://localhost:8080/"
        },
        "outputId": "17a0333f-c0f6-427d-c25d-f897701f7f8e"
      },
      "execution_count": null,
      "outputs": [
        {
          "output_type": "stream",
          "name": "stdout",
          "text": [
            "1\n",
            "Reading /content/drive/MyDrive/Dataset-2-EEG_images/1-P-cleaned.fif ...\n",
            "    Found the data of interest:\n",
            "        t =       0.00 ...    1496.09 ms\n",
            "        0 CTF compensation matrices available\n",
            "0 bad epochs dropped\n"
          ]
        },
        {
          "output_type": "stream",
          "name": "stderr",
          "text": [
            "<ipython-input-4-a431907b1935>:11: RuntimeWarning: This filename (/content/drive/MyDrive/Dataset-2-EEG_images/1-P-cleaned.fif) does not conform to MNE naming conventions. All epochs files should end with -epo.fif, -epo.fif.gz, _epo.fif or _epo.fif.gz\n",
            "  eeg[i] = mne.read_epochs(datafilename)\n"
          ]
        },
        {
          "output_type": "stream",
          "name": "stdout",
          "text": [
            "Not setting metadata\n",
            "371 matching events found\n",
            "No baseline correction applied\n",
            "0 projection items activated\n",
            "2\n",
            "Reading /content/drive/MyDrive/Dataset-2-EEG_images/2-P-cleaned.fif ...\n",
            "    Found the data of interest:\n",
            "        t =       0.00 ...    1496.09 ms\n",
            "        0 CTF compensation matrices available\n"
          ]
        },
        {
          "output_type": "stream",
          "name": "stderr",
          "text": [
            "<ipython-input-4-a431907b1935>:11: RuntimeWarning: This filename (/content/drive/MyDrive/Dataset-2-EEG_images/2-P-cleaned.fif) does not conform to MNE naming conventions. All epochs files should end with -epo.fif, -epo.fif.gz, _epo.fif or _epo.fif.gz\n",
            "  eeg[i] = mne.read_epochs(datafilename)\n"
          ]
        },
        {
          "output_type": "stream",
          "name": "stdout",
          "text": [
            "0 bad epochs dropped\n",
            "Not setting metadata\n",
            "880 matching events found\n",
            "No baseline correction applied\n",
            "0 projection items activated\n"
          ]
        }
      ]
    },
    {
      "cell_type": "code",
      "source": [
        "eeg[1].event_id "
      ],
      "metadata": {
        "colab": {
          "base_uri": "https://localhost:8080/"
        },
        "id": "Kk1_DwvwM8hJ",
        "outputId": "adecf85e-1a72-4b31-c960-1d98bb586e72"
      },
      "execution_count": null,
      "outputs": [
        {
          "output_type": "execute_result",
          "data": {
            "text/plain": [
              "{'FN': 0, 'FP': 1, 'FU': 2, 'NN': 3, 'NP': 4, 'NU': 5}"
            ]
          },
          "metadata": {},
          "execution_count": 5
        }
      ]
    },
    {
      "cell_type": "code",
      "source": [
        "for i in subject_list_valid:\n",
        "    print('Object'+str(i)+':')\n",
        "    familiar_all = eeg[i]['FU', 'FP', 'FN']\n",
        "    print('Number of trials in all FAMILIAR conditions: ', familiar_all.get_data().shape[0])\n",
        "    novel_all = eeg[i]['NU', 'NP', 'NN']\n",
        "    print('Number of trials in all NOVEL conditions: ', novel_all.get_data().shape[0])"
      ],
      "metadata": {
        "colab": {
          "base_uri": "https://localhost:8080/"
        },
        "id": "EUK8n5VyNACI",
        "outputId": "e1891f55-4723-4b16-e57e-1ddb846345fe"
      },
      "execution_count": null,
      "outputs": [
        {
          "output_type": "stream",
          "name": "stdout",
          "text": [
            "Object1:\n",
            "Number of trials in all FAMILIAR conditions:  297\n",
            "Number of trials in all NOVEL conditions:  74\n",
            "Object2:\n",
            "Number of trials in all FAMILIAR conditions:  686\n",
            "Number of trials in all NOVEL conditions:  194\n"
          ]
        }
      ]
    },
    {
      "cell_type": "code",
      "source": [
        "import numpy as npfrom \n",
        "import pandas as pd\n",
        "from sklearn.decomposition import PCA\n",
        "from sklearn.preprocessing import StandardScaler\n",
        "\n",
        "df = {}\n",
        "for i in subject_list_valid:\n",
        "  df[i] = eeg[i].to_data_frame()\n",
        "  index = df[i].loc[:,'condition']\n",
        "  x = df[i].loc[:,'Fp1':'O2'].values\n",
        "  x= StandardScaler().fit_transform(x)\n",
        "  pca = PCA(n_components=20)\n",
        "  p = pca.fit_transform(x)\n",
        "  pf = pd.DataFrame(data = p)\n",
        "  df[i] = pd.concat([index,pf],axis=1)\n",
        "\n",
        "\n",
        "dataF = pd.concat(df)\n",
        "print(dataF)\n"
      ],
      "metadata": {
        "colab": {
          "base_uri": "https://localhost:8080/"
        },
        "id": "L_FCsFLQzviA",
        "outputId": "027c9e94-9181-44db-d14f-d089cd7bcd61"
      },
      "execution_count": null,
      "outputs": [
        {
          "output_type": "stream",
          "name": "stdout",
          "text": [
            "         condition         0         1         2         3         4  \\\n",
            "1 0             FP -2.984035 -0.110480 -0.538259 -0.580229 -1.597166   \n",
            "  1             FP -1.637993  0.466713  0.981054 -0.657734 -0.074217   \n",
            "  2             FP  0.080881  1.778629  2.611657 -0.344500  1.544395   \n",
            "  3             FP  1.181980  3.401735  3.826336  0.301703  2.596748   \n",
            "  4             FP  0.892270  4.683395  4.150320  1.028505  2.608083   \n",
            "...            ...       ...       ...       ...       ...       ...   \n",
            "2 337915        NN  1.511875  4.483044  2.304419  0.443613 -4.024929   \n",
            "  337916        NN  1.080819  3.876824  1.113442  0.766028 -4.050124   \n",
            "  337917        NN  0.860129  2.999837  0.093617  0.819405 -3.994793   \n",
            "  337918        NN  0.838796  1.905509 -0.524487  0.690365 -3.857568   \n",
            "  337919        NN  0.956768  0.755190 -0.624939  0.547729 -3.633592   \n",
            "\n",
            "                 5         6         7         8  ...        10        11  \\\n",
            "1 0      -0.285032 -0.450159  1.487187 -0.743803  ... -0.594914  0.461122   \n",
            "  1      -0.139827 -0.605687  0.906382 -0.977818  ...  0.105267  0.294931   \n",
            "  2      -0.085461 -0.505763 -0.371415 -1.016090  ...  0.938220 -0.066214   \n",
            "  3      -0.016971 -0.134054 -1.791401 -0.756982  ...  1.556852 -0.467524   \n",
            "  4       0.128675  0.345641 -2.598316 -0.236197  ...  1.665056 -0.721173   \n",
            "...            ...       ...       ...       ...  ...       ...       ...   \n",
            "2 337915  0.143533  0.102130 -1.514898  2.142671  ... -0.087117  0.382149   \n",
            "  337916  0.239166  0.352078 -1.562075  2.183671  ... -0.113258  0.120058   \n",
            "  337917  0.222906  0.425869 -1.494653  2.258012  ... -0.118042 -0.032496   \n",
            "  337918  0.047144  0.285964 -1.338436  2.255361  ... -0.121702 -0.033915   \n",
            "  337919 -0.328923 -0.018505 -1.154937  2.094724  ... -0.120011  0.112611   \n",
            "\n",
            "                12        13        14        15        16        17  \\\n",
            "1 0       0.268697  0.400389  0.075707 -0.960440  0.124606 -0.195913   \n",
            "  1       0.865858 -0.079619  0.304839 -1.229228  0.678068  0.216647   \n",
            "  2       1.359002 -0.835656  0.506964 -1.299223  1.070835  0.790831   \n",
            "  3       1.515528 -1.585243  0.626011 -1.109835  1.098195  1.271679   \n",
            "  4       1.228229 -1.981562  0.644315 -0.693420  0.731940  1.391164   \n",
            "...            ...       ...       ...       ...       ...       ...   \n",
            "2 337915 -0.138181 -0.351738 -0.524119  1.266963 -0.835893 -0.622503   \n",
            "  337916 -0.075453 -0.254146 -0.420931  1.169350 -0.893384 -0.579081   \n",
            "  337917  0.022065 -0.189681 -0.396344  1.133777 -0.949037 -0.584895   \n",
            "  337918  0.147473 -0.154023 -0.448190  1.127589 -0.992893 -0.610874   \n",
            "  337919  0.261062 -0.151616 -0.535040  1.103969 -1.009275 -0.636380   \n",
            "\n",
            "                18        19  \n",
            "1 0       0.535326  0.128686  \n",
            "  1       0.350466  0.772285  \n",
            "  2       0.035642  1.421174  \n",
            "  3      -0.268385  1.777233  \n",
            "  4      -0.396321  1.654396  \n",
            "...            ...       ...  \n",
            "2 337915 -0.521654 -0.665162  \n",
            "  337916 -0.484173 -0.711611  \n",
            "  337917 -0.486602 -0.739241  \n",
            "  337918 -0.529306 -0.733583  \n",
            "  337919 -0.588737 -0.692050  \n",
            "\n",
            "[480384 rows x 21 columns]\n"
          ]
        }
      ]
    },
    {
      "cell_type": "code",
      "source": [
        "dataF['condition'].value_counts()"
      ],
      "metadata": {
        "colab": {
          "base_uri": "https://localhost:8080/"
        },
        "id": "yAw6qYdj3nvQ",
        "outputId": "d1e00461-e5b7-4644-f6e6-b37d98c35e63"
      },
      "execution_count": null,
      "outputs": [
        {
          "output_type": "execute_result",
          "data": {
            "text/plain": [
              "FP    129792\n",
              "FN    124416\n",
              "FU    123264\n",
              "NN     36096\n",
              "NP     34560\n",
              "NU     32256\n",
              "Name: condition, dtype: int64"
            ]
          },
          "metadata": {},
          "execution_count": 8
        }
      ]
    },
    {
      "cell_type": "code",
      "source": [
        "label_mapping = {'FN': 0, 'FP': 0, 'FU': 0, 'NN': 1, 'NP': 1, 'NU': 1}\n",
        "dataF['condition'] = dataF['condition'].replace(label_mapping)\n",
        "dataF['condition'].value_counts()"
      ],
      "metadata": {
        "colab": {
          "base_uri": "https://localhost:8080/"
        },
        "id": "RG8gokCo4_FW",
        "outputId": "3f7e2c57-36e9-4002-a4e8-335aa5a8341a"
      },
      "execution_count": null,
      "outputs": [
        {
          "output_type": "execute_result",
          "data": {
            "text/plain": [
              "0    377472\n",
              "1    102912\n",
              "Name: condition, dtype: int64"
            ]
          },
          "metadata": {},
          "execution_count": 9
        }
      ]
    },
    {
      "cell_type": "code",
      "source": [
        "from sklearn.model_selection import train_test_split\n",
        "Y = dataF.pop('condition')\n",
        "X = dataF\n",
        "X_train, X_test, Y_train, Y_test = train_test_split(X, Y, train_size=0.6)"
      ],
      "metadata": {
        "id": "fjLM2lA06Jea"
      },
      "execution_count": null,
      "outputs": []
    },
    {
      "cell_type": "code",
      "source": [
        "X_train"
      ],
      "metadata": {
        "colab": {
          "base_uri": "https://localhost:8080/",
          "height": 488
        },
        "id": "wtzPvTYzNCu9",
        "outputId": "e7046348-61db-4ea9-d1d7-efb9a4b1326f"
      },
      "execution_count": null,
      "outputs": [
        {
          "output_type": "execute_result",
          "data": {
            "text/plain": [
              "                 0         1         2         3         4         5  \\\n",
              "2 123740  1.403604 -1.087191 -1.684714 -0.380037  2.264946  0.958663   \n",
              "  2194    0.221075 -2.710854 -2.304097 -2.728841 -0.231937  2.455906   \n",
              "  245280 -0.207507  3.457797  0.786598 -0.976819  0.283165  1.078192   \n",
              "  282317  6.234716 -0.634939  1.186537 -0.878979 -1.871863 -2.375178   \n",
              "  144647 -3.329417  1.707563 -3.051272  0.529569 -1.687047  0.264317   \n",
              "...            ...       ...       ...       ...       ...       ...   \n",
              "  255555  2.402140 -2.209230 -0.149202  2.725906  1.155680 -3.362263   \n",
              "  39783   1.288190 -1.386832  1.622500 -0.177042 -1.802862 -0.526687   \n",
              "1 725    -7.535029 -2.246345  7.823492 -1.382708  2.720507 -3.886467   \n",
              "  124258 -2.181831  2.847493  6.375933 -4.574316 -2.519369 -1.393743   \n",
              "2 180834  3.174735 -1.325061 -7.887101 -2.179506  0.527861 -2.805279   \n",
              "\n",
              "                 6         7         8         9        10        11  \\\n",
              "2 123740  0.547078  0.920209  0.653191 -0.038155 -0.398027  0.199509   \n",
              "  2194    0.367955  0.000381 -0.378137  0.355111 -1.011297 -0.112923   \n",
              "  245280 -1.015708 -0.109169  0.722249  1.272513 -1.030489 -0.731369   \n",
              "  282317  2.365369  1.680749 -0.502178  0.987801 -0.318453  0.240016   \n",
              "  144647 -0.849216  0.307264  1.717665  1.752182 -0.685025 -0.909148   \n",
              "...            ...       ...       ...       ...       ...       ...   \n",
              "  255555  0.684675 -0.925966 -0.319849  1.083473  0.619109  0.206962   \n",
              "  39783   1.006387  0.823843 -0.676766 -1.001045  0.502804  0.237069   \n",
              "1 725    -1.110311 -1.359969  0.993782 -1.197908 -0.956046 -0.173954   \n",
              "  124258 -0.801625  0.545754 -0.422802 -0.150729 -1.819094  1.386658   \n",
              "2 180834 -0.813595 -0.829319 -0.562931 -0.534968  1.760115 -0.101819   \n",
              "\n",
              "                12        13        14        15        16        17  \\\n",
              "2 123740 -0.321085  0.397769  0.100289 -0.180677  0.193837 -0.478871   \n",
              "  2194    1.384208  0.782789 -1.041155  0.329259  0.188712  0.674163   \n",
              "  245280 -0.368164 -0.724708 -1.217740  0.433064  1.346971  0.998105   \n",
              "  282317 -0.912652 -0.311034 -0.027114 -0.561309 -0.010780 -0.361802   \n",
              "  144647  1.661280  0.665359  0.591991 -0.206030  0.271131  0.590306   \n",
              "...            ...       ...       ...       ...       ...       ...   \n",
              "  255555 -0.311729  1.371916  0.668673  0.182648 -0.218529  1.016656   \n",
              "  39783  -0.208921  0.531520  0.359677 -0.841105  0.297447 -0.418866   \n",
              "1 725    -0.238514  2.748755 -0.620788 -0.042830  1.849892 -0.901858   \n",
              "  124258 -0.050902 -0.859184  0.176808  0.873121 -0.667880  0.896242   \n",
              "2 180834 -0.864542 -2.001113 -0.353135  0.889691  0.667230 -0.297615   \n",
              "\n",
              "                18        19  \n",
              "2 123740  0.078397  0.572362  \n",
              "  2194    1.860172  0.050839  \n",
              "  245280 -0.115969 -0.323407  \n",
              "  282317  0.175698  0.204412  \n",
              "  144647  0.461561 -1.099200  \n",
              "...            ...       ...  \n",
              "  255555 -0.388158 -0.417637  \n",
              "  39783   1.632967 -2.217562  \n",
              "1 725     0.658297 -1.380323  \n",
              "  124258  0.470410  0.129646  \n",
              "2 180834 -0.010558 -0.385709  \n",
              "\n",
              "[288230 rows x 20 columns]"
            ],
            "text/html": [
              "\n",
              "  <div id=\"df-bdedf0ff-87cb-48e5-882e-340e7ea7ab1e\">\n",
              "    <div class=\"colab-df-container\">\n",
              "      <div>\n",
              "<style scoped>\n",
              "    .dataframe tbody tr th:only-of-type {\n",
              "        vertical-align: middle;\n",
              "    }\n",
              "\n",
              "    .dataframe tbody tr th {\n",
              "        vertical-align: top;\n",
              "    }\n",
              "\n",
              "    .dataframe thead th {\n",
              "        text-align: right;\n",
              "    }\n",
              "</style>\n",
              "<table border=\"1\" class=\"dataframe\">\n",
              "  <thead>\n",
              "    <tr style=\"text-align: right;\">\n",
              "      <th></th>\n",
              "      <th></th>\n",
              "      <th>0</th>\n",
              "      <th>1</th>\n",
              "      <th>2</th>\n",
              "      <th>3</th>\n",
              "      <th>4</th>\n",
              "      <th>5</th>\n",
              "      <th>6</th>\n",
              "      <th>7</th>\n",
              "      <th>8</th>\n",
              "      <th>9</th>\n",
              "      <th>10</th>\n",
              "      <th>11</th>\n",
              "      <th>12</th>\n",
              "      <th>13</th>\n",
              "      <th>14</th>\n",
              "      <th>15</th>\n",
              "      <th>16</th>\n",
              "      <th>17</th>\n",
              "      <th>18</th>\n",
              "      <th>19</th>\n",
              "    </tr>\n",
              "  </thead>\n",
              "  <tbody>\n",
              "    <tr>\n",
              "      <th rowspan=\"8\" valign=\"top\">2</th>\n",
              "      <th>123740</th>\n",
              "      <td>1.403604</td>\n",
              "      <td>-1.087191</td>\n",
              "      <td>-1.684714</td>\n",
              "      <td>-0.380037</td>\n",
              "      <td>2.264946</td>\n",
              "      <td>0.958663</td>\n",
              "      <td>0.547078</td>\n",
              "      <td>0.920209</td>\n",
              "      <td>0.653191</td>\n",
              "      <td>-0.038155</td>\n",
              "      <td>-0.398027</td>\n",
              "      <td>0.199509</td>\n",
              "      <td>-0.321085</td>\n",
              "      <td>0.397769</td>\n",
              "      <td>0.100289</td>\n",
              "      <td>-0.180677</td>\n",
              "      <td>0.193837</td>\n",
              "      <td>-0.478871</td>\n",
              "      <td>0.078397</td>\n",
              "      <td>0.572362</td>\n",
              "    </tr>\n",
              "    <tr>\n",
              "      <th>2194</th>\n",
              "      <td>0.221075</td>\n",
              "      <td>-2.710854</td>\n",
              "      <td>-2.304097</td>\n",
              "      <td>-2.728841</td>\n",
              "      <td>-0.231937</td>\n",
              "      <td>2.455906</td>\n",
              "      <td>0.367955</td>\n",
              "      <td>0.000381</td>\n",
              "      <td>-0.378137</td>\n",
              "      <td>0.355111</td>\n",
              "      <td>-1.011297</td>\n",
              "      <td>-0.112923</td>\n",
              "      <td>1.384208</td>\n",
              "      <td>0.782789</td>\n",
              "      <td>-1.041155</td>\n",
              "      <td>0.329259</td>\n",
              "      <td>0.188712</td>\n",
              "      <td>0.674163</td>\n",
              "      <td>1.860172</td>\n",
              "      <td>0.050839</td>\n",
              "    </tr>\n",
              "    <tr>\n",
              "      <th>245280</th>\n",
              "      <td>-0.207507</td>\n",
              "      <td>3.457797</td>\n",
              "      <td>0.786598</td>\n",
              "      <td>-0.976819</td>\n",
              "      <td>0.283165</td>\n",
              "      <td>1.078192</td>\n",
              "      <td>-1.015708</td>\n",
              "      <td>-0.109169</td>\n",
              "      <td>0.722249</td>\n",
              "      <td>1.272513</td>\n",
              "      <td>-1.030489</td>\n",
              "      <td>-0.731369</td>\n",
              "      <td>-0.368164</td>\n",
              "      <td>-0.724708</td>\n",
              "      <td>-1.217740</td>\n",
              "      <td>0.433064</td>\n",
              "      <td>1.346971</td>\n",
              "      <td>0.998105</td>\n",
              "      <td>-0.115969</td>\n",
              "      <td>-0.323407</td>\n",
              "    </tr>\n",
              "    <tr>\n",
              "      <th>282317</th>\n",
              "      <td>6.234716</td>\n",
              "      <td>-0.634939</td>\n",
              "      <td>1.186537</td>\n",
              "      <td>-0.878979</td>\n",
              "      <td>-1.871863</td>\n",
              "      <td>-2.375178</td>\n",
              "      <td>2.365369</td>\n",
              "      <td>1.680749</td>\n",
              "      <td>-0.502178</td>\n",
              "      <td>0.987801</td>\n",
              "      <td>-0.318453</td>\n",
              "      <td>0.240016</td>\n",
              "      <td>-0.912652</td>\n",
              "      <td>-0.311034</td>\n",
              "      <td>-0.027114</td>\n",
              "      <td>-0.561309</td>\n",
              "      <td>-0.010780</td>\n",
              "      <td>-0.361802</td>\n",
              "      <td>0.175698</td>\n",
              "      <td>0.204412</td>\n",
              "    </tr>\n",
              "    <tr>\n",
              "      <th>144647</th>\n",
              "      <td>-3.329417</td>\n",
              "      <td>1.707563</td>\n",
              "      <td>-3.051272</td>\n",
              "      <td>0.529569</td>\n",
              "      <td>-1.687047</td>\n",
              "      <td>0.264317</td>\n",
              "      <td>-0.849216</td>\n",
              "      <td>0.307264</td>\n",
              "      <td>1.717665</td>\n",
              "      <td>1.752182</td>\n",
              "      <td>-0.685025</td>\n",
              "      <td>-0.909148</td>\n",
              "      <td>1.661280</td>\n",
              "      <td>0.665359</td>\n",
              "      <td>0.591991</td>\n",
              "      <td>-0.206030</td>\n",
              "      <td>0.271131</td>\n",
              "      <td>0.590306</td>\n",
              "      <td>0.461561</td>\n",
              "      <td>-1.099200</td>\n",
              "    </tr>\n",
              "    <tr>\n",
              "      <th>...</th>\n",
              "      <td>...</td>\n",
              "      <td>...</td>\n",
              "      <td>...</td>\n",
              "      <td>...</td>\n",
              "      <td>...</td>\n",
              "      <td>...</td>\n",
              "      <td>...</td>\n",
              "      <td>...</td>\n",
              "      <td>...</td>\n",
              "      <td>...</td>\n",
              "      <td>...</td>\n",
              "      <td>...</td>\n",
              "      <td>...</td>\n",
              "      <td>...</td>\n",
              "      <td>...</td>\n",
              "      <td>...</td>\n",
              "      <td>...</td>\n",
              "      <td>...</td>\n",
              "      <td>...</td>\n",
              "      <td>...</td>\n",
              "    </tr>\n",
              "    <tr>\n",
              "      <th>255555</th>\n",
              "      <td>2.402140</td>\n",
              "      <td>-2.209230</td>\n",
              "      <td>-0.149202</td>\n",
              "      <td>2.725906</td>\n",
              "      <td>1.155680</td>\n",
              "      <td>-3.362263</td>\n",
              "      <td>0.684675</td>\n",
              "      <td>-0.925966</td>\n",
              "      <td>-0.319849</td>\n",
              "      <td>1.083473</td>\n",
              "      <td>0.619109</td>\n",
              "      <td>0.206962</td>\n",
              "      <td>-0.311729</td>\n",
              "      <td>1.371916</td>\n",
              "      <td>0.668673</td>\n",
              "      <td>0.182648</td>\n",
              "      <td>-0.218529</td>\n",
              "      <td>1.016656</td>\n",
              "      <td>-0.388158</td>\n",
              "      <td>-0.417637</td>\n",
              "    </tr>\n",
              "    <tr>\n",
              "      <th>39783</th>\n",
              "      <td>1.288190</td>\n",
              "      <td>-1.386832</td>\n",
              "      <td>1.622500</td>\n",
              "      <td>-0.177042</td>\n",
              "      <td>-1.802862</td>\n",
              "      <td>-0.526687</td>\n",
              "      <td>1.006387</td>\n",
              "      <td>0.823843</td>\n",
              "      <td>-0.676766</td>\n",
              "      <td>-1.001045</td>\n",
              "      <td>0.502804</td>\n",
              "      <td>0.237069</td>\n",
              "      <td>-0.208921</td>\n",
              "      <td>0.531520</td>\n",
              "      <td>0.359677</td>\n",
              "      <td>-0.841105</td>\n",
              "      <td>0.297447</td>\n",
              "      <td>-0.418866</td>\n",
              "      <td>1.632967</td>\n",
              "      <td>-2.217562</td>\n",
              "    </tr>\n",
              "    <tr>\n",
              "      <th rowspan=\"2\" valign=\"top\">1</th>\n",
              "      <th>725</th>\n",
              "      <td>-7.535029</td>\n",
              "      <td>-2.246345</td>\n",
              "      <td>7.823492</td>\n",
              "      <td>-1.382708</td>\n",
              "      <td>2.720507</td>\n",
              "      <td>-3.886467</td>\n",
              "      <td>-1.110311</td>\n",
              "      <td>-1.359969</td>\n",
              "      <td>0.993782</td>\n",
              "      <td>-1.197908</td>\n",
              "      <td>-0.956046</td>\n",
              "      <td>-0.173954</td>\n",
              "      <td>-0.238514</td>\n",
              "      <td>2.748755</td>\n",
              "      <td>-0.620788</td>\n",
              "      <td>-0.042830</td>\n",
              "      <td>1.849892</td>\n",
              "      <td>-0.901858</td>\n",
              "      <td>0.658297</td>\n",
              "      <td>-1.380323</td>\n",
              "    </tr>\n",
              "    <tr>\n",
              "      <th>124258</th>\n",
              "      <td>-2.181831</td>\n",
              "      <td>2.847493</td>\n",
              "      <td>6.375933</td>\n",
              "      <td>-4.574316</td>\n",
              "      <td>-2.519369</td>\n",
              "      <td>-1.393743</td>\n",
              "      <td>-0.801625</td>\n",
              "      <td>0.545754</td>\n",
              "      <td>-0.422802</td>\n",
              "      <td>-0.150729</td>\n",
              "      <td>-1.819094</td>\n",
              "      <td>1.386658</td>\n",
              "      <td>-0.050902</td>\n",
              "      <td>-0.859184</td>\n",
              "      <td>0.176808</td>\n",
              "      <td>0.873121</td>\n",
              "      <td>-0.667880</td>\n",
              "      <td>0.896242</td>\n",
              "      <td>0.470410</td>\n",
              "      <td>0.129646</td>\n",
              "    </tr>\n",
              "    <tr>\n",
              "      <th>2</th>\n",
              "      <th>180834</th>\n",
              "      <td>3.174735</td>\n",
              "      <td>-1.325061</td>\n",
              "      <td>-7.887101</td>\n",
              "      <td>-2.179506</td>\n",
              "      <td>0.527861</td>\n",
              "      <td>-2.805279</td>\n",
              "      <td>-0.813595</td>\n",
              "      <td>-0.829319</td>\n",
              "      <td>-0.562931</td>\n",
              "      <td>-0.534968</td>\n",
              "      <td>1.760115</td>\n",
              "      <td>-0.101819</td>\n",
              "      <td>-0.864542</td>\n",
              "      <td>-2.001113</td>\n",
              "      <td>-0.353135</td>\n",
              "      <td>0.889691</td>\n",
              "      <td>0.667230</td>\n",
              "      <td>-0.297615</td>\n",
              "      <td>-0.010558</td>\n",
              "      <td>-0.385709</td>\n",
              "    </tr>\n",
              "  </tbody>\n",
              "</table>\n",
              "<p>288230 rows × 20 columns</p>\n",
              "</div>\n",
              "      <button class=\"colab-df-convert\" onclick=\"convertToInteractive('df-bdedf0ff-87cb-48e5-882e-340e7ea7ab1e')\"\n",
              "              title=\"Convert this dataframe to an interactive table.\"\n",
              "              style=\"display:none;\">\n",
              "        \n",
              "  <svg xmlns=\"http://www.w3.org/2000/svg\" height=\"24px\"viewBox=\"0 0 24 24\"\n",
              "       width=\"24px\">\n",
              "    <path d=\"M0 0h24v24H0V0z\" fill=\"none\"/>\n",
              "    <path d=\"M18.56 5.44l.94 2.06.94-2.06 2.06-.94-2.06-.94-.94-2.06-.94 2.06-2.06.94zm-11 1L8.5 8.5l.94-2.06 2.06-.94-2.06-.94L8.5 2.5l-.94 2.06-2.06.94zm10 10l.94 2.06.94-2.06 2.06-.94-2.06-.94-.94-2.06-.94 2.06-2.06.94z\"/><path d=\"M17.41 7.96l-1.37-1.37c-.4-.4-.92-.59-1.43-.59-.52 0-1.04.2-1.43.59L10.3 9.45l-7.72 7.72c-.78.78-.78 2.05 0 2.83L4 21.41c.39.39.9.59 1.41.59.51 0 1.02-.2 1.41-.59l7.78-7.78 2.81-2.81c.8-.78.8-2.07 0-2.86zM5.41 20L4 18.59l7.72-7.72 1.47 1.35L5.41 20z\"/>\n",
              "  </svg>\n",
              "      </button>\n",
              "      \n",
              "  <style>\n",
              "    .colab-df-container {\n",
              "      display:flex;\n",
              "      flex-wrap:wrap;\n",
              "      gap: 12px;\n",
              "    }\n",
              "\n",
              "    .colab-df-convert {\n",
              "      background-color: #E8F0FE;\n",
              "      border: none;\n",
              "      border-radius: 50%;\n",
              "      cursor: pointer;\n",
              "      display: none;\n",
              "      fill: #1967D2;\n",
              "      height: 32px;\n",
              "      padding: 0 0 0 0;\n",
              "      width: 32px;\n",
              "    }\n",
              "\n",
              "    .colab-df-convert:hover {\n",
              "      background-color: #E2EBFA;\n",
              "      box-shadow: 0px 1px 2px rgba(60, 64, 67, 0.3), 0px 1px 3px 1px rgba(60, 64, 67, 0.15);\n",
              "      fill: #174EA6;\n",
              "    }\n",
              "\n",
              "    [theme=dark] .colab-df-convert {\n",
              "      background-color: #3B4455;\n",
              "      fill: #D2E3FC;\n",
              "    }\n",
              "\n",
              "    [theme=dark] .colab-df-convert:hover {\n",
              "      background-color: #434B5C;\n",
              "      box-shadow: 0px 1px 3px 1px rgba(0, 0, 0, 0.15);\n",
              "      filter: drop-shadow(0px 1px 2px rgba(0, 0, 0, 0.3));\n",
              "      fill: #FFFFFF;\n",
              "    }\n",
              "  </style>\n",
              "\n",
              "      <script>\n",
              "        const buttonEl =\n",
              "          document.querySelector('#df-bdedf0ff-87cb-48e5-882e-340e7ea7ab1e button.colab-df-convert');\n",
              "        buttonEl.style.display =\n",
              "          google.colab.kernel.accessAllowed ? 'block' : 'none';\n",
              "\n",
              "        async function convertToInteractive(key) {\n",
              "          const element = document.querySelector('#df-bdedf0ff-87cb-48e5-882e-340e7ea7ab1e');\n",
              "          const dataTable =\n",
              "            await google.colab.kernel.invokeFunction('convertToInteractive',\n",
              "                                                     [key], {});\n",
              "          if (!dataTable) return;\n",
              "\n",
              "          const docLinkHtml = 'Like what you see? Visit the ' +\n",
              "            '<a target=\"_blank\" href=https://colab.research.google.com/notebooks/data_table.ipynb>data table notebook</a>'\n",
              "            + ' to learn more about interactive tables.';\n",
              "          element.innerHTML = '';\n",
              "          dataTable['output_type'] = 'display_data';\n",
              "          await google.colab.output.renderOutput(dataTable, element);\n",
              "          const docLink = document.createElement('div');\n",
              "          docLink.innerHTML = docLinkHtml;\n",
              "          element.appendChild(docLink);\n",
              "        }\n",
              "      </script>\n",
              "    </div>\n",
              "  </div>\n",
              "  "
            ]
          },
          "metadata": {},
          "execution_count": 11
        }
      ]
    },
    {
      "cell_type": "code",
      "source": [
        "X_train = np.array(X_train).reshape((X_train.shape[0],X_train.shape[1],1))\n",
        "X_test = np.array(X_test).reshape((X_test.shape[0],X_test.shape[1],1))\n",
        "Y_train = pd.get_dummies(Y_train)\n",
        "Y_test = pd.get_dummies(Y_test)"
      ],
      "metadata": {
        "id": "MKqYQ6EQ7Mru"
      },
      "execution_count": null,
      "outputs": []
    },
    {
      "cell_type": "code",
      "source": [
        "Y_train"
      ],
      "metadata": {
        "colab": {
          "base_uri": "https://localhost:8080/",
          "height": 424
        },
        "id": "wyeUlyDnunJ2",
        "outputId": "89fa6a42-6ed5-4266-f53c-6143ba7c1741"
      },
      "execution_count": null,
      "outputs": [
        {
          "output_type": "execute_result",
          "data": {
            "text/plain": [
              "          0  1\n",
              "2 123740  1  0\n",
              "  2194    1  0\n",
              "  245280  1  0\n",
              "  282317  1  0\n",
              "  144647  1  0\n",
              "...      .. ..\n",
              "  255555  1  0\n",
              "  39783   1  0\n",
              "1 725     1  0\n",
              "  124258  1  0\n",
              "2 180834  0  1\n",
              "\n",
              "[288230 rows x 2 columns]"
            ],
            "text/html": [
              "\n",
              "  <div id=\"df-4a3864d6-14cb-483c-9e6f-4b5ed8f66a40\">\n",
              "    <div class=\"colab-df-container\">\n",
              "      <div>\n",
              "<style scoped>\n",
              "    .dataframe tbody tr th:only-of-type {\n",
              "        vertical-align: middle;\n",
              "    }\n",
              "\n",
              "    .dataframe tbody tr th {\n",
              "        vertical-align: top;\n",
              "    }\n",
              "\n",
              "    .dataframe thead th {\n",
              "        text-align: right;\n",
              "    }\n",
              "</style>\n",
              "<table border=\"1\" class=\"dataframe\">\n",
              "  <thead>\n",
              "    <tr style=\"text-align: right;\">\n",
              "      <th></th>\n",
              "      <th></th>\n",
              "      <th>0</th>\n",
              "      <th>1</th>\n",
              "    </tr>\n",
              "  </thead>\n",
              "  <tbody>\n",
              "    <tr>\n",
              "      <th rowspan=\"8\" valign=\"top\">2</th>\n",
              "      <th>123740</th>\n",
              "      <td>1</td>\n",
              "      <td>0</td>\n",
              "    </tr>\n",
              "    <tr>\n",
              "      <th>2194</th>\n",
              "      <td>1</td>\n",
              "      <td>0</td>\n",
              "    </tr>\n",
              "    <tr>\n",
              "      <th>245280</th>\n",
              "      <td>1</td>\n",
              "      <td>0</td>\n",
              "    </tr>\n",
              "    <tr>\n",
              "      <th>282317</th>\n",
              "      <td>1</td>\n",
              "      <td>0</td>\n",
              "    </tr>\n",
              "    <tr>\n",
              "      <th>144647</th>\n",
              "      <td>1</td>\n",
              "      <td>0</td>\n",
              "    </tr>\n",
              "    <tr>\n",
              "      <th>...</th>\n",
              "      <td>...</td>\n",
              "      <td>...</td>\n",
              "    </tr>\n",
              "    <tr>\n",
              "      <th>255555</th>\n",
              "      <td>1</td>\n",
              "      <td>0</td>\n",
              "    </tr>\n",
              "    <tr>\n",
              "      <th>39783</th>\n",
              "      <td>1</td>\n",
              "      <td>0</td>\n",
              "    </tr>\n",
              "    <tr>\n",
              "      <th rowspan=\"2\" valign=\"top\">1</th>\n",
              "      <th>725</th>\n",
              "      <td>1</td>\n",
              "      <td>0</td>\n",
              "    </tr>\n",
              "    <tr>\n",
              "      <th>124258</th>\n",
              "      <td>1</td>\n",
              "      <td>0</td>\n",
              "    </tr>\n",
              "    <tr>\n",
              "      <th>2</th>\n",
              "      <th>180834</th>\n",
              "      <td>0</td>\n",
              "      <td>1</td>\n",
              "    </tr>\n",
              "  </tbody>\n",
              "</table>\n",
              "<p>288230 rows × 2 columns</p>\n",
              "</div>\n",
              "      <button class=\"colab-df-convert\" onclick=\"convertToInteractive('df-4a3864d6-14cb-483c-9e6f-4b5ed8f66a40')\"\n",
              "              title=\"Convert this dataframe to an interactive table.\"\n",
              "              style=\"display:none;\">\n",
              "        \n",
              "  <svg xmlns=\"http://www.w3.org/2000/svg\" height=\"24px\"viewBox=\"0 0 24 24\"\n",
              "       width=\"24px\">\n",
              "    <path d=\"M0 0h24v24H0V0z\" fill=\"none\"/>\n",
              "    <path d=\"M18.56 5.44l.94 2.06.94-2.06 2.06-.94-2.06-.94-.94-2.06-.94 2.06-2.06.94zm-11 1L8.5 8.5l.94-2.06 2.06-.94-2.06-.94L8.5 2.5l-.94 2.06-2.06.94zm10 10l.94 2.06.94-2.06 2.06-.94-2.06-.94-.94-2.06-.94 2.06-2.06.94z\"/><path d=\"M17.41 7.96l-1.37-1.37c-.4-.4-.92-.59-1.43-.59-.52 0-1.04.2-1.43.59L10.3 9.45l-7.72 7.72c-.78.78-.78 2.05 0 2.83L4 21.41c.39.39.9.59 1.41.59.51 0 1.02-.2 1.41-.59l7.78-7.78 2.81-2.81c.8-.78.8-2.07 0-2.86zM5.41 20L4 18.59l7.72-7.72 1.47 1.35L5.41 20z\"/>\n",
              "  </svg>\n",
              "      </button>\n",
              "      \n",
              "  <style>\n",
              "    .colab-df-container {\n",
              "      display:flex;\n",
              "      flex-wrap:wrap;\n",
              "      gap: 12px;\n",
              "    }\n",
              "\n",
              "    .colab-df-convert {\n",
              "      background-color: #E8F0FE;\n",
              "      border: none;\n",
              "      border-radius: 50%;\n",
              "      cursor: pointer;\n",
              "      display: none;\n",
              "      fill: #1967D2;\n",
              "      height: 32px;\n",
              "      padding: 0 0 0 0;\n",
              "      width: 32px;\n",
              "    }\n",
              "\n",
              "    .colab-df-convert:hover {\n",
              "      background-color: #E2EBFA;\n",
              "      box-shadow: 0px 1px 2px rgba(60, 64, 67, 0.3), 0px 1px 3px 1px rgba(60, 64, 67, 0.15);\n",
              "      fill: #174EA6;\n",
              "    }\n",
              "\n",
              "    [theme=dark] .colab-df-convert {\n",
              "      background-color: #3B4455;\n",
              "      fill: #D2E3FC;\n",
              "    }\n",
              "\n",
              "    [theme=dark] .colab-df-convert:hover {\n",
              "      background-color: #434B5C;\n",
              "      box-shadow: 0px 1px 3px 1px rgba(0, 0, 0, 0.15);\n",
              "      filter: drop-shadow(0px 1px 2px rgba(0, 0, 0, 0.3));\n",
              "      fill: #FFFFFF;\n",
              "    }\n",
              "  </style>\n",
              "\n",
              "      <script>\n",
              "        const buttonEl =\n",
              "          document.querySelector('#df-4a3864d6-14cb-483c-9e6f-4b5ed8f66a40 button.colab-df-convert');\n",
              "        buttonEl.style.display =\n",
              "          google.colab.kernel.accessAllowed ? 'block' : 'none';\n",
              "\n",
              "        async function convertToInteractive(key) {\n",
              "          const element = document.querySelector('#df-4a3864d6-14cb-483c-9e6f-4b5ed8f66a40');\n",
              "          const dataTable =\n",
              "            await google.colab.kernel.invokeFunction('convertToInteractive',\n",
              "                                                     [key], {});\n",
              "          if (!dataTable) return;\n",
              "\n",
              "          const docLinkHtml = 'Like what you see? Visit the ' +\n",
              "            '<a target=\"_blank\" href=https://colab.research.google.com/notebooks/data_table.ipynb>data table notebook</a>'\n",
              "            + ' to learn more about interactive tables.';\n",
              "          element.innerHTML = '';\n",
              "          dataTable['output_type'] = 'display_data';\n",
              "          await google.colab.output.renderOutput(dataTable, element);\n",
              "          const docLink = document.createElement('div');\n",
              "          docLink.innerHTML = docLinkHtml;\n",
              "          element.appendChild(docLink);\n",
              "        }\n",
              "      </script>\n",
              "    </div>\n",
              "  </div>\n",
              "  "
            ]
          },
          "metadata": {},
          "execution_count": 13
        }
      ]
    },
    {
      "cell_type": "code",
      "source": [
        "X_train.shape"
      ],
      "metadata": {
        "colab": {
          "base_uri": "https://localhost:8080/"
        },
        "id": "wgB8VkMsM5fP",
        "outputId": "6876f02d-a963-4528-cb36-8093701c3c80"
      },
      "execution_count": null,
      "outputs": [
        {
          "output_type": "execute_result",
          "data": {
            "text/plain": [
              "(288230, 20, 1)"
            ]
          },
          "metadata": {},
          "execution_count": 14
        }
      ]
    },
    {
      "cell_type": "code",
      "source": [
        "import tensorflow.compat.v1 as tf\n",
        "from tensorflow.keras.layers import Dense, Activation, Flatten, concatenate, Input, Dropout, LSTM, Bidirectional,BatchNormalization,PReLU,ReLU,Reshape\n",
        "from keras.wrappers.scikit_learn import KerasClassifier\n",
        "from tensorflow.keras.models import Sequential, Model, load_model\n",
        "from tensorflow.keras.callbacks import EarlyStopping, ModelCheckpoint\n",
        "from tensorflow import keras\n",
        "from tensorflow.keras.layers import Conv1D,Conv2D,Add\n",
        "from tensorflow.keras.layers import MaxPool1D, MaxPooling2D\n",
        "\n",
        "inputs = tf.keras.Input(shape=(X_train.shape[1],1))\n",
        "\n",
        "gru = tf.keras.layers.GRU(256, return_sequences=True)(inputs)\n",
        "flat = Flatten()(gru)\n",
        "outputs = Dense(2, activation='softmax')(flat)\n",
        "\n",
        "model = tf.keras.Model(inputs, outputs)\n",
        "\n",
        "model.summary()"
      ],
      "metadata": {
        "colab": {
          "base_uri": "https://localhost:8080/"
        },
        "id": "_9TNZGFgOEUr",
        "outputId": "0a73c9c2-6ee1-439e-e56c-1a5bfc493084"
      },
      "execution_count": null,
      "outputs": [
        {
          "output_type": "stream",
          "name": "stdout",
          "text": [
            "Model: \"model\"\n",
            "_________________________________________________________________\n",
            " Layer (type)                Output Shape              Param #   \n",
            "=================================================================\n",
            " input_1 (InputLayer)        [(None, 20, 1)]           0         \n",
            "                                                                 \n",
            " gru (GRU)                   (None, 20, 256)           198144    \n",
            "                                                                 \n",
            " flatten (Flatten)           (None, 5120)              0         \n",
            "                                                                 \n",
            " dense (Dense)               (None, 2)                 10242     \n",
            "                                                                 \n",
            "=================================================================\n",
            "Total params: 208,386\n",
            "Trainable params: 208,386\n",
            "Non-trainable params: 0\n",
            "_________________________________________________________________\n"
          ]
        }
      ]
    },
    {
      "cell_type": "code",
      "source": [
        "def train_model(model,x_train, y_train,x_test,y_test, epoch = 2):\n",
        "\n",
        "        model.compile(optimizer='adam',\n",
        "                  loss=['categorical_crossentropy'],\n",
        "                  metrics=['accuracy'])\n",
        "        \n",
        "        history = model.fit(x_train,y_train,\n",
        "                        batch_size=32,\n",
        "                        epochs=epoch,\n",
        "                        validation_split=0.2,\n",
        "                        callbacks=[\n",
        "                          tf.keras.callbacks.EarlyStopping(\n",
        "                          monitor='val_loss',\n",
        "                          patience=4,\n",
        "                          restore_best_weights=True)]\n",
        "        )\n",
        "        \n",
        "        return model,history"
      ],
      "metadata": {
        "id": "b8dJm03QOjGC"
      },
      "execution_count": null,
      "outputs": []
    },
    {
      "cell_type": "code",
      "source": [
        "config = tf.compat.v1.ConfigProto()\n",
        "config.gpu_options.allow_growth = True\n",
        "sess = tf.compat.v1.Session(config=config)\n",
        "\n",
        "model,history = train_model(model, X_train, Y_train,X_test, Y_test, epoch = 30) "
      ],
      "metadata": {
        "colab": {
          "base_uri": "https://localhost:8080/"
        },
        "id": "BMdgb0RjOvBm",
        "outputId": "080af890-ffe7-4cf6-d02e-0ef30f9f49ce"
      },
      "execution_count": null,
      "outputs": [
        {
          "output_type": "stream",
          "name": "stdout",
          "text": [
            "Epoch 1/30\n",
            "7206/7206 [==============================] - 460s 64ms/step - loss: 0.5086 - accuracy: 0.7866 - val_loss: 0.4990 - val_accuracy: 0.7881\n",
            "Epoch 2/30\n",
            "7206/7206 [==============================] - 458s 64ms/step - loss: 0.4817 - accuracy: 0.7967 - val_loss: 0.4592 - val_accuracy: 0.8049\n",
            "Epoch 3/30\n",
            "7206/7206 [==============================] - 468s 65ms/step - loss: 0.4283 - accuracy: 0.8187 - val_loss: 0.4042 - val_accuracy: 0.8277\n",
            "Epoch 4/30\n",
            "7206/7206 [==============================] - 454s 63ms/step - loss: 0.3600 - accuracy: 0.8486 - val_loss: 0.3365 - val_accuracy: 0.8586\n",
            "Epoch 5/30\n",
            "7206/7206 [==============================] - 456s 63ms/step - loss: 0.3011 - accuracy: 0.8743 - val_loss: 0.2966 - val_accuracy: 0.8776\n",
            "Epoch 6/30\n",
            "7206/7206 [==============================] - 457s 63ms/step - loss: 0.2575 - accuracy: 0.8936 - val_loss: 0.2707 - val_accuracy: 0.8905\n",
            "Epoch 7/30\n",
            "7206/7206 [==============================] - 455s 63ms/step - loss: 0.2216 - accuracy: 0.9091 - val_loss: 0.2360 - val_accuracy: 0.9045\n",
            "Epoch 8/30\n",
            "7206/7206 [==============================] - 450s 62ms/step - loss: 0.1977 - accuracy: 0.9196 - val_loss: 0.2248 - val_accuracy: 0.9096\n",
            "Epoch 9/30\n",
            "7206/7206 [==============================] - 458s 64ms/step - loss: 0.1769 - accuracy: 0.9279 - val_loss: 0.2011 - val_accuracy: 0.9191\n",
            "Epoch 10/30\n",
            "7206/7206 [==============================] - 455s 63ms/step - loss: 0.1603 - accuracy: 0.9349 - val_loss: 0.1986 - val_accuracy: 0.9214\n",
            "Epoch 11/30\n",
            "7206/7206 [==============================] - 461s 64ms/step - loss: 0.1455 - accuracy: 0.9416 - val_loss: 0.1885 - val_accuracy: 0.9250\n",
            "Epoch 12/30\n",
            "7206/7206 [==============================] - 452s 63ms/step - loss: 0.1367 - accuracy: 0.9452 - val_loss: 0.1808 - val_accuracy: 0.9318\n",
            "Epoch 13/30\n",
            "7206/7206 [==============================] - 444s 62ms/step - loss: 0.1257 - accuracy: 0.9495 - val_loss: 0.1837 - val_accuracy: 0.9313\n",
            "Epoch 14/30\n",
            "7206/7206 [==============================] - 452s 63ms/step - loss: 0.1159 - accuracy: 0.9540 - val_loss: 0.1750 - val_accuracy: 0.9338\n",
            "Epoch 15/30\n",
            "7206/7206 [==============================] - 457s 63ms/step - loss: 0.1087 - accuracy: 0.9566 - val_loss: 0.1747 - val_accuracy: 0.9355\n",
            "Epoch 16/30\n",
            "7206/7206 [==============================] - 455s 63ms/step - loss: 0.1031 - accuracy: 0.9591 - val_loss: 0.1578 - val_accuracy: 0.9426\n",
            "Epoch 17/30\n",
            "7206/7206 [==============================] - 458s 64ms/step - loss: 0.0953 - accuracy: 0.9626 - val_loss: 0.1679 - val_accuracy: 0.9402\n",
            "Epoch 18/30\n",
            "7206/7206 [==============================] - 460s 64ms/step - loss: 0.0915 - accuracy: 0.9640 - val_loss: 0.1674 - val_accuracy: 0.9410\n",
            "Epoch 19/30\n",
            "7206/7206 [==============================] - 456s 63ms/step - loss: 0.1637 - accuracy: 0.9414 - val_loss: 0.4805 - val_accuracy: 0.8379\n",
            "Epoch 20/30\n",
            "7206/7206 [==============================] - 443s 61ms/step - loss: 0.1683 - accuracy: 0.9349 - val_loss: 0.1647 - val_accuracy: 0.9431\n"
          ]
        }
      ]
    },
    {
      "cell_type": "code",
      "source": [
        "model_acc = model.evaluate(X_test, Y_test, verbose=0)[1]\n",
        "print(\"Test Accuracy: {:.3f}%\".format(model_acc * 100))"
      ],
      "metadata": {
        "colab": {
          "base_uri": "https://localhost:8080/"
        },
        "id": "wFitHx3y7LF2",
        "outputId": "377ee397-520d-40ae-f975-062a831a1fa0"
      },
      "execution_count": null,
      "outputs": [
        {
          "output_type": "stream",
          "name": "stdout",
          "text": [
            "Test Accuracy: 94.225%\n"
          ]
        }
      ]
    },
    {
      "cell_type": "code",
      "source": [
        "plt.plot(history.history['accuracy'])\n",
        "plt.plot(history.history['val_accuracy'])\n",
        "plt.title('model accuracy')\n",
        "plt.ylabel('accuracy')\n",
        "plt.xlabel('epoch')\n",
        "plt.legend(['train', 'test'], loc='upper left')\n",
        "plt.show()\n",
        "\n",
        "plt.plot(history.history['loss'])\n",
        "plt.plot(history.history['val_loss'])\n",
        "plt.title('model loss')\n",
        "plt.ylabel('loss')\n",
        "plt.xlabel('epoch')\n",
        "plt.legend(['train', 'test'], loc='upper left')\n",
        "plt.show()"
      ],
      "metadata": {
        "colab": {
          "base_uri": "https://localhost:8080/",
          "height": 573
        },
        "id": "0meAZ8x-1Lii",
        "outputId": "cefe9193-b0c1-4fae-d024-d11c590fbc59"
      },
      "execution_count": null,
      "outputs": [
        {
          "output_type": "display_data",
          "data": {
            "text/plain": [
              "<Figure size 432x288 with 1 Axes>"
            ],
            "image/png": "[encoded data removed]"
          },
          "metadata": {
            "needs_background": "light"
          }
        },
        {
          "output_type": "display_data",
          "data": {
            "text/plain": [
              "<Figure size 432x288 with 1 Axes>"
            ],
            "image/png": "[encoded data removed]"
          },
          "metadata": {
            "needs_background": "light"
          }
        }
      ]
    },
    {
      "cell_type": "code",
      "source": [
        "from sklearn.metrics import confusion_matrix, classification_report\n",
        "import matplotlib.pyplot as plt\n",
        "import seaborn as sns\n",
        "\n",
        "y_pred = np.array(list(map(lambda x: np.argmax(x), model.predict(X_test))))\n",
        "y_test = Y_test.idxmax(axis=1)\n",
        "\n",
        "cm = confusion_matrix(y_test, y_pred)\n",
        "clr = classification_report(y_test, y_pred)\n",
        "\n",
        "plt.figure(figsize=(8, 8))\n",
        "sns.heatmap(cm, annot=True, vmin=0, fmt='g', cbar=False, cmap='Blues')\n",
        "plt.xlabel(\"Predicted\")\n",
        "plt.ylabel(\"Actual\")\n",
        "plt.title(\"Confusion Matrix\")\n",
        "plt.show()\n",
        "\n",
        "print(\"Classification Report:\\n----------------------\\n\", clr)"
      ],
      "metadata": {
        "colab": {
          "base_uri": "https://localhost:8080/",
          "height": 711
        },
        "id": "GkUiR6aN1P6Q",
        "outputId": "afc163fa-4643-468e-fd82-811a09d77d98"
      },
      "execution_count": null,
      "outputs": [
        {
          "output_type": "display_data",
          "data": {
            "text/plain": [
              "<Figure size 576x576 with 1 Axes>"
            ],
            "image/png": "[encoded data removed]"
          },
          "metadata": {
            "needs_background": "light"
          }
        },
        {
          "output_type": "stream",
          "name": "stdout",
          "text": [
            "Classification Report:\n",
            "----------------------\n",
            "               precision    recall  f1-score   support\n",
            "\n",
            "           0       0.95      0.98      0.96    150907\n",
            "           1       0.91      0.81      0.86     41247\n",
            "\n",
            "    accuracy                           0.94    192154\n",
            "   macro avg       0.93      0.90      0.91    192154\n",
            "weighted avg       0.94      0.94      0.94    192154\n",
            "\n"
          ]
        }
      ]
    }
  ]
}