{
 "cells": [
  {
   "cell_type": "code",
   "execution_count": 3,
   "id": "67be1b5f",
   "metadata": {
    "id": "67be1b5f"
   },
   "outputs": [],
   "source": [
    "import numpy as np\n",
    "import mne # library for eeg processing\n"
   ]
  },
  {
   "cell_type": "markdown",
   "id": "W5MYzVOtcnPF",
   "metadata": {
    "id": "W5MYzVOtcnPF"
   },
   "source": [
    "# Prepare dataset"
   ]
  },
  {
   "cell_type": "code",
   "execution_count": 4,
   "id": "5DZKHjw6ct-E",
   "metadata": {
    "colab": {
     "base_uri": "https://localhost:8080/"
    },
    "id": "5DZKHjw6ct-E",
    "outputId": "7ad56966-5a2c-444c-837c-58810dd1b0fc"
   },
   "outputs": [
    {
     "name": "stdout",
     "output_type": "stream",
     "text": [
      "1\n",
      "Reading /Users/a0/Downloads/Dataset-2-EEG_images/1-P-cleaned.fif ...\n",
      "    Found the data of interest:\n",
      "        t =       0.00 ...    1496.09 ms\n",
      "        0 CTF compensation matrices available\n"
     ]
    },
    {
     "name": "stderr",
     "output_type": "stream",
     "text": [
      "<ipython-input-4-49edbe72ae26>:10: RuntimeWarning: This filename (./Dataset-2-EEG_images/1-P-cleaned.fif) does not conform to MNE naming conventions. All epochs files should end with -epo.fif, -epo.fif.gz, _epo.fif or _epo.fif.gz\n",
      "  eeg[i] = mne.read_epochs(datafilename)\n"
     ]
    },
    {
     "name": "stdout",
     "output_type": "stream",
     "text": [
      "Not setting metadata\n",
      "Not setting metadata\n",
      "371 matching events found\n",
      "No baseline correction applied\n",
      "0 projection items activated\n",
      "2\n",
      "Reading /Users/a0/Downloads/Dataset-2-EEG_images/2-P-cleaned.fif ...\n"
     ]
    },
    {
     "name": "stderr",
     "output_type": "stream",
     "text": [
      "<ipython-input-4-49edbe72ae26>:10: RuntimeWarning: This filename (./Dataset-2-EEG_images/2-P-cleaned.fif) does not conform to MNE naming conventions. All epochs files should end with -epo.fif, -epo.fif.gz, _epo.fif or _epo.fif.gz\n",
      "  eeg[i] = mne.read_epochs(datafilename)\n"
     ]
    },
    {
     "name": "stdout",
     "output_type": "stream",
     "text": [
      "    Found the data of interest:\n",
      "        t =       0.00 ...    1496.09 ms\n",
      "        0 CTF compensation matrices available\n",
      "Not setting metadata\n",
      "Not setting metadata\n",
      "880 matching events found\n",
      "No baseline correction applied\n",
      "0 projection items activated\n"
     ]
    }
   ],
   "source": [
    "# subject_list_valid = [1,2,3,4,5,8,9,10,11,12,13,14,15,16,18,20,21,22,23,24,26]\n",
    "subject_list_valid = [1,2]\n",
    "\n",
    "eeg = {}\n",
    "epochs = {}\n",
    "for i in subject_list_valid:\n",
    "    dataPath = './Dataset-2-EEG_images/'\n",
    "    datafilename =  dataPath + str(i)+'-P-cleaned.fif'\n",
    "    print(i)\n",
    "    eeg[i] = mne.read_epochs(datafilename)\n",
    "    epochs[i] = eeg[i].get_data()"
   ]
  },
  {
   "cell_type": "code",
   "execution_count": 5,
   "id": "f1dqbBBxdKiU",
   "metadata": {
    "colab": {
     "base_uri": "https://localhost:8080/"
    },
    "id": "f1dqbBBxdKiU",
    "outputId": "6088ea63-e2db-4d75-fff9-8508c3ea5fe8"
   },
   "outputs": [
    {
     "name": "stdout",
     "output_type": "stream",
     "text": [
      "Object1:\n",
      "Number of trials = 371\n",
      "Number of channels = 64\n",
      "Number of time points = 384\n",
      "Object2:\n",
      "Number of trials = 880\n",
      "Number of channels = 64\n",
      "Number of time points = 384\n"
     ]
    }
   ],
   "source": [
    "for i in subject_list_valid:\n",
    "    print('Object'+str(i)+':')\n",
    "    print('Number of trials = %d\\nNumber of channels = %d\\nNumber of time points = %d' %(epochs[i].shape)) \n"
   ]
  },
  {
   "cell_type": "code",
   "execution_count": 6,
   "id": "T_HMEhWdm4dO",
   "metadata": {
    "colab": {
     "base_uri": "https://localhost:8080/"
    },
    "id": "T_HMEhWdm4dO",
    "outputId": "4479d4d0-d523-4dc4-f358-ce83cceba48b"
   },
   "outputs": [
    {
     "name": "stdout",
     "output_type": "stream",
     "text": [
      "Object1:\n",
      "Number of trials in FN condition:  99\n",
      "Number of trials in FP condition:  104\n",
      "Number of trials in FU condition:  94\n",
      "Number of trials in NN condition:  30\n",
      "Number of trials in NP condition:  27\n",
      "Number of trials in NU condition:  17\n",
      "Object2:\n",
      "Number of trials in FN condition:  225\n",
      "Number of trials in FP condition:  234\n",
      "Number of trials in FU condition:  227\n",
      "Number of trials in NN condition:  64\n",
      "Number of trials in NP condition:  63\n",
      "Number of trials in NU condition:  67\n"
     ]
    }
   ],
   "source": [
    "for i in subject_list_valid:\n",
    "    print('Object'+str(i)+':')\n",
    "    print('Number of trials in FN condition: ', eeg[i]['FN'].get_data().shape[0])\n",
    "    print('Number of trials in FP condition: ', eeg[i]['FP'].get_data().shape[0])\n",
    "    print('Number of trials in FU condition: ', eeg[i]['FU'].get_data().shape[0])\n",
    "\n",
    "    print('Number of trials in NN condition: ', eeg[i]['NN'].get_data().shape[0])\n",
    "    print('Number of trials in NP condition: ', eeg[i]['NP'].get_data().shape[0])\n",
    "    print('Number of trials in NU condition: ', eeg[i]['NU'].get_data().shape[0])"
   ]
  },
  {
   "cell_type": "code",
   "execution_count": 7,
   "id": "WcSL2LeTm831",
   "metadata": {
    "colab": {
     "base_uri": "https://localhost:8080/"
    },
    "id": "WcSL2LeTm831",
    "outputId": "4478c990-cdae-4062-99b7-58c4e5d99299"
   },
   "outputs": [
    {
     "name": "stdout",
     "output_type": "stream",
     "text": [
      "Object1:\n",
      "Number of trials in all FAMILIAR conditions:  297\n",
      "Number of trials in all NOVEL conditions:  74\n",
      "Object2:\n",
      "Number of trials in all FAMILIAR conditions:  686\n",
      "Number of trials in all NOVEL conditions:  194\n"
     ]
    }
   ],
   "source": [
    "familiar_all = {}\n",
    "novel_all = {}\n",
    "for i in subject_list_valid:\n",
    "    print('Object'+str(i)+':')\n",
    "    familiar_all[i] = eeg[i]['FU', 'FP', 'FN']\n",
    "    print('Number of trials in all FAMILIAR conditions: ', familiar_all[i].get_data().shape[0])\n",
    "    novel_all[i] = eeg[i]['NU', 'NP', 'NN']\n",
    "    print('Number of trials in all NOVEL conditions: ', novel_all[i].get_data().shape[0])"
   ]
  },
  {
   "cell_type": "code",
   "execution_count": 8,
   "id": "jMW3GiOlXQ8r",
   "metadata": {
    "id": "jMW3GiOlXQ8r"
   },
   "outputs": [],
   "source": [
    "conc_familiar = familiar_all[1].get_data()\n",
    "for i in subject_list_valid[1:]:\n",
    "    conc_familiar = np.concatenate((conc_familiar, familiar_all[i].get_data()), axis=0)\n",
    "\n",
    "conc_novel = novel_all[1].get_data()\n",
    "for i in subject_list_valid[1:]:\n",
    "    conc_novel = np.concatenate((conc_novel, novel_all[i].get_data()), axis=0)"
   ]
  },
  {
   "cell_type": "code",
   "execution_count": 9,
   "id": "Qy-9G1Bfge2K",
   "metadata": {
    "id": "Qy-9G1Bfge2K"
   },
   "outputs": [],
   "source": [
    "del familiar_all\n",
    "del novel_all"
   ]
  },
  {
   "cell_type": "code",
   "execution_count": 10,
   "id": "PsE0IcjEViJC",
   "metadata": {
    "colab": {
     "base_uri": "https://localhost:8080/"
    },
    "id": "PsE0IcjEViJC",
    "outputId": "f74b05ca-2565-4688-93d4-23fbfccb629d"
   },
   "outputs": [
    {
     "data": {
      "text/plain": [
       "(983, 64, 384)"
      ]
     },
     "execution_count": 10,
     "metadata": {},
     "output_type": "execute_result"
    }
   ],
   "source": [
    "conc_familiar.shape"
   ]
  },
  {
   "cell_type": "code",
   "execution_count": 11,
   "id": "HOp8xJn4XvOx",
   "metadata": {
    "colab": {
     "base_uri": "https://localhost:8080/"
    },
    "id": "HOp8xJn4XvOx",
    "outputId": "8d70f208-b9e8-4a66-de19-f305f5846800"
   },
   "outputs": [
    {
     "data": {
      "text/plain": [
       "(268, 64, 384)"
      ]
     },
     "execution_count": 11,
     "metadata": {},
     "output_type": "execute_result"
    }
   ],
   "source": [
    "conc_novel.shape"
   ]
  },
  {
   "cell_type": "code",
   "execution_count": 12,
   "id": "tbtLQ5TNyl87",
   "metadata": {
    "id": "tbtLQ5TNyl87"
   },
   "outputs": [],
   "source": [
    "avg_familiar = conc_familiar.mean(axis=1)\n",
    "avg_novel = conc_novel.mean(axis=1)"
   ]
  },
  {
   "cell_type": "code",
   "execution_count": 13,
   "id": "BRkXsaEgyysV",
   "metadata": {
    "colab": {
     "base_uri": "https://localhost:8080/"
    },
    "id": "BRkXsaEgyysV",
    "outputId": "c91102fa-985e-457c-9c17-cf569b80c5f9"
   },
   "outputs": [
    {
     "data": {
      "text/plain": [
       "((983, 384), (268, 384))"
      ]
     },
     "execution_count": 13,
     "metadata": {},
     "output_type": "execute_result"
    }
   ],
   "source": [
    "avg_familiar.shape, avg_novel.shape"
   ]
  },
  {
   "cell_type": "code",
   "execution_count": 14,
   "id": "KGEwgBl9X_Pd",
   "metadata": {
    "id": "KGEwgBl9X_Pd"
   },
   "outputs": [],
   "source": [
    "# flat_familiar = conc_familiar.reshape(-1,64*384)\n",
    "# flat_novel = conc_novel.reshape(-1,64*384)"
   ]
  },
  {
   "cell_type": "code",
   "execution_count": 15,
   "id": "6HhBXdvbYOiT",
   "metadata": {
    "id": "6HhBXdvbYOiT"
   },
   "outputs": [],
   "source": [
    "# flat_familiar.shape, flat_novel.shape"
   ]
  },
  {
   "cell_type": "markdown",
   "id": "ouFcbr8ZgY5j",
   "metadata": {
    "id": "ouFcbr8ZgY5j"
   },
   "source": [
    "# Dynamic Time Warping\n"
   ]
  },
  {
   "cell_type": "code",
   "execution_count": 19,
   "id": "yV7FkzSStRyB",
   "metadata": {
    "id": "yV7FkzSStRyB"
   },
   "outputs": [],
   "source": [
    "def DTWDistance(s1, s2,w):\n",
    "    DTW={}\n",
    "    \n",
    "    w = max(w, abs(len(s1)-len(s2)))\n",
    "    \n",
    "    for i in range(-1,len(s1)):\n",
    "        for j in range(-1,len(s2)):\n",
    "            DTW[(i, j)] = float('inf')\n",
    "    DTW[(-1, -1)] = 0\n",
    "  \n",
    "    for i in range(len(s1)):\n",
    "        for j in range(max(0, i-w), min(len(s2), i+w)):\n",
    "            dist= (s1[i]-s2[j])**2\n",
    "            DTW[(i, j)] = dist + min(DTW[(i-1, j)],DTW[(i, j-1)], DTW[(i-1, j-1)])\n",
    "\t\t\n",
    "    return np.sqrt(DTW[len(s1)-1, len(s2)-1])"
   ]
  },
  {
   "cell_type": "code",
   "execution_count": 20,
   "id": "rYy_kX55tUzx",
   "metadata": {
    "colab": {
     "base_uri": "https://localhost:8080/"
    },
    "id": "rYy_kX55tUzx",
    "outputId": "e825c548-bf06-4c0a-c4b7-7e9f23b31052"
   },
   "outputs": [
    {
     "data": {
      "text/plain": [
       "150.1247395994242"
      ]
     },
     "execution_count": 20,
     "metadata": {},
     "output_type": "execute_result"
    }
   ],
   "source": [
    "DTWDistance(epochs[1][1][1], epochs[2][1][1], 10)"
   ]
  },
  {
   "cell_type": "code",
   "execution_count": 21,
   "id": "z8ZtyAjbsxRq",
   "metadata": {
    "id": "z8ZtyAjbsxRq"
   },
   "outputs": [],
   "source": [
    "def LB_Keogh(s1,s2,r):\n",
    "    LB_sum=0\n",
    "    for ind,i in enumerate(s1):\n",
    "        \n",
    "        lower_bound=min(s2[(ind-r if ind-r>=0 else 0):(ind+r)])\n",
    "        upper_bound=max(s2[(ind-r if ind-r>=0 else 0):(ind+r)])\n",
    "        \n",
    "        if i>upper_bound:\n",
    "            LB_sum=LB_sum+(i-upper_bound)**2\n",
    "        elif i<lower_bound:\n",
    "            LB_sum=LB_sum+(i-lower_bound)**2\n",
    "    \n",
    "    return np.sqrt(LB_sum)"
   ]
  },
  {
   "cell_type": "markdown",
   "id": "Jo65fvDb9XkE",
   "metadata": {
    "id": "Jo65fvDb9XkE"
   },
   "source": [
    "# KNN"
   ]
  },
  {
   "cell_type": "code",
   "execution_count": 23,
   "id": "hwJJqDLe-HzC",
   "metadata": {
    "id": "hwJJqDLe-HzC"
   },
   "outputs": [],
   "source": [
    "from sklearn.metrics import classification_report\n",
    "\n",
    "def knn(train,test,w):\n",
    "    preds=[]\n",
    "    for ind,i in enumerate(test):\n",
    "        min_dist=float('inf')\n",
    "        closest_seq=[]\n",
    "        #print ind\n",
    "        for j in train:\n",
    "            if LB_Keogh(i[:-1],j[:-1],5)<min_dist:\n",
    "                dist=DTWDistance(i[:-1],j[:-1],w)\n",
    "                if dist<min_dist:\n",
    "                    min_dist=dist\n",
    "                    closest_seq=j\n",
    "        preds.append(closest_seq[-1])\n",
    "    return classification_report(test[:,-1],preds)"
   ]
  },
  {
   "cell_type": "code",
   "execution_count": 26,
   "id": "pjz1ap2gePRY",
   "metadata": {
    "id": "pjz1ap2gePRY"
   },
   "outputs": [],
   "source": [
    "from sklearn.model_selection import train_test_split"
   ]
  },
  {
   "cell_type": "code",
   "execution_count": 27,
   "id": "U7yogENselW4",
   "metadata": {
    "id": "U7yogENselW4"
   },
   "outputs": [],
   "source": [
    "alldata = np.concatenate((avg_familiar, avg_novel), axis=0)"
   ]
  },
  {
   "cell_type": "code",
   "execution_count": 28,
   "id": "11e9Lyrz_v0w",
   "metadata": {
    "colab": {
     "base_uri": "https://localhost:8080/"
    },
    "id": "11e9Lyrz_v0w",
    "outputId": "981cd7e6-a931-41f4-bea6-3665e531109c"
   },
   "outputs": [
    {
     "data": {
      "text/plain": [
       "((983, 384), (268, 384))"
      ]
     },
     "execution_count": 28,
     "metadata": {},
     "output_type": "execute_result"
    }
   ],
   "source": [
    "avg_familiar.shape, avg_novel.shape"
   ]
  },
  {
   "cell_type": "code",
   "execution_count": 29,
   "id": "chnSszoVezDJ",
   "metadata": {
    "colab": {
     "base_uri": "https://localhost:8080/"
    },
    "id": "chnSszoVezDJ",
    "outputId": "0d3da6a2-e3cb-45f0-aea4-0c97b9d5e997"
   },
   "outputs": [
    {
     "data": {
      "text/plain": [
       "(1251, 384)"
      ]
     },
     "execution_count": 29,
     "metadata": {},
     "output_type": "execute_result"
    }
   ],
   "source": [
    "alldata.shape"
   ]
  },
  {
   "cell_type": "code",
   "execution_count": 30,
   "id": "rp9UL6AlfWzE",
   "metadata": {
    "id": "rp9UL6AlfWzE"
   },
   "outputs": [],
   "source": [
    "labels = np.concatenate((np.ones(avg_familiar.shape[0]), np.zeros(avg_novel.shape[0])))"
   ]
  },
  {
   "cell_type": "code",
   "execution_count": 31,
   "id": "ve1aE5c_f2v_",
   "metadata": {
    "colab": {
     "base_uri": "https://localhost:8080/"
    },
    "id": "ve1aE5c_f2v_",
    "outputId": "0d0c8232-9ac1-49fd-b433-e21c03cc00df"
   },
   "outputs": [
    {
     "data": {
      "text/plain": [
       "(1251,)"
      ]
     },
     "execution_count": 31,
     "metadata": {},
     "output_type": "execute_result"
    }
   ],
   "source": [
    "labels.shape"
   ]
  },
  {
   "cell_type": "code",
   "execution_count": 32,
   "id": "0SF-vq4QgtZc",
   "metadata": {
    "id": "0SF-vq4QgtZc"
   },
   "outputs": [],
   "source": [
    "del eeg\n",
    "del epochs"
   ]
  },
  {
   "cell_type": "code",
   "execution_count": 33,
   "id": "DojedRjBeRae",
   "metadata": {
    "id": "DojedRjBeRae"
   },
   "outputs": [],
   "source": [
    "X_train, X_test, y_train, y_test = train_test_split(alldata, labels, test_size=0.33, random_state=42)"
   ]
  },
  {
   "cell_type": "code",
   "execution_count": 34,
   "id": "EJT5Z520huZF",
   "metadata": {
    "id": "EJT5Z520huZF"
   },
   "outputs": [],
   "source": [
    "train = np.c_[ X_train, y_train ]  \n",
    "test = np.c_[ X_test, y_test ]  "
   ]
  },
  {
   "cell_type": "code",
   "execution_count": 36,
   "id": "F32LoH8GhIw8",
   "metadata": {
    "id": "F32LoH8GhIw8"
   },
   "outputs": [
    {
     "name": "stdout",
     "output_type": "stream",
     "text": [
      "              precision    recall  f1-score   support\n",
      "\n",
      "         0.0       0.24      0.24      0.24        91\n",
      "         1.0       0.79      0.78      0.78       322\n",
      "\n",
      "    accuracy                           0.66       413\n",
      "   macro avg       0.51      0.51      0.51       413\n",
      "weighted avg       0.66      0.66      0.66       413\n",
      "\n"
     ]
    }
   ],
   "source": [
    "print(knn(train,test,4))"
   ]
  },
  {
   "cell_type": "code",
   "execution_count": 37,
   "id": "AYQs-qd_65ok",
   "metadata": {
    "colab": {
     "base_uri": "https://localhost:8080/"
    },
    "id": "AYQs-qd_65ok",
    "outputId": "db9ae7ea-4a21-4aa4-9887-4be6ee2749b2"
   },
   "outputs": [
    {
     "data": {
      "text/plain": [
       "(838, 385)"
      ]
     },
     "execution_count": 37,
     "metadata": {},
     "output_type": "execute_result"
    }
   ],
   "source": [
    "train.shape"
   ]
  },
  {
   "cell_type": "code",
   "execution_count": null,
   "id": "e83a47b1-1473-4fcd-b8be-1b6e63df39f8",
   "metadata": {},
   "outputs": [],
   "source": []
  }
 ],
 "metadata": {
  "@webio": {
   "lastCommId": null,
   "lastKernelId": null
  },
  "accelerator": "GPU",
  "colab": {
   "collapsed_sections": [],
   "name": "dtwknn2.ipynb",
   "provenance": [],
   "toc_visible": true
  },
  "kernelspec": {
   "display_name": "Python 3",
   "language": "python",
   "name": "python3"
  },
  "language_info": {
   "codemirror_mode": {
    "name": "ipython",
    "version": 3
   },
   "file_extension": ".py",
   "mimetype": "text/x-python",
   "name": "python",
   "nbconvert_exporter": "python",
   "pygments_lexer": "ipython3",
   "version": "3.7.10"
  }
 },
 "nbformat": 4,
 "nbformat_minor": 5
}
