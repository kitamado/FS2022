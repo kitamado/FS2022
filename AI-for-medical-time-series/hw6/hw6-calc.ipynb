{
 "cells": [
  {
   "cell_type": "code",
   "execution_count": 1,
   "id": "8149a9d3-2bef-4888-979b-6123ad377174",
   "metadata": {},
   "outputs": [],
   "source": [
    "import numpy as np\n",
    "import random as rd\n",
    "import matplotlib.pyplot as plt\n",
    "import math"
   ]
  },
  {
   "cell_type": "code",
   "execution_count": 17,
   "id": "d0c5adea-e3ba-4487-b7e5-e746493d6da8",
   "metadata": {},
   "outputs": [],
   "source": [
    "data = np.array([[55, 33], [42, 15], [38, 51], [27, 20], [21, 45], [33, 58], [18, 29]])"
   ]
  },
  {
   "cell_type": "code",
   "execution_count": 18,
   "id": "2a01e0e9-01c8-4b48-837b-3273693e2fb4",
   "metadata": {},
   "outputs": [
    {
     "data": {
      "text/plain": [
       "(7, 2)"
      ]
     },
     "execution_count": 18,
     "metadata": {},
     "output_type": "execute_result"
    }
   ],
   "source": [
    "data.shape"
   ]
  },
  {
   "cell_type": "code",
   "execution_count": 19,
   "id": "9d20e6fd-07c3-410e-8d78-eca3f4cd6439",
   "metadata": {},
   "outputs": [],
   "source": [
    "center1 = [50,55]"
   ]
  },
  {
   "cell_type": "code",
   "execution_count": 20,
   "id": "a24d86b5-3060-4c89-81d4-f89e54c97bbe",
   "metadata": {},
   "outputs": [],
   "source": [
    "center2 = [30, 25]"
   ]
  },
  {
   "cell_type": "code",
   "execution_count": 21,
   "id": "bd3293b4-36f4-441b-9ffc-e9bec4821bf5",
   "metadata": {},
   "outputs": [],
   "source": [
    "def eucl_dis_2(a):\n",
    "    l = a.shape[0]\n",
    "    dis = np.zeros(l)\n",
    "    for i in range(a.shape[0]):\n",
    "        dis[i] = math.sqrt(a[i,0]**2 + a[i,1]**2)\n",
    "    return dis"
   ]
  },
  {
   "cell_type": "code",
   "execution_count": 22,
   "id": "68673faa-de44-499c-be59-6781de3423e6",
   "metadata": {},
   "outputs": [
    {
     "name": "stdout",
     "output_type": "stream",
     "text": [
      "[22.56102835 40.79215611 12.64911064 41.88078318 30.6757233  17.2626765\n",
      " 41.23105626] 207.0525343356812\n",
      "[26.2488095  15.62049935 27.20294102  5.83095189 21.9317122  33.13608305\n",
      " 12.64911064] 142.62010765263946\n",
      "[ True False  True False False  True False]\n"
     ]
    }
   ],
   "source": [
    "center1dis = eucl_dis_2(data-center1) \n",
    "center2dis = eucl_dis_2(data-center2)\n",
    "cluster1_msk = center1dis<center2dis\n",
    "print(center1dis, center1dis.sum())\n",
    "print(center2dis, center2dis.sum())\n",
    "print(center1dis<center2dis)"
   ]
  },
  {
   "cell_type": "code",
   "execution_count": 23,
   "id": "39e22196-186e-456c-a826-405837009816",
   "metadata": {},
   "outputs": [],
   "source": [
    "def calc_center(cluster):\n",
    "    return cluster.mean(axis=0)"
   ]
  },
  {
   "cell_type": "code",
   "execution_count": 25,
   "id": "d6120e37-3976-4f72-b3a2-ab52c87f7dc3",
   "metadata": {},
   "outputs": [
    {
     "name": "stdout",
     "output_type": "stream",
     "text": [
      "[42.         47.33333333]\n",
      "[27.   27.25]\n"
     ]
    }
   ],
   "source": [
    "print(calc_center(data[cluster1_msk]))\n",
    "print(calc_center(data[~cluster1_msk]))"
   ]
  },
  {
   "cell_type": "markdown",
   "id": "d06551cf-1917-4880-9880-6ccc1fd01946",
   "metadata": {},
   "source": [
    "# 2 iter"
   ]
  },
  {
   "cell_type": "code",
   "execution_count": 27,
   "id": "5746c44c-98b3-43a1-90c3-d753f883d05b",
   "metadata": {},
   "outputs": [],
   "source": [
    "center1 = [42.,         47.33333]\n",
    "center2 = [27.,   27.25]"
   ]
  },
  {
   "cell_type": "code",
   "execution_count": 28,
   "id": "bb63a34e-95e9-4754-8bbd-fb7cb7697fc3",
   "metadata": {},
   "outputs": [
    {
     "name": "stdout",
     "output_type": "stream",
     "text": [
      "[19.35056456 32.33333     5.42627578 31.17869351 21.12923162 13.95628349\n",
      " 30.20117529] 153.57555425737695\n",
      "[28.58430513 19.36653041 26.17369863  7.25       18.73666192 31.32989786\n",
      "  9.16856041] 140.6096543657774\n",
      "[ True False  True False False  True False]\n"
     ]
    }
   ],
   "source": [
    "center1dis = eucl_dis_2(data-center1) \n",
    "center2dis = eucl_dis_2(data-center2)\n",
    "cluster1_msk = center1dis<center2dis\n",
    "print(center1dis, center1dis.sum())\n",
    "print(center2dis, center2dis.sum())\n",
    "print(center1dis<center2dis)"
   ]
  },
  {
   "cell_type": "code",
   "execution_count": 29,
   "id": "bbd89480-8608-48cc-b7b2-c2d34b4a144c",
   "metadata": {},
   "outputs": [
    {
     "data": {
      "text/plain": [
       "array([27.  , 27.25])"
      ]
     },
     "execution_count": 29,
     "metadata": {},
     "output_type": "execute_result"
    }
   ],
   "source": [
    "calc_center(data[cluster1_msk])\n",
    "calc_center(data[~cluster1_msk])"
   ]
  }
 ],
 "metadata": {
  "kernelspec": {
   "display_name": "Python 3",
   "language": "python",
   "name": "python3"
  },
  "language_info": {
   "codemirror_mode": {
    "name": "ipython",
    "version": 3
   },
   "file_extension": ".py",
   "mimetype": "text/x-python",
   "name": "python",
   "nbconvert_exporter": "python",
   "pygments_lexer": "ipython3",
   "version": "3.7.10"
  }
 },
 "nbformat": 4,
 "nbformat_minor": 5
}
