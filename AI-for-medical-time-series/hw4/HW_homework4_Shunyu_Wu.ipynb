{
 "cells": [
  {
   "cell_type": "markdown",
   "id": "172f0f9a-a676-4b36-a5f7-f5f42d1ee0c2",
   "metadata": {},
   "source": [
    "### 1. Time-frequency analysis"
   ]
  },
  {
   "cell_type": "markdown",
   "id": "7e25b5c1-748f-4045-90be-b8bf830c94f5",
   "metadata": {},
   "source": [
    "#### (a) Preparing EEG data"
   ]
  },
  {
   "cell_type": "code",
   "execution_count": 1,
   "id": "6e2b8ffb-d540-4397-b064-e360cb705672",
   "metadata": {},
   "outputs": [],
   "source": [
    "import numpy as np\n",
    "import matplotlib.pyplot as plt"
   ]
  },
  {
   "cell_type": "code",
   "execution_count": 2,
   "id": "216768d9-b508-419f-ae39-48e2c40eccd6",
   "metadata": {},
   "outputs": [],
   "source": [
    "eeg = np.load('bci_eeg_dataset.npy') # epochs x channels x time-samples\n",
    "eeg_times = np.load('bci_eeg_dataset_times.npy')"
   ]
  },
  {
   "cell_type": "code",
   "execution_count": 11,
   "id": "26e91e05-c9fc-4a47-b8e2-34e33d2cf7a1",
   "metadata": {},
   "outputs": [],
   "source": [
    "fs = 160"
   ]
  },
  {
   "cell_type": "code",
   "execution_count": 8,
   "id": "f1c2dad0-c67e-471c-bfcb-2d8831fabe30",
   "metadata": {},
   "outputs": [
    {
     "name": "stdout",
     "output_type": "stream",
     "text": [
      "(24, 3, 961)\n",
      "(961,)\n"
     ]
    }
   ],
   "source": [
    "print(eeg.shape)\n",
    "print(eeg_times.shape)\n",
    "# number of epochs: 24\n",
    "# number of channels: 3\n",
    "# number of time samples: 961"
   ]
  },
  {
   "cell_type": "markdown",
   "id": "1fa2b489-ec1c-4146-a9fa-5bfacefd1e9b",
   "metadata": {},
   "source": [
    "#### (b) Generating Morlet wavelets"
   ]
  }
 ],
 "metadata": {
  "kernelspec": {
   "display_name": "Python 3",
   "language": "python",
   "name": "python3"
  },
  "language_info": {
   "codemirror_mode": {
    "name": "ipython",
    "version": 3
   },
   "file_extension": ".py",
   "mimetype": "text/x-python",
   "name": "python",
   "nbconvert_exporter": "python",
   "pygments_lexer": "ipython3",
   "version": "3.7.10"
  }
 },
 "nbformat": 4,
 "nbformat_minor": 5
}
