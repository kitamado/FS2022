{
 "cells": [
  {
   "cell_type": "markdown",
   "id": "5edcfdab-235b-4a0a-99d6-df0484053ff8",
   "metadata": {},
   "source": [
    "### 1. Extracting information from a dataset"
   ]
  },
  {
   "cell_type": "code",
   "execution_count": 1,
   "id": "cc8b6bd3-995c-4612-a363-1eb1ac3cd5f9",
   "metadata": {},
   "outputs": [],
   "source": [
    "import pandas as pd\n",
    "import numpy as np\n",
    "\n",
    "df = pd.read_csv('./strava_uncleaned.csv',index_col=0)"
   ]
  },
  {
   "cell_type": "markdown",
   "id": "b6e30f49-5155-4213-8017-11682d42f5ed",
   "metadata": {},
   "source": [
    "#### (a) Calculate moving time"
   ]
  },
  {
   "cell_type": "code",
   "execution_count": 3,
   "id": "b49fe421-0769-40b2-b426-fdb12488d246",
   "metadata": {},
   "outputs": [],
   "source": [
    "# method that takes in a string in the HH:MM:SS format, and returns a float indicating the number of hours.\n",
    "def get_hours(time_str):\n",
    "    \"\"\"Get float hours from time.\"\"\"\n",
    "    if pd.isna(time_str):\n",
    "    #if (np.isnan(time_str)):\n",
    "        return np.nan\n",
    "    else:\n",
    "        h, m, s = time_str.split(':')\n",
    "        return int(h) + int(m)/60.0 + int(s)/3600.0\n"
   ]
  },
  {
   "cell_type": "code",
   "execution_count": 4,
   "id": "dad4b1a4-8101-49a0-9b0f-073ed0d12283",
   "metadata": {},
   "outputs": [],
   "source": [
    "df['moving_time_h'] = df['moving_time'].apply(get_hours)"
   ]
  },
  {
   "cell_type": "code",
   "execution_count": 5,
   "id": "1443b48d-7f69-44e2-aee7-2880d2df56da",
   "metadata": {},
   "outputs": [
    {
     "name": "stdout",
     "output_type": "stream",
     "text": [
      "0.849158234126984\n",
      "0.7216666666666667\n"
     ]
    }
   ],
   "source": [
    "mean_moving_time_h = df['moving_time_h'].mean()\n",
    "print(mean_moving_time_h) # mean: 0.849158234126984\n",
    "print(df['moving_time_h'][199]) # 200th runner: 0.7216666666666667"
   ]
  },
  {
   "cell_type": "markdown",
   "id": "d621862d-c83c-4225-9058-9498cc8b1630",
   "metadata": {},
   "source": [
    "#### (b) Estimate the length of each run"
   ]
  },
  {
   "cell_type": "code",
   "execution_count": 6,
   "id": "d47c8f20-012e-4481-ab87-0a82f8635070",
   "metadata": {},
   "outputs": [
    {
     "name": "stdout",
     "output_type": "stream",
     "text": [
      "3.7663941533374286\n"
     ]
    }
   ],
   "source": [
    "df['length_km'] = df['moving_time_h'] * df['average_speed_kmph']\n",
    "mean_length = df['length_km'].mean()\n",
    "print(mean_length) # mean length of each run in kilometers: 3.7663941533374286"
   ]
  },
  {
   "cell_type": "markdown",
   "id": "d05748dd-0d94-4432-84f7-5a52aac95d8d",
   "metadata": {},
   "source": [
    "#### (c) Save the DataFrame"
   ]
  },
  {
   "cell_type": "code",
   "execution_count": 7,
   "id": "00f34f83-fda0-4f0d-a7ee-a05e10f94fd0",
   "metadata": {},
   "outputs": [],
   "source": [
    "df.to_csv('./strava_uncleaned_my_v2.csv')"
   ]
  }
 ],
 "metadata": {
  "kernelspec": {
   "display_name": "Python 3",
   "language": "python",
   "name": "python3"
  },
  "language_info": {
   "codemirror_mode": {
    "name": "ipython",
    "version": 3
   },
   "file_extension": ".py",
   "mimetype": "text/x-python",
   "name": "python",
   "nbconvert_exporter": "python",
   "pygments_lexer": "ipython3",
   "version": "3.7.10"
  }
 },
 "nbformat": 4,
 "nbformat_minor": 5
}
