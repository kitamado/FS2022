{
 "cells": [
  {
   "cell_type": "markdown",
   "id": "b95ebf63-1799-4dad-9eff-dfbb50f6d540",
   "metadata": {},
   "source": [
    "### 2. Estimate heart-rate"
   ]
  },
  {
   "cell_type": "code",
   "execution_count": 1,
   "id": "cb20097c-8a6b-40ea-92eb-caec34d076bf",
   "metadata": {},
   "outputs": [],
   "source": [
    "import pandas as pd\n",
    "import numpy as np\n",
    "\n",
    "df = pd.read_csv('./strava_uncleaned_my_v2.csv',index_col=0)"
   ]
  },
  {
   "cell_type": "code",
   "execution_count": 3,
   "id": "0f78c5c3-db8a-41e3-9c4a-175d086e8fbf",
   "metadata": {},
   "outputs": [],
   "source": [
    "# hr(speed, time, length) = 123.3 + speed ∗ 3.4 + time ∗ 10.5 − length ∗ 2.4\n",
    "df['average_heartrate'] = df.apply(\n",
    "    lambda row: 123.3+row.average_speed_kmph*3.4+row.moving_time_h*10.5-row.length_km*2.4 if pd.isna(row.average_heartrate) else row.average_heartrate, axis=1)"
   ]
  },
  {
   "cell_type": "code",
   "execution_count": 4,
   "id": "ad1f4765-6e80-4bf4-8979-e8fe0022cd6a",
   "metadata": {},
   "outputs": [
    {
     "name": "stdout",
     "output_type": "stream",
     "text": [
      "139.3385727152791\n"
     ]
    }
   ],
   "source": [
    "mean_average_heartrate = df['average_heartrate'].mean()\n",
    "print(mean_average_heartrate) # 136.42210526315776"
   ]
  },
  {
   "cell_type": "code",
   "execution_count": 5,
   "id": "64e8859f-e0cf-46a0-90c0-7803bef332e4",
   "metadata": {},
   "outputs": [],
   "source": [
    "df.to_csv('./strava_uncleaned_my_v2.csv')"
   ]
  }
 ],
 "metadata": {
  "kernelspec": {
   "display_name": "Python 3",
   "language": "python",
   "name": "python3"
  },
  "language_info": {
   "codemirror_mode": {
    "name": "ipython",
    "version": 3
   },
   "file_extension": ".py",
   "mimetype": "text/x-python",
   "name": "python",
   "nbconvert_exporter": "python",
   "pygments_lexer": "ipython3",
   "version": "3.7.10"
  }
 },
 "nbformat": 4,
 "nbformat_minor": 5
}
