{
 "cells": [
  {
   "cell_type": "markdown",
   "id": "40762822-c860-4ea7-bb59-46b0a323a9e3",
   "metadata": {},
   "source": [
    "### 3. Concatenation and MultiIndexes"
   ]
  },
  {
   "cell_type": "markdown",
   "id": "f1622b6f-df4c-4f05-8740-3de3ae0f0620",
   "metadata": {},
   "source": [
    "#### (a) Concatenate DataFrames"
   ]
  },
  {
   "cell_type": "code",
   "execution_count": 1,
   "id": "cc506168-5dd3-475e-a96a-c4e9629afa35",
   "metadata": {},
   "outputs": [],
   "source": [
    "import pandas as pd\n",
    "import numpy as np\n",
    "\n",
    "df1 = pd.read_csv('./strava_uncleaned_my_v2.csv',index_col=0)\n",
    "df2 = pd.read_csv('./strava_var_2.csv',index_col=0)"
   ]
  },
  {
   "cell_type": "code",
   "execution_count": 2,
   "id": "41cb7ea9-6941-4dd9-9d16-4cbfba383090",
   "metadata": {},
   "outputs": [],
   "source": [
    "df = pd.concat([df1, df2], axis=1)"
   ]
  },
  {
   "cell_type": "markdown",
   "id": "60d21a25-d782-4945-8e41-b3051aad3fa5",
   "metadata": {},
   "source": [
    "#### (b) Mean elevation gain for each year and place combination"
   ]
  },
  {
   "cell_type": "code",
   "execution_count": 4,
   "id": "4c36331b-8ab0-48be-9ec9-e586b94d2030",
   "metadata": {},
   "outputs": [],
   "source": [
    "# year_place = set(zip(df.year, df.place))\n",
    "elevations = df.groupby(['year', 'place'])[['total_elevation_gain']].mean()"
   ]
  },
  {
   "cell_type": "code",
   "execution_count": 5,
   "id": "858b685d-4b3d-4745-9149-f26bf6bc132d",
   "metadata": {},
   "outputs": [
    {
     "name": "stdout",
     "output_type": "stream",
     "text": [
      "                total_elevation_gain\n",
      "year place                          \n",
      "2010 Mt Diablo           6987.800000\n",
      "2016 Big Sur              128.082456\n",
      "     Mt Diablo            364.811111\n",
      "     Yosemite              45.977844\n",
      "2017 Big Sur              242.746988\n",
      "     Mt Diablo            270.521569\n",
      "     Yosemite              49.861111\n",
      "2018 Big Sur               78.075472\n",
      "     Mt Diablo            361.584615\n",
      "     Yosemite              32.304040\n",
      "2019 Big Sur              524.900000\n",
      "     Mt Diablo           1188.490909\n",
      "     Yosemite             252.365000\n",
      "2020 Big Sur              122.500000\n",
      "     Mt Diablo             35.333333\n",
      "     Yosemite              66.683333\n"
     ]
    }
   ],
   "source": [
    "print(elevations)"
   ]
  },
  {
   "cell_type": "markdown",
   "id": "074b0f21-fa77-4e82-9cc4-d8e0df27dfba",
   "metadata": {},
   "source": [
    "#### (c) MultiIndex"
   ]
  },
  {
   "cell_type": "code",
   "execution_count": 6,
   "id": "47f228a7-6efe-489f-8c9a-2eae4167cda7",
   "metadata": {},
   "outputs": [],
   "source": [
    "index = elevations.index"
   ]
  },
  {
   "cell_type": "code",
   "execution_count": 7,
   "id": "8d9da0ea-e150-43e9-a1dc-430956a19a47",
   "metadata": {},
   "outputs": [
    {
     "name": "stdout",
     "output_type": "stream",
     "text": [
      "MultiIndex([(2010, 'Mt Diablo'),\n",
      "            (2016,   'Big Sur'),\n",
      "            (2016, 'Mt Diablo'),\n",
      "            (2016,  'Yosemite'),\n",
      "            (2017,   'Big Sur'),\n",
      "            (2017, 'Mt Diablo'),\n",
      "            (2017,  'Yosemite'),\n",
      "            (2018,   'Big Sur'),\n",
      "            (2018, 'Mt Diablo'),\n",
      "            (2018,  'Yosemite'),\n",
      "            (2019,   'Big Sur'),\n",
      "            (2019, 'Mt Diablo'),\n",
      "            (2019,  'Yosemite'),\n",
      "            (2020,   'Big Sur'),\n",
      "            (2020, 'Mt Diablo'),\n",
      "            (2020,  'Yosemite')],\n",
      "           names=['year', 'place'])\n"
     ]
    }
   ],
   "source": [
    "print(index)"
   ]
  }
 ],
 "metadata": {
  "kernelspec": {
   "display_name": "Python 3",
   "language": "python",
   "name": "python3"
  },
  "language_info": {
   "codemirror_mode": {
    "name": "ipython",
    "version": 3
   },
   "file_extension": ".py",
   "mimetype": "text/x-python",
   "name": "python",
   "nbconvert_exporter": "python",
   "pygments_lexer": "ipython3",
   "version": "3.7.10"
  }
 },
 "nbformat": 4,
 "nbformat_minor": 5
}
