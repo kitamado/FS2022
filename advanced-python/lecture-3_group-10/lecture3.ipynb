{
 "cells": [
  {
   "cell_type": "code",
   "execution_count": 1,
   "id": "ee5570fc-fe5a-40cb-8004-a4e75324948f",
   "metadata": {},
   "outputs": [],
   "source": [
    "import numpy as np\n",
    "data = np.load('./stroke.npy', allow_pickle=True)"
   ]
  },
  {
   "cell_type": "markdown",
   "id": "d20ffdb2-63c0-4885-be56-03fa5ae1923f",
   "metadata": {},
   "source": [
    "### 1. Stroke dataset"
   ]
  },
  {
   "cell_type": "markdown",
   "id": "324443e6-09d3-420b-aa66-644dabb1ad8c",
   "metadata": {},
   "source": [
    "#### (a) Load the dataset"
   ]
  },
  {
   "cell_type": "code",
   "execution_count": 2,
   "id": "55381d7e-50f6-4e8b-b02f-bdd0725828ea",
   "metadata": {},
   "outputs": [],
   "source": [
    "gender = data[:, 0]              # categorical, [ 0 = Male, 1 = Female, 2 = Other]\n",
    "age = data[:, 1]                 # discrete integer value\n",
    "hypertension = data[:, 2]        # categorical, [ 0 = No, 1 = Yes ]\n",
    "heart_disease = data[:, 3]       # categorical, [ 0 = No, 1 = Yes ] \n",
    "ever_married = data[:, 4]        # categorical, [ 0 = No, 1 = Yes ]\n",
    "work_type = data[:, 5]           # categorical, [ 0 = Private, 1 = Self-employed, 2 = Never worked, 3 = Government, 4 = Children ]\n",
    "residence_type = data[:, 6]      # categorical, [ 0 = Urban, 1 = Rural ]\n",
    "glucose_level = data[:, 7]       # discrete integer value\n",
    "bmi = data[:, 8]                 # discrete integer value\n",
    "smoking_status = data[:, 9]      # categorical, [ 0 = Never smoked, 1 = Formerly smoked, 2 = Smokes ]\n",
    "stroke = data[:, 10]             # categorical, [ 0 = No, 1 = Yes ]"
   ]
  },
  {
   "cell_type": "markdown",
   "id": "75cfbb64-c96b-4964-b0c0-4723d3fc61ed",
   "metadata": {},
   "source": [
    "#### (b) Patient mask "
   ]
  },
  {
   "cell_type": "code",
   "execution_count": 3,
   "id": "a1c006d4-0f29-4137-aef3-b055584410b8",
   "metadata": {},
   "outputs": [
    {
     "name": "stdout",
     "output_type": "stream",
     "text": [
      "Number of stroke patients: 180\n",
      "Number of non-stroke patients: 3246\n"
     ]
    }
   ],
   "source": [
    "patient_mask = stroke == 1\n",
    "control_mask = stroke == 0\n",
    "patient_group = data[patient_mask]\n",
    "control_group = data[control_mask]\n",
    "print('Number of stroke patients:', patient_group.shape[0])\n",
    "print('Number of non-stroke patients:', control_group.shape[0])"
   ]
  },
  {
   "cell_type": "markdown",
   "id": "496c2728-eb57-4674-9a74-5c08e9404e84",
   "metadata": {},
   "source": [
    "#### (c) Calculate mean age of patients and controls"
   ]
  },
  {
   "cell_type": "code",
   "execution_count": 4,
   "id": "b0d0e4b7-bdf6-4f5a-bfbd-74480f47c57e",
   "metadata": {},
   "outputs": [
    {
     "name": "stdout",
     "output_type": "stream",
     "text": [
      "Mean age of the stroke patients: 68\n",
      "Mean age of the controls group: 47\n"
     ]
    }
   ],
   "source": [
    "print('Mean age of the stroke patients: %d' % age[patient_mask].mean())\n",
    "print('Mean age of the controls group: %d' % age[control_mask].mean())"
   ]
  },
  {
   "cell_type": "markdown",
   "id": "7fd4abb9-101c-475d-a857-859cbc4305e8",
   "metadata": {},
   "source": [
    "#### (d) BMI and heart disease in sub-groups "
   ]
  },
  {
   "cell_type": "code",
   "execution_count": 5,
   "id": "39694b04-14ab-4b3c-a407-1c02b19616df",
   "metadata": {},
   "outputs": [],
   "source": [
    "urban_smoke_mask = (residence_type == 0) & (smoking_status == 2)\n",
    "urban_nonsmoke_mask = (residence_type == 0) & (smoking_status < 2) # smoking_status == 0 or smoking_status == 1 -->  < 2\n",
    "rural_smoke_mask = (residence_type == 1) & (smoking_status == 2)\n",
    "rural_nonsmoke_mask = (residence_type == 1) & (smoking_status < 2)"
   ]
  },
  {
   "cell_type": "code",
   "execution_count": 6,
   "id": "34d107e0-56c8-4a78-965c-afba21f95cd2",
   "metadata": {},
   "outputs": [
    {
     "name": "stdout",
     "output_type": "stream",
     "text": [
      "Urban smokers: average BMI 29.7; average heart disease rate 7.2%\n",
      "Urban non-smokers: average BMI 29.8; average heart disease rate 6.0%\n",
      "Rural smokers: average BMI 30.6; average heart disease rate 7.7%\n",
      "Rural non-smokers: average BMI 29.8; average heart disease rate 5.3%\n"
     ]
    }
   ],
   "source": [
    "print('Urban smokers: average BMI %.1f; average heart disease rate %.1f%%' \n",
    "      % (bmi[urban_smoke_mask].mean(), 100*heart_disease[urban_smoke_mask].sum()/heart_disease[urban_smoke_mask].shape[0]))\n",
    "print('Urban non-smokers: average BMI %.1f; average heart disease rate %.1f%%' \n",
    "      % (bmi[urban_nonsmoke_mask].mean(), 100*heart_disease[urban_nonsmoke_mask].sum()/heart_disease[urban_nonsmoke_mask].shape[0]))\n",
    "print('Rural smokers: average BMI %.1f; average heart disease rate %.1f%%' \n",
    "      % (bmi[rural_smoke_mask].mean(), 100*heart_disease[rural_smoke_mask].sum()/heart_disease[rural_smoke_mask].shape[0]))\n",
    "print('Rural non-smokers: average BMI %.1f; average heart disease rate %.1f%%' \n",
    "      % (bmi[rural_nonsmoke_mask].mean(), 100*heart_disease[rural_nonsmoke_mask].sum()/heart_disease[rural_nonsmoke_mask].shape[0]))"
   ]
  },
  {
   "cell_type": "markdown",
   "id": "f417e9bf-2cff-412a-a9f8-d219ee76dbac",
   "metadata": {},
   "source": [
    "### 2. BMI "
   ]
  },
  {
   "cell_type": "markdown",
   "id": "6d93af2c-76d8-445b-a5a3-5cc659f09cce",
   "metadata": {},
   "source": [
    "#### (a) Patient and control group BMI"
   ]
  },
  {
   "cell_type": "markdown",
   "id": "4ed72956-ecf2-4fdc-af4a-90eb1f57a907",
   "metadata": {},
   "source": [
    "##### i. Find the average BMI in the control group"
   ]
  },
  {
   "cell_type": "code",
   "execution_count": 7,
   "id": "498a6b85-958a-49a8-8f07-d64a8872808a",
   "metadata": {},
   "outputs": [
    {
     "name": "stdout",
     "output_type": "stream",
     "text": [
      "29.824091189155883\n"
     ]
    }
   ],
   "source": [
    "avg_control_bmi = bmi[control_mask].mean()\n",
    "print(avg_control_bmi)"
   ]
  },
  {
   "cell_type": "markdown",
   "id": "a29cb171-326a-4dc4-897e-d6122e5bf77c",
   "metadata": {},
   "source": [
    "##### ii. Create two masks. One satisfying each of the following conditions:\n",
    "    - Has stroke and BMI above the control group average\n",
    "    - Has stroke and BMI below or at the control group average"
   ]
  },
  {
   "cell_type": "code",
   "execution_count": 8,
   "id": "b612dbaa-78e8-4473-a8ff-5ad11d002bff",
   "metadata": {},
   "outputs": [],
   "source": [
    "high_bmi_patient_mask = (stroke == 1) & (bmi > avg_control_bmi)\n",
    "low_bmi_patient_mask = (stroke == 1) & (bmi <= avg_control_bmi)"
   ]
  },
  {
   "cell_type": "markdown",
   "id": "343de844-2194-4fc7-b955-2aaff3eaf183",
   "metadata": {},
   "source": [
    "##### iii. Print number and percentage of stroke patients with BMI above the average in the control group"
   ]
  },
  {
   "cell_type": "code",
   "execution_count": 9,
   "id": "cbc2e9e0-6727-41c5-a50c-c55a13d69ab1",
   "metadata": {},
   "outputs": [
    {
     "name": "stdout",
     "output_type": "stream",
     "text": [
      "Number of stroke patients with BMI above the average in the control group: 86\n",
      "Percentage of stroke patients with BMI above the average in the control group: 47.8%\n"
     ]
    }
   ],
   "source": [
    "print('Number of stroke patients with BMI above the average in the control group: %d' \n",
    "      % np.sum(high_bmi_patient_mask))\n",
    "print('Percentage of stroke patients with BMI above the average in the control group: %.1f%%' \n",
    "      % (100.0*np.sum(high_bmi_patient_mask) / patient_group.shape[0]))"
   ]
  },
  {
   "cell_type": "markdown",
   "id": "f518fe51-cafe-49a8-8b71-d7bda36c71c9",
   "metadata": {},
   "source": [
    "##### iv. Create two arrays:\n",
    "    - One holding the index of the stroke patients with a BMI above the control group average\n",
    "    - One holding the index of the patients with a BMI at or below the control group average"
   ]
  },
  {
   "cell_type": "code",
   "execution_count": 10,
   "id": "95c6fd72-3e75-4ccf-b540-a97ca6bb22ea",
   "metadata": {},
   "outputs": [],
   "source": [
    "high_bmi_indices = np.argwhere(high_bmi_patient_mask).squeeze(axis=1)\n",
    "low_bmi_indices = np.argwhere(low_bmi_patient_mask).squeeze(axis=1)"
   ]
  },
  {
   "cell_type": "markdown",
   "id": "b20481a9-28d7-4568-9722-de9be8f3da42",
   "metadata": {},
   "source": [
    "#### (b) Patients with high BMI and heart disease\n"
   ]
  },
  {
   "cell_type": "code",
   "execution_count": 11,
   "id": "14b20305-9632-48fd-bdf6-1af3b4ded02b",
   "metadata": {},
   "outputs": [
    {
     "name": "stdout",
     "output_type": "stream",
     "text": [
      "Number of stroke patients with a BMI above the control group average that has a heart disease:  20\n",
      "Number of stroke patients with a BMI at/below the control group average that has a heart disease:  16\n"
     ]
    }
   ],
   "source": [
    "print('Number of stroke patients with a BMI above the control group average that has a heart disease: ' \n",
    "      ,patient_group[high_bmi_indices,:][:,3].sum())\n",
    "print('Number of stroke patients with a BMI at/below the control group average that has a heart disease: ' \n",
    "      ,patient_group[low_bmi_indices,:][:,3].sum())"
   ]
  },
  {
   "cell_type": "markdown",
   "id": "3f0880fb-8749-48c7-8a6d-d912d3f117ec",
   "metadata": {},
   "source": [
    "### 3. Age"
   ]
  },
  {
   "cell_type": "code",
   "execution_count": 12,
   "id": "325ffb15-a8cc-4a23-b6c0-785d31309a4d",
   "metadata": {},
   "outputs": [],
   "source": [
    "age_sorted_data = data[data[:, 1].argsort()]\n",
    "age_900th = age_sorted_data[900,1]"
   ]
  },
  {
   "cell_type": "code",
   "execution_count": 13,
   "id": "a4bc46dd-24b7-453c-896a-fbfc378b0931",
   "metadata": {},
   "outputs": [],
   "source": [
    "data_as_old = age_sorted_data[age_sorted_data[:,1] == age_900th]"
   ]
  },
  {
   "cell_type": "code",
   "execution_count": 14,
   "id": "1ab9d306-86e6-434a-95e2-43eb64fcd774",
   "metadata": {},
   "outputs": [
    {
     "name": "stdout",
     "output_type": "stream",
     "text": [
      "Age of the 900th youngest:  34\n",
      "Number of individuals age 34: 47\n"
     ]
    }
   ],
   "source": [
    "print('Age of the 900th youngest: ', age_900th)\n",
    "print('Number of individuals age %d: %d' % (age_900th, data_as_old.shape[0]))"
   ]
  }
 ],
 "metadata": {
  "kernelspec": {
   "display_name": "Python 3",
   "language": "python",
   "name": "python3"
  },
  "language_info": {
   "codemirror_mode": {
    "name": "ipython",
    "version": 3
   },
   "file_extension": ".py",
   "mimetype": "text/x-python",
   "name": "python",
   "nbconvert_exporter": "python",
   "pygments_lexer": "ipython3",
   "version": "3.7.10"
  }
 },
 "nbformat": 4,
 "nbformat_minor": 5
}
