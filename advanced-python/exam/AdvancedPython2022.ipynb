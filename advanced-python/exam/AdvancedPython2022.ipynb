{
 "cells": [
  {
   "cell_type": "markdown",
   "id": "665711eb-0c9d-4831-9d2c-a325c3a17cac",
   "metadata": {},
   "source": [
    "# Advanced python 2022 Spring Exam\n"
   ]
  },
  {
   "cell_type": "markdown",
   "id": "159716e7-081a-4a13-85e7-fdcd545bc8d9",
   "metadata": {},
   "source": [
    "Shunyu Wu\n",
    "21-119-631"
   ]
  },
  {
   "cell_type": "code",
   "execution_count": 5,
   "id": "f39fd869-606a-4756-aa37-0dd64d7f83d2",
   "metadata": {},
   "outputs": [],
   "source": [
    "import matplotlib.pyplot as plt\n",
    "import numpy as np\n",
    "import pandas as pd"
   ]
  },
  {
   "cell_type": "markdown",
   "id": "89b2bbe1-7b8e-4c7c-b25f-907eaba67dd2",
   "metadata": {},
   "source": [
    "### 2. Working with numerial data"
   ]
  },
  {
   "cell_type": "code",
   "execution_count": 15,
   "id": "0781a2e2-a09c-4d33-967c-6c87fbb4c735",
   "metadata": {},
   "outputs": [
    {
     "name": "stdout",
     "output_type": "stream",
     "text": [
      "3\n"
     ]
    }
   ],
   "source": [
    "# 2a\n",
    "arr_1 = np.array([4, 9, 0, 6, 2])\n",
    "for i in range(len(arr_1)):\n",
    "    if arr_1[i] == arr_1_sorted[-2]:\n",
    "        print(i)"
   ]
  },
  {
   "cell_type": "code",
   "execution_count": 16,
   "id": "88cfcbcd-e81d-41b7-8092-0145096782a1",
   "metadata": {},
   "outputs": [],
   "source": [
    "# 2b\n",
    "arr_2 = np.arange(12).reshape(4,3)"
   ]
  },
  {
   "cell_type": "code",
   "execution_count": 21,
   "id": "951a84d6-cee0-4868-9b9f-864946a8bb9a",
   "metadata": {},
   "outputs": [
    {
     "name": "stdout",
     "output_type": "stream",
     "text": [
      "[ 1.  4.  7. 10.]\n"
     ]
    }
   ],
   "source": [
    "print(np.mean(arr_2.T, axis=0))"
   ]
  },
  {
   "cell_type": "code",
   "execution_count": 24,
   "id": "93562781-cadb-4335-a657-1a8d1d2973f8",
   "metadata": {},
   "outputs": [
    {
     "data": {
      "text/plain": [
       "array([[1., 1., 1.],\n",
       "       [1., 1., 1.],\n",
       "       [1., 1., 1.],\n",
       "       [1., 1., 1.],\n",
       "       [1., 1., 1.],\n",
       "       [1., 1., 1.],\n",
       "       [1., 1., 1.],\n",
       "       [1., 1., 1.],\n",
       "       [1., 1., 1.]])"
      ]
     },
     "metadata": {},
     "output_type": "display_data"
    },
    {
     "data": {
      "text/plain": [
       "array([[1., 1., 1.]])"
      ]
     },
     "metadata": {},
     "output_type": "display_data"
    },
    {
     "data": {
      "text/plain": [
       "array([[1.],\n",
       "       [1.],\n",
       "       [1.]])"
      ]
     },
     "metadata": {},
     "output_type": "display_data"
    }
   ],
   "source": [
    "# 2c\n",
    "arr_3 = np.ones((9, 3)) \n",
    "arr_3_a = np.ones((1, 3)) \n",
    "arr_3_b = np.ones((3, 1))\n",
    "display(arr_3, arr_3_a, arr_3_b)"
   ]
  },
  {
   "cell_type": "code",
   "execution_count": 26,
   "id": "ad78275e-af9a-4a2a-a16c-03c2d36ac0dc",
   "metadata": {},
   "outputs": [
    {
     "data": {
      "text/plain": [
       "array([[2., 2., 2.],\n",
       "       [2., 2., 2.],\n",
       "       [2., 2., 2.],\n",
       "       [2., 2., 2.],\n",
       "       [2., 2., 2.],\n",
       "       [2., 2., 2.],\n",
       "       [2., 2., 2.],\n",
       "       [2., 2., 2.],\n",
       "       [2., 2., 2.]])"
      ]
     },
     "execution_count": 26,
     "metadata": {},
     "output_type": "execute_result"
    }
   ],
   "source": [
    "# arr_3+arr_3_a works, because arr_3_a can be broadcasted from shape(1,3) to shape(9,3), then they match and add\n",
    "arr_3+arr_3_a"
   ]
  },
  {
   "cell_type": "code",
   "execution_count": 33,
   "id": "2525745c-7d6e-49ae-8a1e-f37a509691e2",
   "metadata": {},
   "outputs": [
    {
     "data": {
      "text/plain": [
       "array([[[2., 2., 2.],\n",
       "        [2., 2., 2.],\n",
       "        [2., 2., 2.],\n",
       "        [2., 2., 2.],\n",
       "        [2., 2., 2.],\n",
       "        [2., 2., 2.],\n",
       "        [2., 2., 2.],\n",
       "        [2., 2., 2.],\n",
       "        [2., 2., 2.]],\n",
       "\n",
       "       [[2., 2., 2.],\n",
       "        [2., 2., 2.],\n",
       "        [2., 2., 2.],\n",
       "        [2., 2., 2.],\n",
       "        [2., 2., 2.],\n",
       "        [2., 2., 2.],\n",
       "        [2., 2., 2.],\n",
       "        [2., 2., 2.],\n",
       "        [2., 2., 2.]],\n",
       "\n",
       "       [[2., 2., 2.],\n",
       "        [2., 2., 2.],\n",
       "        [2., 2., 2.],\n",
       "        [2., 2., 2.],\n",
       "        [2., 2., 2.],\n",
       "        [2., 2., 2.],\n",
       "        [2., 2., 2.],\n",
       "        [2., 2., 2.],\n",
       "        [2., 2., 2.]]])"
      ]
     },
     "execution_count": 33,
     "metadata": {},
     "output_type": "execute_result"
    }
   ],
   "source": [
    "# arr_3+arr_3_b cannot be performed because arr_3_b is of shape (3, 1) cannot be automatically broadcast to match (9,3) \n",
    "# the solution would be to use (:, np.newaxis) then it becomes (3,1,1) and add result is of shape (3,9,3)\n",
    "arr_3 + arr_3_b[:, np.newaxis]"
   ]
  },
  {
   "cell_type": "code",
   "execution_count": 40,
   "id": "6d1ef421-b40f-4b20-a7af-d44d718ddcc9",
   "metadata": {},
   "outputs": [],
   "source": [
    "# 2d\n",
    "arr_4 = np.arange(50, 100).reshape(5,10) \n",
    "arr_4_a = [[62, 63], \n",
    "           [72, 73]] # 1 point \n",
    "arr_4_b = [[62, 65, 68] ,\n",
    "           [82, 85, 88]] # 1 point"
   ]
  },
  {
   "cell_type": "code",
   "execution_count": 41,
   "id": "f964a4f4-44d8-4b43-b824-82819eaca056",
   "metadata": {},
   "outputs": [
    {
     "data": {
      "text/plain": [
       "array([[50, 51, 52, 53, 54, 55, 56, 57, 58, 59],\n",
       "       [60, 61, 62, 63, 64, 65, 66, 67, 68, 69],\n",
       "       [70, 71, 72, 73, 74, 75, 76, 77, 78, 79],\n",
       "       [80, 81, 82, 83, 84, 85, 86, 87, 88, 89],\n",
       "       [90, 91, 92, 93, 94, 95, 96, 97, 98, 99]])"
      ]
     },
     "execution_count": 41,
     "metadata": {},
     "output_type": "execute_result"
    }
   ],
   "source": [
    "arr_4"
   ]
  },
  {
   "cell_type": "code",
   "execution_count": 47,
   "id": "69c64724-c65a-40b1-8a5a-0c5cba869df5",
   "metadata": {},
   "outputs": [
    {
     "data": {
      "text/plain": [
       "array([[62, 63],\n",
       "       [72, 73]])"
      ]
     },
     "metadata": {},
     "output_type": "display_data"
    },
    {
     "data": {
      "text/plain": [
       "array([[ True,  True],\n",
       "       [ True,  True]])"
      ]
     },
     "execution_count": 47,
     "metadata": {},
     "output_type": "execute_result"
    }
   ],
   "source": [
    "arr_4_a_sl = arr_4[1:3, 2:4]\n",
    "display(arr_4_a_sl)\n",
    "arr_4_a_sl == arr_4_a"
   ]
  },
  {
   "cell_type": "code",
   "execution_count": 49,
   "id": "fcb6b743-a97c-4e0d-b7bb-4c47afba80ea",
   "metadata": {},
   "outputs": [
    {
     "data": {
      "text/plain": [
       "array([[62, 65, 68],\n",
       "       [82, 85, 88]])"
      ]
     },
     "metadata": {},
     "output_type": "display_data"
    },
    {
     "data": {
      "text/plain": [
       "array([[ True,  True,  True],\n",
       "       [ True,  True,  True]])"
      ]
     },
     "execution_count": 49,
     "metadata": {},
     "output_type": "execute_result"
    }
   ],
   "source": [
    "arr_4_b_sl = arr_4[1::2, 2::3]\n",
    "display(arr_4_b_sl)\n",
    "arr_4_b_sl == arr_4_b"
   ]
  },
  {
   "cell_type": "markdown",
   "id": "09d01608-2a23-486a-8754-c2965899f473",
   "metadata": {},
   "source": [
    "# 3 DataFrames\n"
   ]
  },
  {
   "cell_type": "code",
   "execution_count": 66,
   "id": "a566b1fa-b85a-4d84-b50a-634112e7954e",
   "metadata": {},
   "outputs": [],
   "source": [
    "# 3a\n",
    "df = pd.read_csv('./Resources/SBB.csv')"
   ]
  },
  {
   "cell_type": "code",
   "execution_count": 68,
   "id": "72cdd545-512c-4192-909f-fa90f8d4dd8e",
   "metadata": {},
   "outputs": [],
   "source": [
    "# 3b\n",
    "from datetime import datetime\n",
    "df['Arrival'] = pd.to_datetime(df['Arrival'])\n",
    "df['Arrival_predicted'] = pd.to_datetime(df['Arrival_predicted'])\n",
    "df['Departure'] = pd.to_datetime(df['Departure'])"
   ]
  },
  {
   "cell_type": "code",
   "execution_count": 69,
   "id": "3ad420be-5f9a-4837-8174-34953568c22c",
   "metadata": {},
   "outputs": [],
   "source": [
    "# 3c\n",
    "df['delay'] = (df['Arrival'] - df['Arrival_predicted']).dt.total_seconds()"
   ]
  },
  {
   "cell_type": "code",
   "execution_count": 85,
   "id": "f8c843cf-d9a4-4075-afc0-058e8353a08f",
   "metadata": {},
   "outputs": [
    {
     "name": "stdout",
     "output_type": "stream",
     "text": [
      "Bern delay percent: 1.56%\n",
      "Lausanne delay percent: 9.37%\n",
      "Basel delay percent: 4.78%\n"
     ]
    }
   ],
   "source": [
    "# 3d\n",
    "df_bern = df[df['Stop'] == 'Bern']\n",
    "bern_delay_percent = len(df_bern[df_bern['delay'] > 60]) / len(df[df['Stop'] == 'Bern'])\n",
    "print('Bern delay percent: {:2.2%}'.format(bern_delay_percent))\n",
    "\n",
    "df_lau = df[df['Stop'] == 'Lausanne']\n",
    "lau_delay_percent = len(df_lau[df_lau['delay'] > 60]) / len(df[df['Stop'] == 'Lausanne'])\n",
    "print('Lausanne delay percent: {:2.2%}'.format(lau_delay_percent))\n",
    "\n",
    "df_basel = df[df['Stop'] == 'Basel SBB']\n",
    "basel_delay_percent = len(df_basel[df_basel['delay'] > 60]) / len(df[df['Stop'] == 'Basel SBB'])\n",
    "print('Basel delay percent: {:2.2%}'.format(basel_delay_percent))"
   ]
  },
  {
   "cell_type": "code",
   "execution_count": 105,
   "id": "1a1c40f6-4571-4900-9fb8-adf892080691",
   "metadata": {},
   "outputs": [
    {
     "name": "stdout",
     "output_type": "stream",
     "text": [
      "Greatest average delay line:  IR37\n",
      "Lowest average delay line:  ICE\n"
     ]
    }
   ],
   "source": [
    "# 3e\n",
    "line_delay = df.groupby('Line')['delay'].mean()\n",
    "print('Greatest average delay line: ', line_delay.idxmax())\n",
    "print('Lowest average delay line: ', line_delay.idxmin())"
   ]
  },
  {
   "cell_type": "markdown",
   "id": "50f72169-1184-46f8-aebb-79a406e7323b",
   "metadata": {},
   "source": [
    "# 4 Plotting"
   ]
  },
  {
   "cell_type": "code",
   "execution_count": 6,
   "id": "ee56e071-4b8a-4cef-b164-3a4efc3b97cc",
   "metadata": {},
   "outputs": [],
   "source": [
    "# 4a\n",
    "df = pd.read_csv('./Resources/station_users.csv')"
   ]
  },
  {
   "cell_type": "code",
   "execution_count": 107,
   "id": "b62b7617-879e-4998-89ec-16773d3c852a",
   "metadata": {},
   "outputs": [
    {
     "data": {
      "text/html": [
       "<div>\n",
       "<style scoped>\n",
       "    .dataframe tbody tr th:only-of-type {\n",
       "        vertical-align: middle;\n",
       "    }\n",
       "\n",
       "    .dataframe tbody tr th {\n",
       "        vertical-align: top;\n",
       "    }\n",
       "\n",
       "    .dataframe thead th {\n",
       "        text-align: right;\n",
       "    }\n",
       "</style>\n",
       "<table border=\"1\" class=\"dataframe\">\n",
       "  <thead>\n",
       "    <tr style=\"text-align: right;\">\n",
       "      <th></th>\n",
       "      <th>Station</th>\n",
       "      <th>2013</th>\n",
       "      <th>2014</th>\n",
       "      <th>2015</th>\n",
       "      <th>2016</th>\n",
       "      <th>2017</th>\n",
       "      <th>2018</th>\n",
       "      <th>2019</th>\n",
       "      <th>2020</th>\n",
       "      <th>2021</th>\n",
       "    </tr>\n",
       "  </thead>\n",
       "  <tbody>\n",
       "    <tr>\n",
       "      <th>0</th>\n",
       "      <td>Luzern</td>\n",
       "      <td>160000</td>\n",
       "      <td>157000</td>\n",
       "      <td>159000</td>\n",
       "      <td>163000</td>\n",
       "      <td>164000</td>\n",
       "      <td>167000</td>\n",
       "      <td>167000</td>\n",
       "      <td>105000</td>\n",
       "      <td>102000</td>\n",
       "    </tr>\n",
       "    <tr>\n",
       "      <th>1</th>\n",
       "      <td>Basel SBB</td>\n",
       "      <td>134000</td>\n",
       "      <td>135000</td>\n",
       "      <td>134000</td>\n",
       "      <td>135000</td>\n",
       "      <td>133000</td>\n",
       "      <td>134000</td>\n",
       "      <td>136000</td>\n",
       "      <td>92000</td>\n",
       "      <td>96000</td>\n",
       "    </tr>\n",
       "    <tr>\n",
       "      <th>2</th>\n",
       "      <td>Bern</td>\n",
       "      <td>306000</td>\n",
       "      <td>305000</td>\n",
       "      <td>313000</td>\n",
       "      <td>318000</td>\n",
       "      <td>324000</td>\n",
       "      <td>326000</td>\n",
       "      <td>330000</td>\n",
       "      <td>228000</td>\n",
       "      <td>229000</td>\n",
       "    </tr>\n",
       "    <tr>\n",
       "      <th>3</th>\n",
       "      <td>Lausanne</td>\n",
       "      <td>139000</td>\n",
       "      <td>140000</td>\n",
       "      <td>143000</td>\n",
       "      <td>149000</td>\n",
       "      <td>148000</td>\n",
       "      <td>145000</td>\n",
       "      <td>152000</td>\n",
       "      <td>97000</td>\n",
       "      <td>103000</td>\n",
       "    </tr>\n",
       "    <tr>\n",
       "      <th>4</th>\n",
       "      <td>Zurich HB</td>\n",
       "      <td>429000</td>\n",
       "      <td>437000</td>\n",
       "      <td>437000</td>\n",
       "      <td>439000</td>\n",
       "      <td>438000</td>\n",
       "      <td>443000</td>\n",
       "      <td>461000</td>\n",
       "      <td>295000</td>\n",
       "      <td>286000</td>\n",
       "    </tr>\n",
       "  </tbody>\n",
       "</table>\n",
       "</div>"
      ],
      "text/plain": [
       "     Station    2013    2014    2015    2016    2017    2018    2019    2020  \\\n",
       "0     Luzern  160000  157000  159000  163000  164000  167000  167000  105000   \n",
       "1  Basel SBB  134000  135000  134000  135000  133000  134000  136000   92000   \n",
       "2       Bern  306000  305000  313000  318000  324000  326000  330000  228000   \n",
       "3   Lausanne  139000  140000  143000  149000  148000  145000  152000   97000   \n",
       "4  Zurich HB  429000  437000  437000  439000  438000  443000  461000  295000   \n",
       "\n",
       "     2021  \n",
       "0  102000  \n",
       "1   96000  \n",
       "2  229000  \n",
       "3  103000  \n",
       "4  286000  "
      ]
     },
     "execution_count": 107,
     "metadata": {},
     "output_type": "execute_result"
    }
   ],
   "source": [
    "df"
   ]
  },
  {
   "cell_type": "code",
   "execution_count": null,
   "id": "b56614c2-1bdf-42fe-a2e0-83b6aded2998",
   "metadata": {},
   "outputs": [],
   "source": [
    "# 4b\n",
    "\n",
    "plt.show()"
   ]
  },
  {
   "cell_type": "markdown",
   "id": "31d73bab-ebdc-40f2-8242-88c524f0081e",
   "metadata": {},
   "source": [
    "# 5 python knowledge"
   ]
  },
  {
   "cell_type": "code",
   "execution_count": 113,
   "id": "056a5141-bb54-4487-9685-391a52193ff3",
   "metadata": {},
   "outputs": [
    {
     "name": "stdout",
     "output_type": "stream",
     "text": [
      "['Blake', 'Karl', 'Anders', 'Jillian']\n"
     ]
    }
   ],
   "source": [
    "# 5a\n",
    "def ex_5a():\n",
    "    names_1 = ['Blake', 'Adam', 'Anders', 'Jillian'] \n",
    "    names_2 = names_1 \n",
    "    names_2[1] = 'Karl' \n",
    "    print(names_1)\n",
    "    \n",
    "ex_5a()"
   ]
  },
  {
   "cell_type": "code",
   "execution_count": null,
   "id": "864bc28c-f98e-4455-81f0-b8b6a92722bf",
   "metadata": {},
   "outputs": [],
   "source": [
    "# 'Blake', 'Karl', 'Anders', 'Jillian'] will be printed becasue names_2 and names_1 point to the same position.\n",
    "# and Karl is changed in names_2[1] so as in names_1"
   ]
  },
  {
   "cell_type": "code",
   "execution_count": null,
   "id": "d16e140b-d602-476a-971b-23ffacd8cd99",
   "metadata": {},
   "outputs": [],
   "source": [
    "# 5b\n",
    "def ex_5b():\n",
    "    try:\n",
    "        names = ['Blake', 'Adam', 'Anders', 'Jillian'] \n",
    "        update_index = int(input('Index to update > ')) \n",
    "        update_value = input('New name to add > ') \n",
    "        names[update_index] = update_value\n",
    "        assert update_index < len(names)\n",
    "    except:\n",
    "        print(\"Index must be within range!\")\n"
   ]
  }
 ],
 "metadata": {
  "kernelspec": {
   "display_name": "Python 3",
   "language": "python",
   "name": "python3"
  },
  "language_info": {
   "codemirror_mode": {
    "name": "ipython",
    "version": 3
   },
   "file_extension": ".py",
   "mimetype": "text/x-python",
   "name": "python",
   "nbconvert_exporter": "python",
   "pygments_lexer": "ipython3",
   "version": "3.7.10"
  }
 },
 "nbformat": 4,
 "nbformat_minor": 5
}
