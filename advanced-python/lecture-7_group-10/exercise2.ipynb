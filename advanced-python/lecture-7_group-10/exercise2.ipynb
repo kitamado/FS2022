{
 "cells": [
  {
   "cell_type": "code",
   "execution_count": 1,
   "id": "913a4bb4-086c-4976-93ab-6ee23e3a81ff",
   "metadata": {},
   "outputs": [],
   "source": [
    "import pandas as pd\n",
    "import numpy as np\n",
    "import matplotlib.pyplot as plt\n",
    "import seaborn as sns"
   ]
  },
  {
   "cell_type": "markdown",
   "id": "112fff86-30bd-4340-ad86-3ce9218ecf35",
   "metadata": {},
   "source": [
    "### 2. Substrings"
   ]
  },
  {
   "cell_type": "markdown",
   "id": "dde1ec25-6ca3-454d-878a-9b6d8407950b",
   "metadata": {},
   "source": [
    "#### (a) Masks"
   ]
  },
  {
   "cell_type": "code",
   "execution_count": 2,
   "id": "4c95ac6d-c6f3-4e01-8e34-55e567dafafd",
   "metadata": {},
   "outputs": [],
   "source": [
    "df = pd.read_csv('world_happiness_report_v2.csv')\n"
   ]
  },
  {
   "cell_type": "code",
   "execution_count": 3,
   "id": "25a4a2cb-4dcb-4904-aa7a-6664c19b5e56",
   "metadata": {},
   "outputs": [],
   "source": [
    "mask_N = df['Country name'].str.startswith('N')\n",
    "mask_2017 = df['year'] == 2017"
   ]
  },
  {
   "cell_type": "code",
   "execution_count": 4,
   "id": "ace3a8e6-bed4-4790-9e95-f965c15c4050",
   "metadata": {},
   "outputs": [],
   "source": [
    "matched_countries = df[mask_N & mask_2017]['Country name']"
   ]
  },
  {
   "cell_type": "code",
   "execution_count": 5,
   "id": "ea66661e-3c94-4ed1-9efe-95d31b7fedd0",
   "metadata": {},
   "outputs": [
    {
     "name": "stdout",
     "output_type": "stream",
     "text": [
      "1193            Namibia\n",
      "1208              Nepal\n",
      "1221        Netherlands\n",
      "1235        New Zealand\n",
      "1250          Nicaragua\n",
      "1264              Niger\n",
      "1276            Nigeria\n",
      "1296    North Macedonia\n",
      "1306             Norway\n",
      "Name: Country name, dtype: object\n"
     ]
    }
   ],
   "source": [
    "print(matched_countries)"
   ]
  },
  {
   "cell_type": "markdown",
   "id": "edee62c0-7cf9-4a94-ab9b-5a288d220c45",
   "metadata": {},
   "source": [
    "#### (b) Length of strings"
   ]
  },
  {
   "cell_type": "code",
   "execution_count": 6,
   "id": "7f486df6-1358-47a7-9a6f-5c1914528123",
   "metadata": {},
   "outputs": [
    {
     "name": "stdout",
     "output_type": "stream",
     "text": [
      "1193     7\n",
      "1208     5\n",
      "1221    11\n",
      "1235    11\n",
      "1250     9\n",
      "1264     5\n",
      "1276     7\n",
      "1296    15\n",
      "1306     6\n",
      "Name: Country name, dtype: int64\n"
     ]
    }
   ],
   "source": [
    "print(matched_countries.str.len())"
   ]
  },
  {
   "cell_type": "markdown",
   "id": "ab8f8ae8-6788-46d7-a61e-85e783e12fd8",
   "metadata": {},
   "source": [
    "#### (c) Regular expression"
   ]
  },
  {
   "cell_type": "code",
   "execution_count": 8,
   "id": "8b928d33-4e59-48af-9132-79081f21a02d",
   "metadata": {},
   "outputs": [
    {
     "name": "stdout",
     "output_type": "stream",
     "text": [
      "1193            [Namibia]\n",
      "1208                   []\n",
      "1221                   []\n",
      "1235                   []\n",
      "1250          [Nicaragua]\n",
      "1264                   []\n",
      "1276            [Nigeria]\n",
      "1296    [North Macedonia]\n",
      "1306                   []\n",
      "Name: Country name, dtype: object\n"
     ]
    }
   ],
   "source": [
    "print(matched_countries.str.findall(r'.*a$'))"
   ]
  }
 ],
 "metadata": {
  "kernelspec": {
   "display_name": "Python 3",
   "language": "python",
   "name": "python3"
  },
  "language_info": {
   "codemirror_mode": {
    "name": "ipython",
    "version": 3
   },
   "file_extension": ".py",
   "mimetype": "text/x-python",
   "name": "python",
   "nbconvert_exporter": "python",
   "pygments_lexer": "ipython3",
   "version": "3.7.10"
  }
 },
 "nbformat": 4,
 "nbformat_minor": 5
}
