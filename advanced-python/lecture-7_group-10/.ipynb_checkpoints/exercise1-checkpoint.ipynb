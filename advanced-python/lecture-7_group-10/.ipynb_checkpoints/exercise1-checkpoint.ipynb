{
 "cells": [
  {
   "cell_type": "code",
   "execution_count": 1,
   "id": "e0f44b5e-51b7-43bd-81c1-6e1ca97064c8",
   "metadata": {},
   "outputs": [],
   "source": [
    "import pandas as pd\n",
    "import numpy as np\n",
    "import matplotlib.pyplot as plt\n",
    "import seaborn as sns"
   ]
  },
  {
   "cell_type": "markdown",
   "id": "a3f0503b-1a75-457a-9cb5-da80513c7763",
   "metadata": {},
   "source": [
    "### 1. World happiness report"
   ]
  },
  {
   "cell_type": "markdown",
   "id": "b0572612-9792-41f5-ad1d-95107cfb6fb7",
   "metadata": {},
   "source": [
    "#### (a) Regions "
   ]
  },
  {
   "cell_type": "code",
   "execution_count": 2,
   "id": "12caec5b-6d75-4f75-ba14-9fec6e15474c",
   "metadata": {},
   "outputs": [],
   "source": [
    "df_whr = pd.read_csv('world_happiness_report.csv')\n",
    "df_rg = pd.read_csv('region.csv')\n",
    "df_rg.rename(columns={'name': 'Country name'}, inplace=True)"
   ]
  },
  {
   "cell_type": "code",
   "execution_count": 3,
   "id": "03ee3335-eef6-47ae-ad43-647a712492a6",
   "metadata": {},
   "outputs": [
    {
     "data": {
      "text/plain": [
       "Index(['Country name', 'year', 'Life Ladder', 'Log GDP per capita',\n",
       "       'Social support', 'Healthy life expectancy at birth',\n",
       "       'Freedom to make life choices', 'Generosity',\n",
       "       'Perceptions of corruption', 'Positive affect', 'Negative affect',\n",
       "       'region'],\n",
       "      dtype='object')"
      ]
     },
     "execution_count": 3,
     "metadata": {},
     "output_type": "execute_result"
    }
   ],
   "source": [
    "df = pd.merge(df_whr,df_rg[['Country name','region']],on='Country name', how='left')\n",
    "df.columns"
   ]
  },
  {
   "cell_type": "markdown",
   "id": "1f5c73dc-7466-4868-aa3f-d62dc885b226",
   "metadata": {},
   "source": [
    "#### (b) Life-expectancy "
   ]
  },
  {
   "cell_type": "code",
   "execution_count": 10,
   "id": "10750222-795e-44a8-bd45-713e6dfd157a",
   "metadata": {},
   "outputs": [
    {
     "data": {
      "text/html": [
       "<div>\n",
       "<style scoped>\n",
       "    .dataframe tbody tr th:only-of-type {\n",
       "        vertical-align: middle;\n",
       "    }\n",
       "\n",
       "    .dataframe tbody tr th {\n",
       "        vertical-align: top;\n",
       "    }\n",
       "\n",
       "    .dataframe thead th {\n",
       "        text-align: right;\n",
       "    }\n",
       "</style>\n",
       "<table border=\"1\" class=\"dataframe\">\n",
       "  <thead>\n",
       "    <tr style=\"text-align: right;\">\n",
       "      <th>year</th>\n",
       "      <th>2005</th>\n",
       "      <th>2006</th>\n",
       "      <th>2007</th>\n",
       "      <th>2008</th>\n",
       "      <th>2009</th>\n",
       "      <th>2010</th>\n",
       "      <th>2011</th>\n",
       "      <th>2012</th>\n",
       "      <th>2013</th>\n",
       "      <th>2014</th>\n",
       "      <th>2015</th>\n",
       "      <th>2016</th>\n",
       "      <th>2017</th>\n",
       "      <th>2018</th>\n",
       "      <th>2019</th>\n",
       "      <th>2020</th>\n",
       "    </tr>\n",
       "    <tr>\n",
       "      <th>region</th>\n",
       "      <th></th>\n",
       "      <th></th>\n",
       "      <th></th>\n",
       "      <th></th>\n",
       "      <th></th>\n",
       "      <th></th>\n",
       "      <th></th>\n",
       "      <th></th>\n",
       "      <th></th>\n",
       "      <th></th>\n",
       "      <th></th>\n",
       "      <th></th>\n",
       "      <th></th>\n",
       "      <th></th>\n",
       "      <th></th>\n",
       "      <th></th>\n",
       "    </tr>\n",
       "  </thead>\n",
       "  <tbody>\n",
       "    <tr>\n",
       "      <th>Africa</th>\n",
       "      <td>59.700000</td>\n",
       "      <td>47.149091</td>\n",
       "      <td>48.010476</td>\n",
       "      <td>49.740769</td>\n",
       "      <td>51.669091</td>\n",
       "      <td>52.576000</td>\n",
       "      <td>53.174444</td>\n",
       "      <td>54.541935</td>\n",
       "      <td>54.055000</td>\n",
       "      <td>54.698857</td>\n",
       "      <td>54.848485</td>\n",
       "      <td>55.494444</td>\n",
       "      <td>56.044737</td>\n",
       "      <td>57.156757</td>\n",
       "      <td>57.524324</td>\n",
       "      <td>59.031250</td>\n",
       "    </tr>\n",
       "    <tr>\n",
       "      <th>Americas</th>\n",
       "      <td>66.550000</td>\n",
       "      <td>64.386667</td>\n",
       "      <td>65.096190</td>\n",
       "      <td>64.544545</td>\n",
       "      <td>66.068000</td>\n",
       "      <td>64.642857</td>\n",
       "      <td>64.980000</td>\n",
       "      <td>65.286364</td>\n",
       "      <td>65.722609</td>\n",
       "      <td>66.061739</td>\n",
       "      <td>66.614286</td>\n",
       "      <td>66.828571</td>\n",
       "      <td>66.891304</td>\n",
       "      <td>67.335000</td>\n",
       "      <td>68.023810</td>\n",
       "      <td>68.300000</td>\n",
       "    </tr>\n",
       "    <tr>\n",
       "      <th>Asia</th>\n",
       "      <td>63.371429</td>\n",
       "      <td>63.132308</td>\n",
       "      <td>62.586207</td>\n",
       "      <td>62.742424</td>\n",
       "      <td>63.537838</td>\n",
       "      <td>63.835135</td>\n",
       "      <td>63.745854</td>\n",
       "      <td>63.408500</td>\n",
       "      <td>63.836500</td>\n",
       "      <td>64.179487</td>\n",
       "      <td>64.263415</td>\n",
       "      <td>64.708333</td>\n",
       "      <td>64.900000</td>\n",
       "      <td>65.268421</td>\n",
       "      <td>65.700000</td>\n",
       "      <td>66.391667</td>\n",
       "    </tr>\n",
       "    <tr>\n",
       "      <th>Europe</th>\n",
       "      <td>69.164286</td>\n",
       "      <td>66.280000</td>\n",
       "      <td>66.657600</td>\n",
       "      <td>68.382727</td>\n",
       "      <td>67.831111</td>\n",
       "      <td>68.446875</td>\n",
       "      <td>68.469412</td>\n",
       "      <td>68.975676</td>\n",
       "      <td>68.957714</td>\n",
       "      <td>69.243889</td>\n",
       "      <td>69.527027</td>\n",
       "      <td>69.794595</td>\n",
       "      <td>70.062162</td>\n",
       "      <td>70.255556</td>\n",
       "      <td>70.591667</td>\n",
       "      <td>71.026471</td>\n",
       "    </tr>\n",
       "    <tr>\n",
       "      <th>Oceania</th>\n",
       "      <td>71.400000</td>\n",
       "      <td>71.200000</td>\n",
       "      <td>71.560000</td>\n",
       "      <td>71.740000</td>\n",
       "      <td>NaN</td>\n",
       "      <td>72.100000</td>\n",
       "      <td>72.210000</td>\n",
       "      <td>72.320000</td>\n",
       "      <td>72.430000</td>\n",
       "      <td>72.540000</td>\n",
       "      <td>72.650000</td>\n",
       "      <td>72.900000</td>\n",
       "      <td>73.150000</td>\n",
       "      <td>73.400000</td>\n",
       "      <td>73.650000</td>\n",
       "      <td>73.900000</td>\n",
       "    </tr>\n",
       "  </tbody>\n",
       "</table>\n",
       "</div>"
      ],
      "text/plain": [
       "year           2005       2006       2007       2008       2009       2010  \\\n",
       "region                                                                       \n",
       "Africa    59.700000  47.149091  48.010476  49.740769  51.669091  52.576000   \n",
       "Americas  66.550000  64.386667  65.096190  64.544545  66.068000  64.642857   \n",
       "Asia      63.371429  63.132308  62.586207  62.742424  63.537838  63.835135   \n",
       "Europe    69.164286  66.280000  66.657600  68.382727  67.831111  68.446875   \n",
       "Oceania   71.400000  71.200000  71.560000  71.740000        NaN  72.100000   \n",
       "\n",
       "year           2011       2012       2013       2014       2015       2016  \\\n",
       "region                                                                       \n",
       "Africa    53.174444  54.541935  54.055000  54.698857  54.848485  55.494444   \n",
       "Americas  64.980000  65.286364  65.722609  66.061739  66.614286  66.828571   \n",
       "Asia      63.745854  63.408500  63.836500  64.179487  64.263415  64.708333   \n",
       "Europe    68.469412  68.975676  68.957714  69.243889  69.527027  69.794595   \n",
       "Oceania   72.210000  72.320000  72.430000  72.540000  72.650000  72.900000   \n",
       "\n",
       "year           2017       2018       2019       2020  \n",
       "region                                                \n",
       "Africa    56.044737  57.156757  57.524324  59.031250  \n",
       "Americas  66.891304  67.335000  68.023810  68.300000  \n",
       "Asia      64.900000  65.268421  65.700000  66.391667  \n",
       "Europe    70.062162  70.255556  70.591667  71.026471  \n",
       "Oceania   73.150000  73.400000  73.650000  73.900000  "
      ]
     },
     "execution_count": 10,
     "metadata": {},
     "output_type": "execute_result"
    }
   ],
   "source": [
    "df.groupby(['region', 'year'])['Healthy life expectancy at birth'].aggregate('mean').unstack()"
   ]
  },
  {
   "cell_type": "code",
   "execution_count": 11,
   "id": "73007299-ae7b-4568-af81-00950946ed92",
   "metadata": {},
   "outputs": [],
   "source": [
    "life_expect = df.groupby(['region', 'year'])['Healthy life expectancy at birth'].aggregate('mean').unstack()"
   ]
  },
  {
   "cell_type": "code",
   "execution_count": 12,
   "id": "f268bc33-e657-4e38-9baf-f66f5a3359ad",
   "metadata": {},
   "outputs": [
    {
     "name": "stdout",
     "output_type": "stream",
     "text": [
      "year           2005       2006       2007       2008       2009       2010  \\\n",
      "region                                                                       \n",
      "Africa    59.700000  47.149091  48.010476  49.740769  51.669091  52.576000   \n",
      "Americas  66.550000  64.386667  65.096190  64.544545  66.068000  64.642857   \n",
      "Asia      63.371429  63.132308  62.586207  62.742424  63.537838  63.835135   \n",
      "Europe    69.164286  66.280000  66.657600  68.382727  67.831111  68.446875   \n",
      "Oceania   71.400000  71.200000  71.560000  71.740000        NaN  72.100000   \n",
      "\n",
      "year           2011       2012       2013       2014       2015       2016  \\\n",
      "region                                                                       \n",
      "Africa    53.174444  54.541935  54.055000  54.698857  54.848485  55.494444   \n",
      "Americas  64.980000  65.286364  65.722609  66.061739  66.614286  66.828571   \n",
      "Asia      63.745854  63.408500  63.836500  64.179487  64.263415  64.708333   \n",
      "Europe    68.469412  68.975676  68.957714  69.243889  69.527027  69.794595   \n",
      "Oceania   72.210000  72.320000  72.430000  72.540000  72.650000  72.900000   \n",
      "\n",
      "year           2017       2018       2019       2020  \n",
      "region                                                \n",
      "Africa    56.044737  57.156757  57.524324  59.031250  \n",
      "Americas  66.891304  67.335000  68.023810  68.300000  \n",
      "Asia      64.900000  65.268421  65.700000  66.391667  \n",
      "Europe    70.062162  70.255556  70.591667  71.026471  \n",
      "Oceania   73.150000  73.400000  73.650000  73.900000  \n"
     ]
    }
   ],
   "source": [
    "print(life_expect)"
   ]
  },
  {
   "cell_type": "markdown",
   "id": "a8e564f1-ac98-4362-adbc-75a88549e2f9",
   "metadata": {},
   "source": [
    "#### (c) Pivot table for life-expectancy"
   ]
  }
 ],
 "metadata": {
  "kernelspec": {
   "display_name": "Python 3",
   "language": "python",
   "name": "python3"
  },
  "language_info": {
   "codemirror_mode": {
    "name": "ipython",
    "version": 3
   },
   "file_extension": ".py",
   "mimetype": "text/x-python",
   "name": "python",
   "nbconvert_exporter": "python",
   "pygments_lexer": "ipython3",
   "version": "3.7.10"
  }
 },
 "nbformat": 4,
 "nbformat_minor": 5
}
